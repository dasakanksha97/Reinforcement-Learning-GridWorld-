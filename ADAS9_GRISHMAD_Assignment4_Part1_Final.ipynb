{
  "nbformat": 4,
  "nbformat_minor": 0,
  "metadata": {
    "colab": {
      "name": "ADAS9_GRISHMAD_Assignment4_Part1_Final.ipynb",
      "provenance": [],
      "collapsed_sections": []
    },
    "kernelspec": {
      "name": "python3",
      "display_name": "Python 3"
    },
    "language_info": {
      "name": "python"
    }
  },
  "cells": [
    {
      "cell_type": "markdown",
      "source": [
        "<div align=\"center\"> \n",
        "    <h3><font color='blue'>CSE 574 Sections C&D: Introduction to Machine Learning, Spring 2022 </font></h3>\n",
        "    <h1> Assignment 4 </h1>\n",
        "    <h2> Part 1 : Define an RL Environment </h2>\n",
        "    <h4> Submitted By : Akanksha Das and Grishma Dharmendra Dihora</h4>\n",
        "\n",
        "<p>\"I (We) certify that the code and data in this assignment were generated independently,using only the tools and resources defined in the course and that I (we) did not receive any external help, coaching or contributions during the production of this work.\"</p>\n",
        "</div>"
      ],
      "metadata": {
        "id": "sFGn8zTWzc3k"
      }
    },
    {
      "cell_type": "code",
      "execution_count": 1,
      "metadata": {
        "colab": {
          "base_uri": "https://localhost:8080/"
        },
        "id": "gJ2NIWY_VqBq",
        "outputId": "3d9a9dca-66a9-4954-8481-a64c04493c44"
      },
      "outputs": [
        {
          "output_type": "stream",
          "name": "stdout",
          "text": [
            "Requirement already satisfied: gym in /usr/local/lib/python3.7/dist-packages (0.17.3)\n",
            "Requirement already satisfied: pyglet<=1.5.0,>=1.4.0 in /usr/local/lib/python3.7/dist-packages (from gym) (1.5.0)\n",
            "Requirement already satisfied: numpy>=1.10.4 in /usr/local/lib/python3.7/dist-packages (from gym) (1.21.6)\n",
            "Requirement already satisfied: scipy in /usr/local/lib/python3.7/dist-packages (from gym) (1.4.1)\n",
            "Requirement already satisfied: cloudpickle<1.7.0,>=1.2.0 in /usr/local/lib/python3.7/dist-packages (from gym) (1.3.0)\n",
            "Requirement already satisfied: future in /usr/local/lib/python3.7/dist-packages (from pyglet<=1.5.0,>=1.4.0->gym) (0.16.0)\n"
          ]
        }
      ],
      "source": [
        "!pip install gym"
      ]
    },
    {
      "cell_type": "code",
      "source": [
        "import numpy as np\n",
        "import matplotlib.pyplot as plt\n",
        "import gym\n",
        "from gym import spaces"
      ],
      "metadata": {
        "id": "9j4Qb7nU6RuC"
      },
      "execution_count": 2,
      "outputs": []
    },
    {
      "cell_type": "code",
      "source": [
        "up=0\n",
        "down=1\n",
        "left=2\n",
        "right=3\n",
        "actions=[up,down,left,right]"
      ],
      "metadata": {
        "id": "fUBHjZ08zSVD"
      },
      "execution_count": 3,
      "outputs": []
    },
    {
      "cell_type": "code",
      "source": [
        "grid = np.zeros((5, 5))\n",
        "print(grid)"
      ],
      "metadata": {
        "colab": {
          "base_uri": "https://localhost:8080/"
        },
        "id": "5q2ods0l6b-2",
        "outputId": "22712b23-3c1a-4fc3-b67f-e8eaa1b8b6a0"
      },
      "execution_count": 4,
      "outputs": [
        {
          "output_type": "stream",
          "name": "stdout",
          "text": [
            "[[0. 0. 0. 0. 0.]\n",
            " [0. 0. 0. 0. 0.]\n",
            " [0. 0. 0. 0. 0.]\n",
            " [0. 0. 0. 0. 0.]\n",
            " [0. 0. 0. 0. 0.]]\n"
          ]
        }
      ]
    },
    {
      "cell_type": "code",
      "source": [
        "pos1 = [4, 0]\n",
        "pos2 = [0, 4]\n",
        "\n",
        "grid[tuple(pos1)] = 1\n",
        "grid[tuple(pos2)] = 0.5\n",
        "\n",
        "print(grid)"
      ],
      "metadata": {
        "colab": {
          "base_uri": "https://localhost:8080/"
        },
        "id": "DuUnFoP26iA0",
        "outputId": "9fa02e35-72e8-4dff-ab92-31424ead3631"
      },
      "execution_count": 5,
      "outputs": [
        {
          "output_type": "stream",
          "name": "stdout",
          "text": [
            "[[0.  0.  0.  0.  0.5]\n",
            " [0.  0.  0.  0.  0. ]\n",
            " [0.  0.  0.  0.  0. ]\n",
            " [0.  0.  0.  0.  0. ]\n",
            " [1.  0.  0.  0.  0. ]]\n"
          ]
        }
      ]
    },
    {
      "cell_type": "code",
      "source": [
        "plt.imshow(grid)"
      ],
      "metadata": {
        "colab": {
          "base_uri": "https://localhost:8080/",
          "height": 282
        },
        "id": "Dm-hGSkw6r82",
        "outputId": "8771a069-9e8a-4375-cf12-d4d876df3b69"
      },
      "execution_count": 6,
      "outputs": [
        {
          "output_type": "execute_result",
          "data": {
            "text/plain": [
              "<matplotlib.image.AxesImage at 0x7f54f550c950>"
            ]
          },
          "metadata": {},
          "execution_count": 6
        },
        {
          "output_type": "display_data",
          "data": {
            "text/plain": [
              "<Figure size 432x288 with 1 Axes>"
            ],
            "image/png": "[encoded data removed]"
          },
          "metadata": {
            "needs_background": "light"
          }
        }
      ]
    },
    {
      "cell_type": "code",
      "source": [
        "class GridEnvironment(gym.Env):\n",
        "  metadata = { 'render.modes': []}\n",
        "\n",
        "  def __init__(self):\n",
        "    self.observation_space = spaces.Discrete(25)    #no. of states in the grid\n",
        "    self.action_space = spaces.Discrete(4)\n",
        "    self.max_timesteps = 25\n",
        "    \n",
        "\n",
        "  def reset(self):\n",
        "    self.timestep = 0\n",
        "    self.agent_pos = [4, 0]                 #initial posiion of the agent\n",
        "    self.goal_pos = [0, 4]                  #final position of the agent\n",
        "    self.state = np.zeros((5, 5))\n",
        "    self.state[tuple(self.agent_pos)] = 1\n",
        "    self.state[tuple(self.goal_pos)] = 0.5\n",
        "    observation = self.state.flatten()\n",
        "    return observation\n",
        "\n",
        "  def step(self, action):                   #what the agent will do at every step\n",
        "    self.state = np.random.choice(self.observation_space.n)\n",
        "    reward = 0\n",
        "    if action == 0:\n",
        "      self.agent_pos[0] += 1\n",
        "    if action == 1:\n",
        "      self.agent_pos[0] -= 1\n",
        "    if action ==2:\n",
        "      self.agent_pos[1] += 1\n",
        "    if action == 3:\n",
        "      self.agent_pos[1] -= 1\n",
        "   \n",
        "    \n",
        "    self.agent_pos = np.clip(self.agent_pos, 0, 4)\n",
        "    self.state = np.zeros((5,5))\n",
        "    self.state[tuple(self.agent_pos)] = 1\n",
        "    self.state[tuple(self.goal_pos)] = 0.5\n",
        "    observation = self.state.flatten()\n",
        "\n",
        "    if (self.agent_pos[0] == 0 and self.agent_pos[1]==0):\n",
        "      reward =5\n",
        "      print(f\"positive battery {reward}\")\n",
        "    elif(self.agent_pos[0]==0 and self.agent_pos[1]==3):\n",
        "      reward =6\n",
        "      print(f\"positive battery {reward}\")\n",
        "    elif(self.agent_pos[0]==4 and self.agent_pos[1]==3):\n",
        "      reward =-5\n",
        "      print(f'negative rock {reward}')\n",
        "    elif(self.agent_pos[0]==3 and self.agent_pos[1]==4):\n",
        "      reward =-6\n",
        "      print(f\"negative rock {reward}\")\n",
        "    \n",
        "\n",
        "    \n",
        "    if (self.agent_pos == self.goal_pos).all():\n",
        "        reward = 1\n",
        "\n",
        "    self.timestep += 1\n",
        "    \n",
        "    done = True if self.timestep >= self.max_timesteps else False\n",
        "    # done = True if reward == 1 else False\n",
        "    print(f\"Timesteps are: {self.timestep}\")\n",
        "    print(f\"State is: {self.state}\")\n",
        "    print(f\"Reward is: {reward}\")\n",
        "    print(f\"GridWorld Environment: {self.render()}\")\n",
        "    if done==True:\n",
        "      print(f\"Time step is {self.timestep}\")\n",
        "    info = {}\n",
        "\n",
        "    return observation, reward, done, info\n",
        "\n",
        "  def render(self):\n",
        "    plt.imshow(self.state)"
      ],
      "metadata": {
        "id": "UM3-Q6zv68Ib"
      },
      "execution_count": 7,
      "outputs": []
    },
    {
      "cell_type": "code",
      "source": [
        "class RandomAgent:\n",
        "  def __init__(self, env):\n",
        "    self.env = env\n",
        "    self.observation_space = env.observation_space\n",
        "    self.action_space = env.action_space\n",
        "\n",
        "  def step(self, observation):\n",
        "    return np.random.choice(self.action_space.n)"
      ],
      "metadata": {
        "id": "nhM4AXNXkl9v"
      },
      "execution_count": 8,
      "outputs": []
    },
    {
      "cell_type": "code",
      "source": [
        "from google.colab import widgets\n",
        "import time\n",
        "\n",
        "env = GridEnvironment()\n",
        "agent = RandomAgent(env)\n",
        "\n",
        "obs = env.reset()\n",
        "done = False\n",
        "\n",
        "# output_grid = widgets.Grid(1, 1)\n",
        "# # for _ in range(6):\n",
        "# #   grid = np.zeros((5, 5))\n",
        "# #   grid[np.random.randint(5), np.random.randint(5)] = 1\n",
        "# with output_grid.output_to(0, 0):\n",
        "#     output_grid.clear_cell()\n",
        "#     plt.imshow(grid)\n",
        "#   time.sleep(1)\n",
        "\n",
        "output_grid = widgets.Grid(1, 1)\n",
        "with output_grid.output_to(0, 0):\n",
        "  env.render()\n",
        "\n",
        "\n",
        "while not done:\n",
        "  action = agent.step(obs)\n",
        "  obs, reward, done, info = env.step(action)\n",
        "  print(\"Reward\",reward)\n",
        "  print(\"Agent's action is \",action)\n",
        "  with output_grid.output_to(0, 0):\n",
        "    output_grid.clear_cell()\n",
        "    env.render()\n",
        "  time.sleep(1)\n",
        "\n"
      ],
      "metadata": {
        "colab": {
          "base_uri": "https://localhost:8080/",
          "height": 1000
        },
        "id": "ucf1aUXnkUjj",
        "outputId": "f4df4653-2ec9-4927-84ae-a0c5087eda4a"
      },
      "execution_count": 9,
      "outputs": [
        {
          "output_type": "display_data",
          "data": {
            "text/plain": [
              "<IPython.core.display.HTML object>"
            ],
            "text/html": [
              "<style>\n",
              "       table#id2, #id2 > tbody > tr > th, #id2 > tbody > tr > td {\n",
              "         border: 1px solid lightgray;\n",
              "         border-collapse:collapse;\n",
              "         \n",
              "        }</style>"
            ]
          },
          "metadata": {}
        },
        {
          "output_type": "display_data",
          "data": {
            "text/plain": [
              "<IPython.core.display.HTML object>"
            ],
            "text/html": [
              "<table id=id2><tr><td id=id2-0-0></td></tr></table>"
            ]
          },
          "metadata": {}
        },
        {
          "output_type": "display_data",
          "data": {
            "text/plain": [
              "<IPython.core.display.Javascript object>"
            ],
            "application/javascript": [
              "window[\"cd7ffab4-cf36-11ec-a82b-0242ac1c0002\"] = google.colab.output.getActiveOutputArea();\n",
              "//# sourceURL=js_4d4cb354a1"
            ]
          },
          "metadata": {}
        },
        {
          "output_type": "display_data",
          "data": {
            "text/plain": [
              "<IPython.core.display.Javascript object>"
            ],
            "application/javascript": [
              "window[\"cd80606c-cf36-11ec-a82b-0242ac1c0002\"] = document.querySelector(\"#id2-0-0\");\n",
              "//# sourceURL=js_7c7a428c2d"
            ]
          },
          "metadata": {}
        },
        {
          "output_type": "display_data",
          "data": {
            "text/plain": [
              "<IPython.core.display.Javascript object>"
            ],
            "application/javascript": [
              "window[\"cd80c034-cf36-11ec-a82b-0242ac1c0002\"] = google.colab.output.setActiveOutputArea(window[\"cd80606c-cf36-11ec-a82b-0242ac1c0002\"]);\n",
              "//# sourceURL=js_4868b052aa"
            ]
          },
          "metadata": {}
        },
        {
          "output_type": "display_data",
          "data": {
            "text/plain": [
              "<IPython.core.display.Javascript object>"
            ],
            "application/javascript": [
              "window[\"cd98ab5e-cf36-11ec-a82b-0242ac1c0002\"] = google.colab.output.setActiveOutputArea(window[\"cd7ffab4-cf36-11ec-a82b-0242ac1c0002\"]);\n",
              "//# sourceURL=js_8cf4fa6802"
            ]
          },
          "metadata": {}
        },
        {
          "output_type": "stream",
          "name": "stdout",
          "text": [
            "Timesteps are: 1\n",
            "State is: [[0.  0.  0.  0.  0.5]\n",
            " [0.  0.  0.  0.  0. ]\n",
            " [0.  0.  0.  0.  0. ]\n",
            " [0.  0.  0.  0.  0. ]\n",
            " [1.  0.  0.  0.  0. ]]\n",
            "Reward is: 0\n",
            "GridWorld Environment: None\n",
            "Reward 0\n",
            "Agent's action is  3\n"
          ]
        },
        {
          "output_type": "display_data",
          "data": {
            "text/plain": [
              "<Figure size 432x288 with 1 Axes>"
            ],
            "image/png": "[encoded data removed]"
          },
          "metadata": {
            "needs_background": "light"
          }
        },
        {
          "output_type": "display_data",
          "data": {
            "text/plain": [
              "<IPython.core.display.Javascript object>"
            ],
            "application/javascript": [
              "window[\"cdb06eba-cf36-11ec-a82b-0242ac1c0002\"] = google.colab.output.getActiveOutputArea();\n",
              "//# sourceURL=js_70a76e5f15"
            ]
          },
          "metadata": {}
        },
        {
          "output_type": "display_data",
          "data": {
            "text/plain": [
              "<IPython.core.display.Javascript object>"
            ],
            "application/javascript": [
              "window[\"cdb13660-cf36-11ec-a82b-0242ac1c0002\"] = document.querySelector(\"#id2-0-0\");\n",
              "//# sourceURL=js_0766fbb36b"
            ]
          },
          "metadata": {}
        },
        {
          "output_type": "display_data",
          "data": {
            "text/plain": [
              "<IPython.core.display.Javascript object>"
            ],
            "application/javascript": [
              "window[\"cdb18b6a-cf36-11ec-a82b-0242ac1c0002\"] = google.colab.output.setActiveOutputArea(window[\"cdb13660-cf36-11ec-a82b-0242ac1c0002\"]);\n",
              "//# sourceURL=js_5ce0bd87dc"
            ]
          },
          "metadata": {}
        },
        {
          "output_type": "display_data",
          "data": {
            "text/plain": [
              "<IPython.core.display.Javascript object>"
            ],
            "application/javascript": [
              "window[\"cdc9a484-cf36-11ec-a82b-0242ac1c0002\"] = google.colab.output.setActiveOutputArea(window[\"cdb06eba-cf36-11ec-a82b-0242ac1c0002\"]);\n",
              "//# sourceURL=js_bb0a1eec2a"
            ]
          },
          "metadata": {}
        },
        {
          "output_type": "stream",
          "name": "stdout",
          "text": [
            "Timesteps are: 2\n",
            "State is: [[0.  0.  0.  0.  0.5]\n",
            " [0.  0.  0.  0.  0. ]\n",
            " [0.  0.  0.  0.  0. ]\n",
            " [0.  0.  0.  0.  0. ]\n",
            " [1.  0.  0.  0.  0. ]]\n",
            "Reward is: 0\n",
            "GridWorld Environment: None\n",
            "Reward 0\n",
            "Agent's action is  0\n"
          ]
        },
        {
          "output_type": "display_data",
          "data": {
            "text/plain": [
              "<Figure size 432x288 with 1 Axes>"
            ],
            "image/png": "[encoded data removed]"
          },
          "metadata": {
            "needs_background": "light"
          }
        },
        {
          "output_type": "display_data",
          "data": {
            "text/plain": [
              "<IPython.core.display.Javascript object>"
            ],
            "application/javascript": [
              "window[\"ce988894-cf36-11ec-a82b-0242ac1c0002\"] = google.colab.output.getActiveOutputArea();\n",
              "//# sourceURL=js_aa7d7378a6"
            ]
          },
          "metadata": {}
        },
        {
          "output_type": "display_data",
          "data": {
            "text/plain": [
              "<IPython.core.display.Javascript object>"
            ],
            "application/javascript": [
              "window[\"ce9909cc-cf36-11ec-a82b-0242ac1c0002\"] = document.querySelector(\"#id2-0-0\");\n",
              "//# sourceURL=js_2e6c5cc1f0"
            ]
          },
          "metadata": {}
        },
        {
          "output_type": "display_data",
          "data": {
            "text/plain": [
              "<IPython.core.display.Javascript object>"
            ],
            "application/javascript": [
              "window[\"ce99acce-cf36-11ec-a82b-0242ac1c0002\"] = google.colab.output.setActiveOutputArea(window[\"ce9909cc-cf36-11ec-a82b-0242ac1c0002\"]);\n",
              "//# sourceURL=js_20b6fb444f"
            ]
          },
          "metadata": {}
        },
        {
          "output_type": "display_data",
          "data": {
            "text/plain": [
              "<IPython.core.display.Javascript object>"
            ],
            "application/javascript": [
              "window[\"cebcfaf8-cf36-11ec-a82b-0242ac1c0002\"] = google.colab.output.setActiveOutputArea(window[\"ce988894-cf36-11ec-a82b-0242ac1c0002\"]);\n",
              "//# sourceURL=js_36f233544b"
            ]
          },
          "metadata": {}
        },
        {
          "output_type": "stream",
          "name": "stdout",
          "text": [
            "Timesteps are: 3\n",
            "State is: [[0.  0.  0.  0.  0.5]\n",
            " [0.  0.  0.  0.  0. ]\n",
            " [0.  0.  0.  0.  0. ]\n",
            " [1.  0.  0.  0.  0. ]\n",
            " [0.  0.  0.  0.  0. ]]\n",
            "Reward is: 0\n",
            "GridWorld Environment: None\n",
            "Reward 0\n",
            "Agent's action is  1\n"
          ]
        },
        {
          "output_type": "display_data",
          "data": {
            "text/plain": [
              "<Figure size 432x288 with 1 Axes>"
            ],
            "image/png": "[encoded data removed]"
          },
          "metadata": {
            "needs_background": "light"
          }
        },
        {
          "output_type": "display_data",
          "data": {
            "text/plain": [
              "<IPython.core.display.Javascript object>"
            ],
            "application/javascript": [
              "window[\"cf82f1f4-cf36-11ec-a82b-0242ac1c0002\"] = google.colab.output.getActiveOutputArea();\n",
              "//# sourceURL=js_8b7ce07183"
            ]
          },
          "metadata": {}
        },
        {
          "output_type": "display_data",
          "data": {
            "text/plain": [
              "<IPython.core.display.Javascript object>"
            ],
            "application/javascript": [
              "window[\"cf83f338-cf36-11ec-a82b-0242ac1c0002\"] = document.querySelector(\"#id2-0-0\");\n",
              "//# sourceURL=js_4ee3731d85"
            ]
          },
          "metadata": {}
        },
        {
          "output_type": "display_data",
          "data": {
            "text/plain": [
              "<IPython.core.display.Javascript object>"
            ],
            "application/javascript": [
              "window[\"cf84f9ae-cf36-11ec-a82b-0242ac1c0002\"] = google.colab.output.setActiveOutputArea(window[\"cf83f338-cf36-11ec-a82b-0242ac1c0002\"]);\n",
              "//# sourceURL=js_5db44210b1"
            ]
          },
          "metadata": {}
        },
        {
          "output_type": "display_data",
          "data": {
            "text/plain": [
              "<IPython.core.display.Javascript object>"
            ],
            "application/javascript": [
              "window[\"cfafb388-cf36-11ec-a82b-0242ac1c0002\"] = google.colab.output.setActiveOutputArea(window[\"cf82f1f4-cf36-11ec-a82b-0242ac1c0002\"]);\n",
              "//# sourceURL=js_56d194e0e1"
            ]
          },
          "metadata": {}
        },
        {
          "output_type": "stream",
          "name": "stdout",
          "text": [
            "Timesteps are: 4\n",
            "State is: [[0.  0.  0.  0.  0.5]\n",
            " [0.  0.  0.  0.  0. ]\n",
            " [1.  0.  0.  0.  0. ]\n",
            " [0.  0.  0.  0.  0. ]\n",
            " [0.  0.  0.  0.  0. ]]\n",
            "Reward is: 0\n",
            "GridWorld Environment: None\n",
            "Reward 0\n",
            "Agent's action is  1\n"
          ]
        },
        {
          "output_type": "display_data",
          "data": {
            "text/plain": [
              "<Figure size 432x288 with 1 Axes>"
            ],
            "image/png": "[encoded data removed]"
          },
          "metadata": {
            "needs_background": "light"
          }
        },
        {
          "output_type": "display_data",
          "data": {
            "text/plain": [
              "<IPython.core.display.Javascript object>"
            ],
            "application/javascript": [
              "window[\"d07e78c6-cf36-11ec-a82b-0242ac1c0002\"] = google.colab.output.getActiveOutputArea();\n",
              "//# sourceURL=js_6289eca2ae"
            ]
          },
          "metadata": {}
        },
        {
          "output_type": "display_data",
          "data": {
            "text/plain": [
              "<IPython.core.display.Javascript object>"
            ],
            "application/javascript": [
              "window[\"d07fda7c-cf36-11ec-a82b-0242ac1c0002\"] = document.querySelector(\"#id2-0-0\");\n",
              "//# sourceURL=js_b5f4813d73"
            ]
          },
          "metadata": {}
        },
        {
          "output_type": "display_data",
          "data": {
            "text/plain": [
              "<IPython.core.display.Javascript object>"
            ],
            "application/javascript": [
              "window[\"d08113e2-cf36-11ec-a82b-0242ac1c0002\"] = google.colab.output.setActiveOutputArea(window[\"d07fda7c-cf36-11ec-a82b-0242ac1c0002\"]);\n",
              "//# sourceURL=js_acdbf42ca9"
            ]
          },
          "metadata": {}
        },
        {
          "output_type": "display_data",
          "data": {
            "text/plain": [
              "<IPython.core.display.Javascript object>"
            ],
            "application/javascript": [
              "window[\"d0c1d3dc-cf36-11ec-a82b-0242ac1c0002\"] = google.colab.output.setActiveOutputArea(window[\"d07e78c6-cf36-11ec-a82b-0242ac1c0002\"]);\n",
              "//# sourceURL=js_55b968720d"
            ]
          },
          "metadata": {}
        },
        {
          "output_type": "stream",
          "name": "stdout",
          "text": [
            "Timesteps are: 5\n",
            "State is: [[0.  0.  0.  0.  0.5]\n",
            " [0.  0.  0.  0.  0. ]\n",
            " [0.  0.  0.  0.  0. ]\n",
            " [1.  0.  0.  0.  0. ]\n",
            " [0.  0.  0.  0.  0. ]]\n",
            "Reward is: 0\n",
            "GridWorld Environment: None\n",
            "Reward 0\n",
            "Agent's action is  0\n"
          ]
        },
        {
          "output_type": "display_data",
          "data": {
            "text/plain": [
              "<Figure size 432x288 with 1 Axes>"
            ],
            "image/png": "[encoded data removed]"
          },
          "metadata": {
            "needs_background": "light"
          }
        },
        {
          "output_type": "display_data",
          "data": {
            "text/plain": [
              "<IPython.core.display.Javascript object>"
            ],
            "application/javascript": [
              "window[\"d1950aae-cf36-11ec-a82b-0242ac1c0002\"] = google.colab.output.getActiveOutputArea();\n",
              "//# sourceURL=js_194d3d9393"
            ]
          },
          "metadata": {}
        },
        {
          "output_type": "display_data",
          "data": {
            "text/plain": [
              "<IPython.core.display.Javascript object>"
            ],
            "application/javascript": [
              "window[\"d196130e-cf36-11ec-a82b-0242ac1c0002\"] = document.querySelector(\"#id2-0-0\");\n",
              "//# sourceURL=js_8afa4fd4a7"
            ]
          },
          "metadata": {}
        },
        {
          "output_type": "display_data",
          "data": {
            "text/plain": [
              "<IPython.core.display.Javascript object>"
            ],
            "application/javascript": [
              "window[\"d19759c6-cf36-11ec-a82b-0242ac1c0002\"] = google.colab.output.setActiveOutputArea(window[\"d196130e-cf36-11ec-a82b-0242ac1c0002\"]);\n",
              "//# sourceURL=js_08e864d266"
            ]
          },
          "metadata": {}
        },
        {
          "output_type": "display_data",
          "data": {
            "text/plain": [
              "<IPython.core.display.Javascript object>"
            ],
            "application/javascript": [
              "window[\"d1c1d462-cf36-11ec-a82b-0242ac1c0002\"] = google.colab.output.setActiveOutputArea(window[\"d1950aae-cf36-11ec-a82b-0242ac1c0002\"]);\n",
              "//# sourceURL=js_bb4b9270de"
            ]
          },
          "metadata": {}
        },
        {
          "output_type": "stream",
          "name": "stdout",
          "text": [
            "Timesteps are: 6\n",
            "State is: [[0.  0.  0.  0.  0.5]\n",
            " [0.  0.  0.  0.  0. ]\n",
            " [0.  0.  0.  0.  0. ]\n",
            " [0.  1.  0.  0.  0. ]\n",
            " [0.  0.  0.  0.  0. ]]\n",
            "Reward is: 0\n",
            "GridWorld Environment: None\n",
            "Reward 0\n",
            "Agent's action is  2\n"
          ]
        },
        {
          "output_type": "display_data",
          "data": {
            "text/plain": [
              "<Figure size 432x288 with 1 Axes>"
            ],
            "image/png": "[encoded data removed]"
          },
          "metadata": {
            "needs_background": "light"
          }
        },
        {
          "output_type": "display_data",
          "data": {
            "text/plain": [
              "<IPython.core.display.Javascript object>"
            ],
            "application/javascript": [
              "window[\"d27516bc-cf36-11ec-a82b-0242ac1c0002\"] = google.colab.output.getActiveOutputArea();\n",
              "//# sourceURL=js_0c6586b158"
            ]
          },
          "metadata": {}
        },
        {
          "output_type": "display_data",
          "data": {
            "text/plain": [
              "<IPython.core.display.Javascript object>"
            ],
            "application/javascript": [
              "window[\"d27585fc-cf36-11ec-a82b-0242ac1c0002\"] = document.querySelector(\"#id2-0-0\");\n",
              "//# sourceURL=js_7922108ff5"
            ]
          },
          "metadata": {}
        },
        {
          "output_type": "display_data",
          "data": {
            "text/plain": [
              "<IPython.core.display.Javascript object>"
            ],
            "application/javascript": [
              "window[\"d275f0e6-cf36-11ec-a82b-0242ac1c0002\"] = google.colab.output.setActiveOutputArea(window[\"d27585fc-cf36-11ec-a82b-0242ac1c0002\"]);\n",
              "//# sourceURL=js_64d34ca3c6"
            ]
          },
          "metadata": {}
        },
        {
          "output_type": "display_data",
          "data": {
            "text/plain": [
              "<IPython.core.display.Javascript object>"
            ],
            "application/javascript": [
              "window[\"d28ccb2c-cf36-11ec-a82b-0242ac1c0002\"] = google.colab.output.setActiveOutputArea(window[\"d27516bc-cf36-11ec-a82b-0242ac1c0002\"]);\n",
              "//# sourceURL=js_4343531fbc"
            ]
          },
          "metadata": {}
        },
        {
          "output_type": "stream",
          "name": "stdout",
          "text": [
            "Timesteps are: 7\n",
            "State is: [[0.  0.  0.  0.  0.5]\n",
            " [0.  0.  0.  0.  0. ]\n",
            " [0.  0.  0.  0.  0. ]\n",
            " [0.  0.  0.  0.  0. ]\n",
            " [0.  1.  0.  0.  0. ]]\n",
            "Reward is: 0\n",
            "GridWorld Environment: None\n",
            "Reward 0\n",
            "Agent's action is  0\n"
          ]
        },
        {
          "output_type": "display_data",
          "data": {
            "text/plain": [
              "<Figure size 432x288 with 1 Axes>"
            ],
            "image/png": "[encoded data removed]"
          },
          "metadata": {
            "needs_background": "light"
          }
        },
        {
          "output_type": "display_data",
          "data": {
            "text/plain": [
              "<IPython.core.display.Javascript object>"
            ],
            "application/javascript": [
              "window[\"d33bf520-cf36-11ec-a82b-0242ac1c0002\"] = google.colab.output.getActiveOutputArea();\n",
              "//# sourceURL=js_c1658f11ad"
            ]
          },
          "metadata": {}
        },
        {
          "output_type": "display_data",
          "data": {
            "text/plain": [
              "<IPython.core.display.Javascript object>"
            ],
            "application/javascript": [
              "window[\"d33c5416-cf36-11ec-a82b-0242ac1c0002\"] = document.querySelector(\"#id2-0-0\");\n",
              "//# sourceURL=js_281ffb6b01"
            ]
          },
          "metadata": {}
        },
        {
          "output_type": "display_data",
          "data": {
            "text/plain": [
              "<IPython.core.display.Javascript object>"
            ],
            "application/javascript": [
              "window[\"d33cc02c-cf36-11ec-a82b-0242ac1c0002\"] = google.colab.output.setActiveOutputArea(window[\"d33c5416-cf36-11ec-a82b-0242ac1c0002\"]);\n",
              "//# sourceURL=js_cd52caf74c"
            ]
          },
          "metadata": {}
        },
        {
          "output_type": "display_data",
          "data": {
            "text/plain": [
              "<IPython.core.display.Javascript object>"
            ],
            "application/javascript": [
              "window[\"d35db70a-cf36-11ec-a82b-0242ac1c0002\"] = google.colab.output.setActiveOutputArea(window[\"d33bf520-cf36-11ec-a82b-0242ac1c0002\"]);\n",
              "//# sourceURL=js_735852b72b"
            ]
          },
          "metadata": {}
        },
        {
          "output_type": "stream",
          "name": "stdout",
          "text": [
            "Timesteps are: 8\n",
            "State is: [[0.  0.  0.  0.  0.5]\n",
            " [0.  0.  0.  0.  0. ]\n",
            " [0.  0.  0.  0.  0. ]\n",
            " [0.  0.  0.  0.  0. ]\n",
            " [1.  0.  0.  0.  0. ]]\n",
            "Reward is: 0\n",
            "GridWorld Environment: None\n",
            "Reward 0\n",
            "Agent's action is  3\n"
          ]
        },
        {
          "output_type": "display_data",
          "data": {
            "text/plain": [
              "<Figure size 432x288 with 1 Axes>"
            ],
            "image/png": "[encoded data removed]"
          },
          "metadata": {
            "needs_background": "light"
          }
        },
        {
          "output_type": "display_data",
          "data": {
            "text/plain": [
              "<IPython.core.display.Javascript object>"
            ],
            "application/javascript": [
              "window[\"d40fe0b0-cf36-11ec-a82b-0242ac1c0002\"] = google.colab.output.getActiveOutputArea();\n",
              "//# sourceURL=js_6f32df9d95"
            ]
          },
          "metadata": {}
        },
        {
          "output_type": "display_data",
          "data": {
            "text/plain": [
              "<IPython.core.display.Javascript object>"
            ],
            "application/javascript": [
              "window[\"d4112632-cf36-11ec-a82b-0242ac1c0002\"] = document.querySelector(\"#id2-0-0\");\n",
              "//# sourceURL=js_6da59282bf"
            ]
          },
          "metadata": {}
        },
        {
          "output_type": "display_data",
          "data": {
            "text/plain": [
              "<IPython.core.display.Javascript object>"
            ],
            "application/javascript": [
              "window[\"d4122744-cf36-11ec-a82b-0242ac1c0002\"] = google.colab.output.setActiveOutputArea(window[\"d4112632-cf36-11ec-a82b-0242ac1c0002\"]);\n",
              "//# sourceURL=js_a931927e94"
            ]
          },
          "metadata": {}
        },
        {
          "output_type": "display_data",
          "data": {
            "text/plain": [
              "<IPython.core.display.Javascript object>"
            ],
            "application/javascript": [
              "window[\"d42af846-cf36-11ec-a82b-0242ac1c0002\"] = google.colab.output.setActiveOutputArea(window[\"d40fe0b0-cf36-11ec-a82b-0242ac1c0002\"]);\n",
              "//# sourceURL=js_d160bc036b"
            ]
          },
          "metadata": {}
        },
        {
          "output_type": "stream",
          "name": "stdout",
          "text": [
            "Timesteps are: 9\n",
            "State is: [[0.  0.  0.  0.  0.5]\n",
            " [0.  0.  0.  0.  0. ]\n",
            " [0.  0.  0.  0.  0. ]\n",
            " [0.  0.  0.  0.  0. ]\n",
            " [1.  0.  0.  0.  0. ]]\n",
            "Reward is: 0\n",
            "GridWorld Environment: None\n",
            "Reward 0\n",
            "Agent's action is  0\n"
          ]
        },
        {
          "output_type": "display_data",
          "data": {
            "text/plain": [
              "<Figure size 432x288 with 1 Axes>"
            ],
            "image/png": "[encoded data removed]"
          },
          "metadata": {
            "needs_background": "light"
          }
        },
        {
          "output_type": "display_data",
          "data": {
            "text/plain": [
              "<IPython.core.display.Javascript object>"
            ],
            "application/javascript": [
              "window[\"d4db777a-cf36-11ec-a82b-0242ac1c0002\"] = google.colab.output.getActiveOutputArea();\n",
              "//# sourceURL=js_7f8f7f8ba9"
            ]
          },
          "metadata": {}
        },
        {
          "output_type": "display_data",
          "data": {
            "text/plain": [
              "<IPython.core.display.Javascript object>"
            ],
            "application/javascript": [
              "window[\"d4dbe25a-cf36-11ec-a82b-0242ac1c0002\"] = document.querySelector(\"#id2-0-0\");\n",
              "//# sourceURL=js_ea6feeafda"
            ]
          },
          "metadata": {}
        },
        {
          "output_type": "display_data",
          "data": {
            "text/plain": [
              "<IPython.core.display.Javascript object>"
            ],
            "application/javascript": [
              "window[\"d4dc3f48-cf36-11ec-a82b-0242ac1c0002\"] = google.colab.output.setActiveOutputArea(window[\"d4dbe25a-cf36-11ec-a82b-0242ac1c0002\"]);\n",
              "//# sourceURL=js_570f575b02"
            ]
          },
          "metadata": {}
        },
        {
          "output_type": "display_data",
          "data": {
            "text/plain": [
              "<IPython.core.display.Javascript object>"
            ],
            "application/javascript": [
              "window[\"d4f45cea-cf36-11ec-a82b-0242ac1c0002\"] = google.colab.output.setActiveOutputArea(window[\"d4db777a-cf36-11ec-a82b-0242ac1c0002\"]);\n",
              "//# sourceURL=js_0e38d0f9a8"
            ]
          },
          "metadata": {}
        },
        {
          "output_type": "stream",
          "name": "stdout",
          "text": [
            "Timesteps are: 10\n",
            "State is: [[0.  0.  0.  0.  0.5]\n",
            " [0.  0.  0.  0.  0. ]\n",
            " [0.  0.  0.  0.  0. ]\n",
            " [0.  0.  0.  0.  0. ]\n",
            " [1.  0.  0.  0.  0. ]]\n",
            "Reward is: 0\n",
            "GridWorld Environment: None\n",
            "Reward 0\n",
            "Agent's action is  0\n"
          ]
        },
        {
          "output_type": "display_data",
          "data": {
            "text/plain": [
              "<Figure size 432x288 with 1 Axes>"
            ],
            "image/png": "[encoded data removed]"
          },
          "metadata": {
            "needs_background": "light"
          }
        },
        {
          "output_type": "display_data",
          "data": {
            "text/plain": [
              "<IPython.core.display.Javascript object>"
            ],
            "application/javascript": [
              "window[\"d5a54546-cf36-11ec-a82b-0242ac1c0002\"] = google.colab.output.getActiveOutputArea();\n",
              "//# sourceURL=js_1b976ff17a"
            ]
          },
          "metadata": {}
        },
        {
          "output_type": "display_data",
          "data": {
            "text/plain": [
              "<IPython.core.display.Javascript object>"
            ],
            "application/javascript": [
              "window[\"d5a5d90c-cf36-11ec-a82b-0242ac1c0002\"] = document.querySelector(\"#id2-0-0\");\n",
              "//# sourceURL=js_2fa7640d89"
            ]
          },
          "metadata": {}
        },
        {
          "output_type": "display_data",
          "data": {
            "text/plain": [
              "<IPython.core.display.Javascript object>"
            ],
            "application/javascript": [
              "window[\"d5a65bac-cf36-11ec-a82b-0242ac1c0002\"] = google.colab.output.setActiveOutputArea(window[\"d5a5d90c-cf36-11ec-a82b-0242ac1c0002\"]);\n",
              "//# sourceURL=js_0193a3ace3"
            ]
          },
          "metadata": {}
        },
        {
          "output_type": "display_data",
          "data": {
            "text/plain": [
              "<IPython.core.display.Javascript object>"
            ],
            "application/javascript": [
              "window[\"d5bd51e0-cf36-11ec-a82b-0242ac1c0002\"] = google.colab.output.setActiveOutputArea(window[\"d5a54546-cf36-11ec-a82b-0242ac1c0002\"]);\n",
              "//# sourceURL=js_2d2571c97c"
            ]
          },
          "metadata": {}
        },
        {
          "output_type": "stream",
          "name": "stdout",
          "text": [
            "Timesteps are: 11\n",
            "State is: [[0.  0.  0.  0.  0.5]\n",
            " [0.  0.  0.  0.  0. ]\n",
            " [0.  0.  0.  0.  0. ]\n",
            " [0.  0.  0.  0.  0. ]\n",
            " [0.  1.  0.  0.  0. ]]\n",
            "Reward is: 0\n",
            "GridWorld Environment: None\n",
            "Reward 0\n",
            "Agent's action is  2\n"
          ]
        },
        {
          "output_type": "display_data",
          "data": {
            "text/plain": [
              "<Figure size 432x288 with 1 Axes>"
            ],
            "image/png": "[encoded data removed]"
          },
          "metadata": {
            "needs_background": "light"
          }
        },
        {
          "output_type": "display_data",
          "data": {
            "text/plain": [
              "<IPython.core.display.Javascript object>"
            ],
            "application/javascript": [
              "window[\"d671319c-cf36-11ec-a82b-0242ac1c0002\"] = google.colab.output.getActiveOutputArea();\n",
              "//# sourceURL=js_21405c4bd7"
            ]
          },
          "metadata": {}
        },
        {
          "output_type": "display_data",
          "data": {
            "text/plain": [
              "<IPython.core.display.Javascript object>"
            ],
            "application/javascript": [
              "window[\"d672757a-cf36-11ec-a82b-0242ac1c0002\"] = document.querySelector(\"#id2-0-0\");\n",
              "//# sourceURL=js_dc599c98a6"
            ]
          },
          "metadata": {}
        },
        {
          "output_type": "display_data",
          "data": {
            "text/plain": [
              "<IPython.core.display.Javascript object>"
            ],
            "application/javascript": [
              "window[\"d6739194-cf36-11ec-a82b-0242ac1c0002\"] = google.colab.output.setActiveOutputArea(window[\"d672757a-cf36-11ec-a82b-0242ac1c0002\"]);\n",
              "//# sourceURL=js_31973aa7ed"
            ]
          },
          "metadata": {}
        },
        {
          "output_type": "display_data",
          "data": {
            "text/plain": [
              "<IPython.core.display.Javascript object>"
            ],
            "application/javascript": [
              "window[\"d68dfc6e-cf36-11ec-a82b-0242ac1c0002\"] = google.colab.output.setActiveOutputArea(window[\"d671319c-cf36-11ec-a82b-0242ac1c0002\"]);\n",
              "//# sourceURL=js_8434b62681"
            ]
          },
          "metadata": {}
        },
        {
          "output_type": "stream",
          "name": "stdout",
          "text": [
            "Timesteps are: 12\n",
            "State is: [[0.  0.  0.  0.  0.5]\n",
            " [0.  0.  0.  0.  0. ]\n",
            " [0.  0.  0.  0.  0. ]\n",
            " [0.  0.  0.  0.  0. ]\n",
            " [0.  0.  1.  0.  0. ]]\n",
            "Reward is: 0\n",
            "GridWorld Environment: None\n",
            "Reward 0\n",
            "Agent's action is  2\n"
          ]
        },
        {
          "output_type": "display_data",
          "data": {
            "text/plain": [
              "<Figure size 432x288 with 1 Axes>"
            ],
            "image/png": "[encoded data removed]"
          },
          "metadata": {
            "needs_background": "light"
          }
        },
        {
          "output_type": "display_data",
          "data": {
            "text/plain": [
              "<IPython.core.display.Javascript object>"
            ],
            "application/javascript": [
              "window[\"d743e240-cf36-11ec-a82b-0242ac1c0002\"] = google.colab.output.getActiveOutputArea();\n",
              "//# sourceURL=js_dd9d46d652"
            ]
          },
          "metadata": {}
        },
        {
          "output_type": "display_data",
          "data": {
            "text/plain": [
              "<IPython.core.display.Javascript object>"
            ],
            "application/javascript": [
              "window[\"d744f130-cf36-11ec-a82b-0242ac1c0002\"] = document.querySelector(\"#id2-0-0\");\n",
              "//# sourceURL=js_aa04459f7c"
            ]
          },
          "metadata": {}
        },
        {
          "output_type": "display_data",
          "data": {
            "text/plain": [
              "<IPython.core.display.Javascript object>"
            ],
            "application/javascript": [
              "window[\"d745b584-cf36-11ec-a82b-0242ac1c0002\"] = google.colab.output.setActiveOutputArea(window[\"d744f130-cf36-11ec-a82b-0242ac1c0002\"]);\n",
              "//# sourceURL=js_9c503a469f"
            ]
          },
          "metadata": {}
        },
        {
          "output_type": "display_data",
          "data": {
            "text/plain": [
              "<IPython.core.display.Javascript object>"
            ],
            "application/javascript": [
              "window[\"d75fe26a-cf36-11ec-a82b-0242ac1c0002\"] = google.colab.output.setActiveOutputArea(window[\"d743e240-cf36-11ec-a82b-0242ac1c0002\"]);\n",
              "//# sourceURL=js_254d59b7c4"
            ]
          },
          "metadata": {}
        },
        {
          "output_type": "stream",
          "name": "stdout",
          "text": [
            "negative rock -5\n",
            "Timesteps are: 13\n",
            "State is: [[0.  0.  0.  0.  0.5]\n",
            " [0.  0.  0.  0.  0. ]\n",
            " [0.  0.  0.  0.  0. ]\n",
            " [0.  0.  0.  0.  0. ]\n",
            " [0.  0.  0.  1.  0. ]]\n",
            "Reward is: -5\n",
            "GridWorld Environment: None\n",
            "Reward -5\n",
            "Agent's action is  2\n"
          ]
        },
        {
          "output_type": "display_data",
          "data": {
            "text/plain": [
              "<Figure size 432x288 with 1 Axes>"
            ],
            "image/png": "[encoded data removed]"
          },
          "metadata": {
            "needs_background": "light"
          }
        },
        {
          "output_type": "display_data",
          "data": {
            "text/plain": [
              "<IPython.core.display.Javascript object>"
            ],
            "application/javascript": [
              "window[\"d8170ba2-cf36-11ec-a82b-0242ac1c0002\"] = google.colab.output.getActiveOutputArea();\n",
              "//# sourceURL=js_05b5e29e08"
            ]
          },
          "metadata": {}
        },
        {
          "output_type": "display_data",
          "data": {
            "text/plain": [
              "<IPython.core.display.Javascript object>"
            ],
            "application/javascript": [
              "window[\"d8177cfe-cf36-11ec-a82b-0242ac1c0002\"] = document.querySelector(\"#id2-0-0\");\n",
              "//# sourceURL=js_18f98eab97"
            ]
          },
          "metadata": {}
        },
        {
          "output_type": "display_data",
          "data": {
            "text/plain": [
              "<IPython.core.display.Javascript object>"
            ],
            "application/javascript": [
              "window[\"d8189bde-cf36-11ec-a82b-0242ac1c0002\"] = google.colab.output.setActiveOutputArea(window[\"d8177cfe-cf36-11ec-a82b-0242ac1c0002\"]);\n",
              "//# sourceURL=js_21007210b9"
            ]
          },
          "metadata": {}
        },
        {
          "output_type": "display_data",
          "data": {
            "text/plain": [
              "<IPython.core.display.Javascript object>"
            ],
            "application/javascript": [
              "window[\"d82ee718-cf36-11ec-a82b-0242ac1c0002\"] = google.colab.output.setActiveOutputArea(window[\"d8170ba2-cf36-11ec-a82b-0242ac1c0002\"]);\n",
              "//# sourceURL=js_1e723a8bb5"
            ]
          },
          "metadata": {}
        },
        {
          "output_type": "stream",
          "name": "stdout",
          "text": [
            "Timesteps are: 14\n",
            "State is: [[0.  0.  0.  0.  0.5]\n",
            " [0.  0.  0.  0.  0. ]\n",
            " [0.  0.  0.  0.  0. ]\n",
            " [0.  0.  0.  0.  0. ]\n",
            " [0.  0.  0.  0.  1. ]]\n",
            "Reward is: 0\n",
            "GridWorld Environment: None\n",
            "Reward 0\n",
            "Agent's action is  2\n"
          ]
        },
        {
          "output_type": "display_data",
          "data": {
            "text/plain": [
              "<Figure size 432x288 with 1 Axes>"
            ],
            "image/png": "[encoded data removed]"
          },
          "metadata": {
            "needs_background": "light"
          }
        },
        {
          "output_type": "display_data",
          "data": {
            "text/plain": [
              "<IPython.core.display.Javascript object>"
            ],
            "application/javascript": [
              "window[\"d8dfcc4a-cf36-11ec-a82b-0242ac1c0002\"] = google.colab.output.getActiveOutputArea();\n",
              "//# sourceURL=js_deb3ca5f9b"
            ]
          },
          "metadata": {}
        },
        {
          "output_type": "display_data",
          "data": {
            "text/plain": [
              "<IPython.core.display.Javascript object>"
            ],
            "application/javascript": [
              "window[\"d8e0fcfa-cf36-11ec-a82b-0242ac1c0002\"] = document.querySelector(\"#id2-0-0\");\n",
              "//# sourceURL=js_42ebd4043d"
            ]
          },
          "metadata": {}
        },
        {
          "output_type": "display_data",
          "data": {
            "text/plain": [
              "<IPython.core.display.Javascript object>"
            ],
            "application/javascript": [
              "window[\"d8e1699c-cf36-11ec-a82b-0242ac1c0002\"] = google.colab.output.setActiveOutputArea(window[\"d8e0fcfa-cf36-11ec-a82b-0242ac1c0002\"]);\n",
              "//# sourceURL=js_5a7980d4f4"
            ]
          },
          "metadata": {}
        },
        {
          "output_type": "display_data",
          "data": {
            "text/plain": [
              "<IPython.core.display.Javascript object>"
            ],
            "application/javascript": [
              "window[\"d8fa11d6-cf36-11ec-a82b-0242ac1c0002\"] = google.colab.output.setActiveOutputArea(window[\"d8dfcc4a-cf36-11ec-a82b-0242ac1c0002\"]);\n",
              "//# sourceURL=js_2f96ae13cc"
            ]
          },
          "metadata": {}
        },
        {
          "output_type": "stream",
          "name": "stdout",
          "text": [
            "negative rock -6\n",
            "Timesteps are: 15\n",
            "State is: [[0.  0.  0.  0.  0.5]\n",
            " [0.  0.  0.  0.  0. ]\n",
            " [0.  0.  0.  0.  0. ]\n",
            " [0.  0.  0.  0.  1. ]\n",
            " [0.  0.  0.  0.  0. ]]\n",
            "Reward is: -6\n",
            "GridWorld Environment: None\n",
            "Reward -6\n",
            "Agent's action is  1\n"
          ]
        },
        {
          "output_type": "display_data",
          "data": {
            "text/plain": [
              "<Figure size 432x288 with 1 Axes>"
            ],
            "image/png": "[encoded data removed]"
          },
          "metadata": {
            "needs_background": "light"
          }
        },
        {
          "output_type": "display_data",
          "data": {
            "text/plain": [
              "<IPython.core.display.Javascript object>"
            ],
            "application/javascript": [
              "window[\"d9a95218-cf36-11ec-a82b-0242ac1c0002\"] = google.colab.output.getActiveOutputArea();\n",
              "//# sourceURL=js_4ced6aefdd"
            ]
          },
          "metadata": {}
        },
        {
          "output_type": "display_data",
          "data": {
            "text/plain": [
              "<IPython.core.display.Javascript object>"
            ],
            "application/javascript": [
              "window[\"d9a9b6f4-cf36-11ec-a82b-0242ac1c0002\"] = document.querySelector(\"#id2-0-0\");\n",
              "//# sourceURL=js_03e47eb487"
            ]
          },
          "metadata": {}
        },
        {
          "output_type": "display_data",
          "data": {
            "text/plain": [
              "<IPython.core.display.Javascript object>"
            ],
            "application/javascript": [
              "window[\"d9aa1f72-cf36-11ec-a82b-0242ac1c0002\"] = google.colab.output.setActiveOutputArea(window[\"d9a9b6f4-cf36-11ec-a82b-0242ac1c0002\"]);\n",
              "//# sourceURL=js_47dfce427a"
            ]
          },
          "metadata": {}
        },
        {
          "output_type": "display_data",
          "data": {
            "text/plain": [
              "<IPython.core.display.Javascript object>"
            ],
            "application/javascript": [
              "window[\"d9c176ae-cf36-11ec-a82b-0242ac1c0002\"] = google.colab.output.setActiveOutputArea(window[\"d9a95218-cf36-11ec-a82b-0242ac1c0002\"]);\n",
              "//# sourceURL=js_2482cb4a31"
            ]
          },
          "metadata": {}
        },
        {
          "output_type": "stream",
          "name": "stdout",
          "text": [
            "Timesteps are: 16\n",
            "State is: [[0.  0.  0.  0.  0.5]\n",
            " [0.  0.  0.  0.  0. ]\n",
            " [0.  0.  0.  0.  0. ]\n",
            " [0.  0.  0.  0.  0. ]\n",
            " [0.  0.  0.  0.  1. ]]\n",
            "Reward is: 0\n",
            "GridWorld Environment: None\n",
            "Reward 0\n",
            "Agent's action is  0\n"
          ]
        },
        {
          "output_type": "display_data",
          "data": {
            "text/plain": [
              "<Figure size 432x288 with 1 Axes>"
            ],
            "image/png": "[encoded data removed]"
          },
          "metadata": {
            "needs_background": "light"
          }
        },
        {
          "output_type": "display_data",
          "data": {
            "text/plain": [
              "<IPython.core.display.Javascript object>"
            ],
            "application/javascript": [
              "window[\"da715f4c-cf36-11ec-a82b-0242ac1c0002\"] = google.colab.output.getActiveOutputArea();\n",
              "//# sourceURL=js_b04119110b"
            ]
          },
          "metadata": {}
        },
        {
          "output_type": "display_data",
          "data": {
            "text/plain": [
              "<IPython.core.display.Javascript object>"
            ],
            "application/javascript": [
              "window[\"da71c3d8-cf36-11ec-a82b-0242ac1c0002\"] = document.querySelector(\"#id2-0-0\");\n",
              "//# sourceURL=js_8bee4ee313"
            ]
          },
          "metadata": {}
        },
        {
          "output_type": "display_data",
          "data": {
            "text/plain": [
              "<IPython.core.display.Javascript object>"
            ],
            "application/javascript": [
              "window[\"da722eb8-cf36-11ec-a82b-0242ac1c0002\"] = google.colab.output.setActiveOutputArea(window[\"da71c3d8-cf36-11ec-a82b-0242ac1c0002\"]);\n",
              "//# sourceURL=js_23e3c39d7a"
            ]
          },
          "metadata": {}
        },
        {
          "output_type": "display_data",
          "data": {
            "text/plain": [
              "<IPython.core.display.Javascript object>"
            ],
            "application/javascript": [
              "window[\"da8af646-cf36-11ec-a82b-0242ac1c0002\"] = google.colab.output.setActiveOutputArea(window[\"da715f4c-cf36-11ec-a82b-0242ac1c0002\"]);\n",
              "//# sourceURL=js_9cd47f719f"
            ]
          },
          "metadata": {}
        },
        {
          "output_type": "stream",
          "name": "stdout",
          "text": [
            "Timesteps are: 17\n",
            "State is: [[0.  0.  0.  0.  0.5]\n",
            " [0.  0.  0.  0.  0. ]\n",
            " [0.  0.  0.  0.  0. ]\n",
            " [0.  0.  0.  0.  0. ]\n",
            " [0.  0.  0.  0.  1. ]]\n",
            "Reward is: 0\n",
            "GridWorld Environment: None\n",
            "Reward 0\n",
            "Agent's action is  0\n"
          ]
        },
        {
          "output_type": "display_data",
          "data": {
            "text/plain": [
              "<Figure size 432x288 with 1 Axes>"
            ],
            "image/png": "[encoded data removed]"
          },
          "metadata": {
            "needs_background": "light"
          }
        },
        {
          "output_type": "display_data",
          "data": {
            "text/plain": [
              "<IPython.core.display.Javascript object>"
            ],
            "application/javascript": [
              "window[\"db3d9c60-cf36-11ec-a82b-0242ac1c0002\"] = google.colab.output.getActiveOutputArea();\n",
              "//# sourceURL=js_aef9f369d0"
            ]
          },
          "metadata": {}
        },
        {
          "output_type": "display_data",
          "data": {
            "text/plain": [
              "<IPython.core.display.Javascript object>"
            ],
            "application/javascript": [
              "window[\"db3e0178-cf36-11ec-a82b-0242ac1c0002\"] = document.querySelector(\"#id2-0-0\");\n",
              "//# sourceURL=js_4d96a18405"
            ]
          },
          "metadata": {}
        },
        {
          "output_type": "display_data",
          "data": {
            "text/plain": [
              "<IPython.core.display.Javascript object>"
            ],
            "application/javascript": [
              "window[\"db3e619a-cf36-11ec-a82b-0242ac1c0002\"] = google.colab.output.setActiveOutputArea(window[\"db3e0178-cf36-11ec-a82b-0242ac1c0002\"]);\n",
              "//# sourceURL=js_317b77432d"
            ]
          },
          "metadata": {}
        },
        {
          "output_type": "display_data",
          "data": {
            "text/plain": [
              "<IPython.core.display.Javascript object>"
            ],
            "application/javascript": [
              "window[\"db568ffe-cf36-11ec-a82b-0242ac1c0002\"] = google.colab.output.setActiveOutputArea(window[\"db3d9c60-cf36-11ec-a82b-0242ac1c0002\"]);\n",
              "//# sourceURL=js_30ec9750d6"
            ]
          },
          "metadata": {}
        },
        {
          "output_type": "stream",
          "name": "stdout",
          "text": [
            "Timesteps are: 18\n",
            "State is: [[0.  0.  0.  0.  0.5]\n",
            " [0.  0.  0.  0.  0. ]\n",
            " [0.  0.  0.  0.  0. ]\n",
            " [0.  0.  0.  0.  0. ]\n",
            " [0.  0.  0.  0.  1. ]]\n",
            "Reward is: 0\n",
            "GridWorld Environment: None\n",
            "Reward 0\n",
            "Agent's action is  2\n"
          ]
        },
        {
          "output_type": "display_data",
          "data": {
            "text/plain": [
              "<Figure size 432x288 with 1 Axes>"
            ],
            "image/png": "[encoded data removed]"
          },
          "metadata": {
            "needs_background": "light"
          }
        },
        {
          "output_type": "display_data",
          "data": {
            "text/plain": [
              "<IPython.core.display.Javascript object>"
            ],
            "application/javascript": [
              "window[\"dc0959fe-cf36-11ec-a82b-0242ac1c0002\"] = google.colab.output.getActiveOutputArea();\n",
              "//# sourceURL=js_03595890c8"
            ]
          },
          "metadata": {}
        },
        {
          "output_type": "display_data",
          "data": {
            "text/plain": [
              "<IPython.core.display.Javascript object>"
            ],
            "application/javascript": [
              "window[\"dc0a6dda-cf36-11ec-a82b-0242ac1c0002\"] = document.querySelector(\"#id2-0-0\");\n",
              "//# sourceURL=js_f9f3fcd460"
            ]
          },
          "metadata": {}
        },
        {
          "output_type": "display_data",
          "data": {
            "text/plain": [
              "<IPython.core.display.Javascript object>"
            ],
            "application/javascript": [
              "window[\"dc0b1b86-cf36-11ec-a82b-0242ac1c0002\"] = google.colab.output.setActiveOutputArea(window[\"dc0a6dda-cf36-11ec-a82b-0242ac1c0002\"]);\n",
              "//# sourceURL=js_39e5f9d306"
            ]
          },
          "metadata": {}
        },
        {
          "output_type": "display_data",
          "data": {
            "text/plain": [
              "<IPython.core.display.Javascript object>"
            ],
            "application/javascript": [
              "window[\"dc33a614-cf36-11ec-a82b-0242ac1c0002\"] = google.colab.output.setActiveOutputArea(window[\"dc0959fe-cf36-11ec-a82b-0242ac1c0002\"]);\n",
              "//# sourceURL=js_852254ee4f"
            ]
          },
          "metadata": {}
        },
        {
          "output_type": "stream",
          "name": "stdout",
          "text": [
            "negative rock -5\n",
            "Timesteps are: 19\n",
            "State is: [[0.  0.  0.  0.  0.5]\n",
            " [0.  0.  0.  0.  0. ]\n",
            " [0.  0.  0.  0.  0. ]\n",
            " [0.  0.  0.  0.  0. ]\n",
            " [0.  0.  0.  1.  0. ]]\n",
            "Reward is: -5\n",
            "GridWorld Environment: None\n",
            "Reward -5\n",
            "Agent's action is  3\n"
          ]
        },
        {
          "output_type": "display_data",
          "data": {
            "text/plain": [
              "<Figure size 432x288 with 1 Axes>"
            ],
            "image/png": "[encoded data removed]"
          },
          "metadata": {
            "needs_background": "light"
          }
        },
        {
          "output_type": "display_data",
          "data": {
            "text/plain": [
              "<IPython.core.display.Javascript object>"
            ],
            "application/javascript": [
              "window[\"dce3bd4c-cf36-11ec-a82b-0242ac1c0002\"] = google.colab.output.getActiveOutputArea();\n",
              "//# sourceURL=js_75fed61361"
            ]
          },
          "metadata": {}
        },
        {
          "output_type": "display_data",
          "data": {
            "text/plain": [
              "<IPython.core.display.Javascript object>"
            ],
            "application/javascript": [
              "window[\"dce41828-cf36-11ec-a82b-0242ac1c0002\"] = document.querySelector(\"#id2-0-0\");\n",
              "//# sourceURL=js_2837bdca34"
            ]
          },
          "metadata": {}
        },
        {
          "output_type": "display_data",
          "data": {
            "text/plain": [
              "<IPython.core.display.Javascript object>"
            ],
            "application/javascript": [
              "window[\"dce49186-cf36-11ec-a82b-0242ac1c0002\"] = google.colab.output.setActiveOutputArea(window[\"dce41828-cf36-11ec-a82b-0242ac1c0002\"]);\n",
              "//# sourceURL=js_9da65ac684"
            ]
          },
          "metadata": {}
        },
        {
          "output_type": "display_data",
          "data": {
            "text/plain": [
              "<IPython.core.display.Javascript object>"
            ],
            "application/javascript": [
              "window[\"dcfaa390-cf36-11ec-a82b-0242ac1c0002\"] = google.colab.output.setActiveOutputArea(window[\"dce3bd4c-cf36-11ec-a82b-0242ac1c0002\"]);\n",
              "//# sourceURL=js_d06ddd8af9"
            ]
          },
          "metadata": {}
        },
        {
          "output_type": "stream",
          "name": "stdout",
          "text": [
            "Timesteps are: 20\n",
            "State is: [[0.  0.  0.  0.  0.5]\n",
            " [0.  0.  0.  0.  0. ]\n",
            " [0.  0.  0.  0.  0. ]\n",
            " [0.  0.  0.  0.  0. ]\n",
            " [0.  0.  1.  0.  0. ]]\n",
            "Reward is: 0\n",
            "GridWorld Environment: None\n",
            "Reward 0\n",
            "Agent's action is  3\n"
          ]
        },
        {
          "output_type": "display_data",
          "data": {
            "text/plain": [
              "<Figure size 432x288 with 1 Axes>"
            ],
            "image/png": "[encoded data removed]"
          },
          "metadata": {
            "needs_background": "light"
          }
        },
        {
          "output_type": "display_data",
          "data": {
            "text/plain": [
              "<IPython.core.display.Javascript object>"
            ],
            "application/javascript": [
              "window[\"ddaa9408-cf36-11ec-a82b-0242ac1c0002\"] = google.colab.output.getActiveOutputArea();\n",
              "//# sourceURL=js_17e3c61af3"
            ]
          },
          "metadata": {}
        },
        {
          "output_type": "display_data",
          "data": {
            "text/plain": [
              "<IPython.core.display.Javascript object>"
            ],
            "application/javascript": [
              "window[\"ddaafc54-cf36-11ec-a82b-0242ac1c0002\"] = document.querySelector(\"#id2-0-0\");\n",
              "//# sourceURL=js_fdb74dbc15"
            ]
          },
          "metadata": {}
        },
        {
          "output_type": "display_data",
          "data": {
            "text/plain": [
              "<IPython.core.display.Javascript object>"
            ],
            "application/javascript": [
              "window[\"ddab5bfe-cf36-11ec-a82b-0242ac1c0002\"] = google.colab.output.setActiveOutputArea(window[\"ddaafc54-cf36-11ec-a82b-0242ac1c0002\"]);\n",
              "//# sourceURL=js_ec092f78ab"
            ]
          },
          "metadata": {}
        },
        {
          "output_type": "display_data",
          "data": {
            "text/plain": [
              "<IPython.core.display.Javascript object>"
            ],
            "application/javascript": [
              "window[\"ddc49fce-cf36-11ec-a82b-0242ac1c0002\"] = google.colab.output.setActiveOutputArea(window[\"ddaa9408-cf36-11ec-a82b-0242ac1c0002\"]);\n",
              "//# sourceURL=js_8d0e19ce08"
            ]
          },
          "metadata": {}
        },
        {
          "output_type": "stream",
          "name": "stdout",
          "text": [
            "Timesteps are: 21\n",
            "State is: [[0.  0.  0.  0.  0.5]\n",
            " [0.  0.  0.  0.  0. ]\n",
            " [0.  0.  0.  0.  0. ]\n",
            " [0.  0.  0.  0.  0. ]\n",
            " [0.  1.  0.  0.  0. ]]\n",
            "Reward is: 0\n",
            "GridWorld Environment: None\n",
            "Reward 0\n",
            "Agent's action is  3\n"
          ]
        },
        {
          "output_type": "display_data",
          "data": {
            "text/plain": [
              "<Figure size 432x288 with 1 Axes>"
            ],
            "image/png": "[encoded data removed]"
          },
          "metadata": {
            "needs_background": "light"
          }
        },
        {
          "output_type": "display_data",
          "data": {
            "text/plain": [
              "<IPython.core.display.Javascript object>"
            ],
            "application/javascript": [
              "window[\"de744d2a-cf36-11ec-a82b-0242ac1c0002\"] = google.colab.output.getActiveOutputArea();\n",
              "//# sourceURL=js_e91a47bcc3"
            ]
          },
          "metadata": {}
        },
        {
          "output_type": "display_data",
          "data": {
            "text/plain": [
              "<IPython.core.display.Javascript object>"
            ],
            "application/javascript": [
              "window[\"de74b60c-cf36-11ec-a82b-0242ac1c0002\"] = document.querySelector(\"#id2-0-0\");\n",
              "//# sourceURL=js_a9d534ab90"
            ]
          },
          "metadata": {}
        },
        {
          "output_type": "display_data",
          "data": {
            "text/plain": [
              "<IPython.core.display.Javascript object>"
            ],
            "application/javascript": [
              "window[\"de751a02-cf36-11ec-a82b-0242ac1c0002\"] = google.colab.output.setActiveOutputArea(window[\"de74b60c-cf36-11ec-a82b-0242ac1c0002\"]);\n",
              "//# sourceURL=js_50003e03b0"
            ]
          },
          "metadata": {}
        },
        {
          "output_type": "display_data",
          "data": {
            "text/plain": [
              "<IPython.core.display.Javascript object>"
            ],
            "application/javascript": [
              "window[\"de8d660c-cf36-11ec-a82b-0242ac1c0002\"] = google.colab.output.setActiveOutputArea(window[\"de744d2a-cf36-11ec-a82b-0242ac1c0002\"]);\n",
              "//# sourceURL=js_61fc85c5c7"
            ]
          },
          "metadata": {}
        },
        {
          "output_type": "stream",
          "name": "stdout",
          "text": [
            "Timesteps are: 22\n",
            "State is: [[0.  0.  0.  0.  0.5]\n",
            " [0.  0.  0.  0.  0. ]\n",
            " [0.  0.  0.  0.  0. ]\n",
            " [0.  1.  0.  0.  0. ]\n",
            " [0.  0.  0.  0.  0. ]]\n",
            "Reward is: 0\n",
            "GridWorld Environment: None\n",
            "Reward 0\n",
            "Agent's action is  1\n"
          ]
        },
        {
          "output_type": "display_data",
          "data": {
            "text/plain": [
              "<Figure size 432x288 with 1 Axes>"
            ],
            "image/png": "[encoded data removed]"
          },
          "metadata": {
            "needs_background": "light"
          }
        },
        {
          "output_type": "display_data",
          "data": {
            "text/plain": [
              "<IPython.core.display.Javascript object>"
            ],
            "application/javascript": [
              "window[\"df3c9d0c-cf36-11ec-a82b-0242ac1c0002\"] = google.colab.output.getActiveOutputArea();\n",
              "//# sourceURL=js_4b98f50f6e"
            ]
          },
          "metadata": {}
        },
        {
          "output_type": "display_data",
          "data": {
            "text/plain": [
              "<IPython.core.display.Javascript object>"
            ],
            "application/javascript": [
              "window[\"df3cfc3e-cf36-11ec-a82b-0242ac1c0002\"] = document.querySelector(\"#id2-0-0\");\n",
              "//# sourceURL=js_c5ed24099b"
            ]
          },
          "metadata": {}
        },
        {
          "output_type": "display_data",
          "data": {
            "text/plain": [
              "<IPython.core.display.Javascript object>"
            ],
            "application/javascript": [
              "window[\"df3d55d0-cf36-11ec-a82b-0242ac1c0002\"] = google.colab.output.setActiveOutputArea(window[\"df3cfc3e-cf36-11ec-a82b-0242ac1c0002\"]);\n",
              "//# sourceURL=js_f8565dc225"
            ]
          },
          "metadata": {}
        },
        {
          "output_type": "display_data",
          "data": {
            "text/plain": [
              "<IPython.core.display.Javascript object>"
            ],
            "application/javascript": [
              "window[\"df56bc8c-cf36-11ec-a82b-0242ac1c0002\"] = google.colab.output.setActiveOutputArea(window[\"df3c9d0c-cf36-11ec-a82b-0242ac1c0002\"]);\n",
              "//# sourceURL=js_f1f3153a24"
            ]
          },
          "metadata": {}
        },
        {
          "output_type": "stream",
          "name": "stdout",
          "text": [
            "Timesteps are: 23\n",
            "State is: [[0.  0.  0.  0.  0.5]\n",
            " [0.  0.  0.  0.  0. ]\n",
            " [0.  0.  0.  0.  0. ]\n",
            " [0.  0.  0.  0.  0. ]\n",
            " [0.  1.  0.  0.  0. ]]\n",
            "Reward is: 0\n",
            "GridWorld Environment: None\n",
            "Reward 0\n",
            "Agent's action is  0\n"
          ]
        },
        {
          "output_type": "display_data",
          "data": {
            "text/plain": [
              "<Figure size 432x288 with 1 Axes>"
            ],
            "image/png": "[encoded data removed]"
          },
          "metadata": {
            "needs_background": "light"
          }
        },
        {
          "output_type": "display_data",
          "data": {
            "text/plain": [
              "<IPython.core.display.Javascript object>"
            ],
            "application/javascript": [
              "window[\"e0048d26-cf36-11ec-a82b-0242ac1c0002\"] = google.colab.output.getActiveOutputArea();\n",
              "//# sourceURL=js_e8fefa8c8c"
            ]
          },
          "metadata": {}
        },
        {
          "output_type": "display_data",
          "data": {
            "text/plain": [
              "<IPython.core.display.Javascript object>"
            ],
            "application/javascript": [
              "window[\"e004eae6-cf36-11ec-a82b-0242ac1c0002\"] = document.querySelector(\"#id2-0-0\");\n",
              "//# sourceURL=js_0cda233348"
            ]
          },
          "metadata": {}
        },
        {
          "output_type": "display_data",
          "data": {
            "text/plain": [
              "<IPython.core.display.Javascript object>"
            ],
            "application/javascript": [
              "window[\"e0054356-cf36-11ec-a82b-0242ac1c0002\"] = google.colab.output.setActiveOutputArea(window[\"e004eae6-cf36-11ec-a82b-0242ac1c0002\"]);\n",
              "//# sourceURL=js_48ab08cd7d"
            ]
          },
          "metadata": {}
        },
        {
          "output_type": "display_data",
          "data": {
            "text/plain": [
              "<IPython.core.display.Javascript object>"
            ],
            "application/javascript": [
              "window[\"e01c0d48-cf36-11ec-a82b-0242ac1c0002\"] = google.colab.output.setActiveOutputArea(window[\"e0048d26-cf36-11ec-a82b-0242ac1c0002\"]);\n",
              "//# sourceURL=js_5ede683fb1"
            ]
          },
          "metadata": {}
        },
        {
          "output_type": "stream",
          "name": "stdout",
          "text": [
            "Timesteps are: 24\n",
            "State is: [[0.  0.  0.  0.  0.5]\n",
            " [0.  0.  0.  0.  0. ]\n",
            " [0.  0.  0.  0.  0. ]\n",
            " [0.  1.  0.  0.  0. ]\n",
            " [0.  0.  0.  0.  0. ]]\n",
            "Reward is: 0\n",
            "GridWorld Environment: None\n",
            "Reward 0\n",
            "Agent's action is  1\n"
          ]
        },
        {
          "output_type": "display_data",
          "data": {
            "text/plain": [
              "<Figure size 432x288 with 1 Axes>"
            ],
            "image/png": "[encoded data removed]"
          },
          "metadata": {
            "needs_background": "light"
          }
        },
        {
          "output_type": "display_data",
          "data": {
            "text/plain": [
              "<IPython.core.display.Javascript object>"
            ],
            "application/javascript": [
              "window[\"e0d5b75c-cf36-11ec-a82b-0242ac1c0002\"] = google.colab.output.getActiveOutputArea();\n",
              "//# sourceURL=js_12edae3499"
            ]
          },
          "metadata": {}
        },
        {
          "output_type": "display_data",
          "data": {
            "text/plain": [
              "<IPython.core.display.Javascript object>"
            ],
            "application/javascript": [
              "window[\"e0d6252a-cf36-11ec-a82b-0242ac1c0002\"] = document.querySelector(\"#id2-0-0\");\n",
              "//# sourceURL=js_31b3d65de0"
            ]
          },
          "metadata": {}
        },
        {
          "output_type": "display_data",
          "data": {
            "text/plain": [
              "<IPython.core.display.Javascript object>"
            ],
            "application/javascript": [
              "window[\"e0d69550-cf36-11ec-a82b-0242ac1c0002\"] = google.colab.output.setActiveOutputArea(window[\"e0d6252a-cf36-11ec-a82b-0242ac1c0002\"]);\n",
              "//# sourceURL=js_eab567e8c8"
            ]
          },
          "metadata": {}
        },
        {
          "output_type": "display_data",
          "data": {
            "text/plain": [
              "<IPython.core.display.Javascript object>"
            ],
            "application/javascript": [
              "window[\"e0ed790a-cf36-11ec-a82b-0242ac1c0002\"] = google.colab.output.setActiveOutputArea(window[\"e0d5b75c-cf36-11ec-a82b-0242ac1c0002\"]);\n",
              "//# sourceURL=js_7a2b65d393"
            ]
          },
          "metadata": {}
        },
        {
          "output_type": "stream",
          "name": "stdout",
          "text": [
            "Timesteps are: 25\n",
            "State is: [[0.  0.  0.  0.  0.5]\n",
            " [0.  0.  0.  0.  0. ]\n",
            " [0.  0.  0.  0.  0. ]\n",
            " [0.  0.  1.  0.  0. ]\n",
            " [0.  0.  0.  0.  0. ]]\n",
            "Reward is: 0\n",
            "GridWorld Environment: None\n",
            "Time step is 25\n",
            "Reward 0\n",
            "Agent's action is  2\n"
          ]
        },
        {
          "output_type": "display_data",
          "data": {
            "text/plain": [
              "<Figure size 432x288 with 1 Axes>"
            ],
            "image/png": "[encoded data removed]"
          },
          "metadata": {
            "needs_background": "light"
          }
        },
        {
          "output_type": "display_data",
          "data": {
            "text/plain": [
              "<IPython.core.display.Javascript object>"
            ],
            "application/javascript": [
              "window[\"e19d75e4-cf36-11ec-a82b-0242ac1c0002\"] = google.colab.output.getActiveOutputArea();\n",
              "//# sourceURL=js_a2a14b0572"
            ]
          },
          "metadata": {}
        },
        {
          "output_type": "display_data",
          "data": {
            "text/plain": [
              "<IPython.core.display.Javascript object>"
            ],
            "application/javascript": [
              "window[\"e19e0798-cf36-11ec-a82b-0242ac1c0002\"] = document.querySelector(\"#id2-0-0\");\n",
              "//# sourceURL=js_79909f9b68"
            ]
          },
          "metadata": {}
        },
        {
          "output_type": "display_data",
          "data": {
            "text/plain": [
              "<IPython.core.display.Javascript object>"
            ],
            "application/javascript": [
              "window[\"e19e75c0-cf36-11ec-a82b-0242ac1c0002\"] = google.colab.output.setActiveOutputArea(window[\"e19e0798-cf36-11ec-a82b-0242ac1c0002\"]);\n",
              "//# sourceURL=js_b8a178558a"
            ]
          },
          "metadata": {}
        },
        {
          "output_type": "display_data",
          "data": {
            "text/plain": [
              "<Figure size 432x288 with 1 Axes>"
            ],
            "image/png": "[encoded data removed]"
          },
          "metadata": {
            "needs_background": "light"
          }
        },
        {
          "output_type": "display_data",
          "data": {
            "text/plain": [
              "<IPython.core.display.Javascript object>"
            ],
            "application/javascript": [
              "window[\"e1b62418-cf36-11ec-a82b-0242ac1c0002\"] = google.colab.output.setActiveOutputArea(window[\"e19d75e4-cf36-11ec-a82b-0242ac1c0002\"]);\n",
              "//# sourceURL=js_4904e3ebe1"
            ]
          },
          "metadata": {}
        }
      ]
    },
    {
      "cell_type": "code",
      "source": [
        "#Just for verification\n",
        "6# for i in range(0,4):\n",
        "action = 2\n",
        "observation, reward, done, _ = env.step(action)\n",
        "env.render()\n",
        "print('Reward: ', reward)"
      ],
      "metadata": {
        "colab": {
          "base_uri": "https://localhost:8080/",
          "height": 439
        },
        "id": "iYkVISkn9dJp",
        "outputId": "e17971cf-141e-4643-9bf3-2c4dbe3a726c"
      },
      "execution_count": 14,
      "outputs": [
        {
          "output_type": "stream",
          "name": "stdout",
          "text": [
            "Timesteps are: 110\n",
            "State is: [[0.  0.  0.  0.  0.5]\n",
            " [0.  0.  0.  0.  0. ]\n",
            " [0.  0.  0.  0.  0. ]\n",
            " [0.  0.  0.  0.  0. ]\n",
            " [0.  0.  0.  0.  0. ]]\n",
            "Reward is: 1\n",
            "GridWorld Environment: None\n",
            "Time step is 110\n",
            "Reward:  1\n"
          ]
        },
        {
          "output_type": "display_data",
          "data": {
            "text/plain": [
              "<Figure size 432x288 with 1 Axes>"
            ],
            "image/png": "[encoded data removed]"
          },
          "metadata": {
            "needs_background": "light"
          }
        }
      ]
    },
    {
      "cell_type": "code",
      "source": [
        ""
      ],
      "metadata": {
        "id": "zXLT91H39pRX"
      },
      "execution_count": null,
      "outputs": []
    },
    {
      "cell_type": "markdown",
      "source": [
        "Running the code until the agent reaches the goal position\n"
      ],
      "metadata": {
        "id": "XmBGwFoMcGKo"
      }
    },
    {
      "cell_type": "code",
      "source": [
        "class GridEnvironment(gym.Env):\n",
        "  metadata = { 'render.modes': []}\n",
        "\n",
        "  def __init__(self):\n",
        "    self.observation_space = spaces.Discrete(25)    #no. of states in the grid\n",
        "    self.action_space = spaces.Discrete(4)\n",
        "    self.max_timesteps = 25\n",
        "    \n",
        "\n",
        "  def reset(self):\n",
        "    self.timestep = 0\n",
        "    self.agent_pos = [4, 0]                 #initial posiion of the agent\n",
        "    self.goal_pos = [0, 4]                  #final position of the agent\n",
        "    self.state = np.zeros((5, 5))\n",
        "    self.state[tuple(self.agent_pos)] = 1\n",
        "    self.state[tuple(self.goal_pos)] = 0.5\n",
        "    observation = self.state.flatten()\n",
        "    return observation\n",
        "\n",
        "  def step(self, action):                   #what the agent will do at every step\n",
        "    self.state = np.random.choice(self.observation_space.n)\n",
        "    reward = 0\n",
        "    if action == 0:\n",
        "      self.agent_pos[0] += 1\n",
        "    if action == 1:\n",
        "      self.agent_pos[0] -= 1\n",
        "    if action ==2:\n",
        "      self.agent_pos[1] += 1\n",
        "    if action == 3:\n",
        "      self.agent_pos[1] -= 1\n",
        "   \n",
        "    \n",
        "    self.agent_pos = np.clip(self.agent_pos, 0, 4)\n",
        "    self.state = np.zeros((5,5))\n",
        "    self.state[tuple(self.agent_pos)] = 1\n",
        "    self.state[tuple(self.goal_pos)] = 0.5\n",
        "    observation = self.state.flatten()\n",
        "\n",
        "    if (self.agent_pos[0] == 0 and self.agent_pos[1]==0):\n",
        "      reward =5\n",
        "      print(f\"positive battery {reward}\")\n",
        "    elif(self.agent_pos[0]==0 and self.agent_pos[1]==3):\n",
        "      reward =6\n",
        "      print(f\"positive battery {reward}\")\n",
        "    elif(self.agent_pos[0]==4 and self.agent_pos[1]==3):\n",
        "      reward =-5\n",
        "      print(f'negative rock {reward}')\n",
        "    elif(self.agent_pos[0]==3 and self.agent_pos[1]==4):\n",
        "      reward =-6\n",
        "      print(f\"negative rock {reward}\")\n",
        "    \n",
        "\n",
        "    \n",
        "    if (self.agent_pos == self.goal_pos).all():\n",
        "        reward = 1\n",
        "\n",
        "    self.timestep += 1\n",
        "    \n",
        "    # done = True if self.timestep >= self.max_timesteps else False\n",
        "    done = True if reward == 1 else False\n",
        "    print(f\"Timesteps are: {self.timestep}\")\n",
        "    print(f\"State is: {self.state}\")\n",
        "    print(f\"Reward is: {reward}\")\n",
        "    print(f\"GridWorld Environment: {self.render()}\")\n",
        "    if done==True:\n",
        "      print(f\"Time step is {self.timestep}\")\n",
        "    info = {}\n",
        "\n",
        "    return observation, reward, done, info\n",
        "\n",
        "  def render(self):\n",
        "    plt.imshow(self.state)"
      ],
      "metadata": {
        "id": "K46b4X8yIvDd"
      },
      "execution_count": 11,
      "outputs": []
    },
    {
      "cell_type": "code",
      "source": [
        "class RandomAgent:\n",
        "  def __init__(self, env):\n",
        "    self.env = env\n",
        "    self.observation_space = env.observation_space\n",
        "    self.action_space = env.action_space\n",
        "\n",
        "  def step(self, observation):\n",
        "    return np.random.choice(self.action_space.n)"
      ],
      "metadata": {
        "id": "y0cFja3XbVvQ"
      },
      "execution_count": 12,
      "outputs": []
    },
    {
      "cell_type": "code",
      "source": [
        "from google.colab import widgets\n",
        "import time\n",
        "\n",
        "env = GridEnvironment()\n",
        "agent = RandomAgent(env)\n",
        "\n",
        "obs = env.reset()\n",
        "done = False\n",
        "\n",
        "# output_grid = widgets.Grid(1, 1)\n",
        "# # for _ in range(6):\n",
        "# #   grid = np.zeros((5, 5))\n",
        "# #   grid[np.random.randint(5), np.random.randint(5)] = 1\n",
        "# with output_grid.output_to(0, 0):\n",
        "#     output_grid.clear_cell()\n",
        "#     plt.imshow(grid)\n",
        "#   time.sleep(1)\n",
        "\n",
        "output_grid = widgets.Grid(1, 1)\n",
        "with output_grid.output_to(0, 0):\n",
        "  env.render()\n",
        "\n",
        "\n",
        "while not done:\n",
        "  action = agent.step(obs)\n",
        "  obs, reward, done, info = env.step(action)\n",
        "  print(\"Reward\",reward)\n",
        "  print(\"Agent's action is \",action)\n",
        "  with output_grid.output_to(0, 0):\n",
        "    output_grid.clear_cell()\n",
        "    env.render()\n",
        "  time.sleep(1)"
      ],
      "metadata": {
        "colab": {
          "base_uri": "https://localhost:8080/",
          "height": 1000
        },
        "id": "gFA9qn1YbZyY",
        "outputId": "703e4185-7bbd-4626-c556-3d573c3a1007"
      },
      "execution_count": 13,
      "outputs": [
        {
          "output_type": "display_data",
          "data": {
            "text/plain": [
              "<IPython.core.display.HTML object>"
            ],
            "text/html": [
              "<style>\n",
              "       table#id4, #id4 > tbody > tr > th, #id4 > tbody > tr > td {\n",
              "         border: 1px solid lightgray;\n",
              "         border-collapse:collapse;\n",
              "         \n",
              "        }</style>"
            ]
          },
          "metadata": {}
        },
        {
          "output_type": "display_data",
          "data": {
            "text/plain": [
              "<IPython.core.display.HTML object>"
            ],
            "text/html": [
              "<table id=id4><tr><td id=id4-0-0></td></tr></table>"
            ]
          },
          "metadata": {}
        },
        {
          "output_type": "display_data",
          "data": {
            "text/plain": [
              "<IPython.core.display.Javascript object>"
            ],
            "application/javascript": [
              "window[\"3c43dcc2-cf37-11ec-a82b-0242ac1c0002\"] = google.colab.output.getActiveOutputArea();\n",
              "//# sourceURL=js_258c94f4be"
            ]
          },
          "metadata": {}
        },
        {
          "output_type": "display_data",
          "data": {
            "text/plain": [
              "<IPython.core.display.Javascript object>"
            ],
            "application/javascript": [
              "window[\"3c4444d2-cf37-11ec-a82b-0242ac1c0002\"] = document.querySelector(\"#id4-0-0\");\n",
              "//# sourceURL=js_92a03890bd"
            ]
          },
          "metadata": {}
        },
        {
          "output_type": "display_data",
          "data": {
            "text/plain": [
              "<IPython.core.display.Javascript object>"
            ],
            "application/javascript": [
              "window[\"3c44bf16-cf37-11ec-a82b-0242ac1c0002\"] = google.colab.output.setActiveOutputArea(window[\"3c4444d2-cf37-11ec-a82b-0242ac1c0002\"]);\n",
              "//# sourceURL=js_4c6cd91e68"
            ]
          },
          "metadata": {}
        },
        {
          "output_type": "display_data",
          "data": {
            "text/plain": [
              "<IPython.core.display.Javascript object>"
            ],
            "application/javascript": [
              "window[\"3c59abb0-cf37-11ec-a82b-0242ac1c0002\"] = google.colab.output.setActiveOutputArea(window[\"3c43dcc2-cf37-11ec-a82b-0242ac1c0002\"]);\n",
              "//# sourceURL=js_2cd53b5405"
            ]
          },
          "metadata": {}
        },
        {
          "output_type": "stream",
          "name": "stdout",
          "text": [
            "Timesteps are: 1\n",
            "State is: [[0.  0.  0.  0.  0.5]\n",
            " [0.  0.  0.  0.  0. ]\n",
            " [0.  0.  0.  0.  0. ]\n",
            " [0.  0.  0.  0.  0. ]\n",
            " [0.  1.  0.  0.  0. ]]\n",
            "Reward is: 0\n",
            "GridWorld Environment: None\n",
            "Reward 0\n",
            "Agent's action is  2\n"
          ]
        },
        {
          "output_type": "display_data",
          "data": {
            "text/plain": [
              "<Figure size 432x288 with 1 Axes>"
            ],
            "image/png": "[encoded data removed]"
          },
          "metadata": {
            "needs_background": "light"
          }
        },
        {
          "output_type": "display_data",
          "data": {
            "text/plain": [
              "<IPython.core.display.Javascript object>"
            ],
            "application/javascript": [
              "window[\"3c6fba22-cf37-11ec-a82b-0242ac1c0002\"] = google.colab.output.getActiveOutputArea();\n",
              "//# sourceURL=js_13821d66bb"
            ]
          },
          "metadata": {}
        },
        {
          "output_type": "display_data",
          "data": {
            "text/plain": [
              "<IPython.core.display.Javascript object>"
            ],
            "application/javascript": [
              "window[\"3c701580-cf37-11ec-a82b-0242ac1c0002\"] = document.querySelector(\"#id4-0-0\");\n",
              "//# sourceURL=js_faeed4de37"
            ]
          },
          "metadata": {}
        },
        {
          "output_type": "display_data",
          "data": {
            "text/plain": [
              "<IPython.core.display.Javascript object>"
            ],
            "application/javascript": [
              "window[\"3c706fd0-cf37-11ec-a82b-0242ac1c0002\"] = google.colab.output.setActiveOutputArea(window[\"3c701580-cf37-11ec-a82b-0242ac1c0002\"]);\n",
              "//# sourceURL=js_607a53d732"
            ]
          },
          "metadata": {}
        },
        {
          "output_type": "display_data",
          "data": {
            "text/plain": [
              "<IPython.core.display.Javascript object>"
            ],
            "application/javascript": [
              "window[\"3c868536-cf37-11ec-a82b-0242ac1c0002\"] = google.colab.output.setActiveOutputArea(window[\"3c6fba22-cf37-11ec-a82b-0242ac1c0002\"]);\n",
              "//# sourceURL=js_e7cd066984"
            ]
          },
          "metadata": {}
        },
        {
          "output_type": "stream",
          "name": "stdout",
          "text": [
            "Timesteps are: 2\n",
            "State is: [[0.  0.  0.  0.  0.5]\n",
            " [0.  0.  0.  0.  0. ]\n",
            " [0.  0.  0.  0.  0. ]\n",
            " [0.  0.  0.  0.  0. ]\n",
            " [0.  1.  0.  0.  0. ]]\n",
            "Reward is: 0\n",
            "GridWorld Environment: None\n",
            "Reward 0\n",
            "Agent's action is  0\n"
          ]
        },
        {
          "output_type": "display_data",
          "data": {
            "text/plain": [
              "<Figure size 432x288 with 1 Axes>"
            ],
            "image/png": "[encoded data removed]"
          },
          "metadata": {
            "needs_background": "light"
          }
        },
        {
          "output_type": "display_data",
          "data": {
            "text/plain": [
              "<IPython.core.display.Javascript object>"
            ],
            "application/javascript": [
              "window[\"3d350f8e-cf37-11ec-a82b-0242ac1c0002\"] = google.colab.output.getActiveOutputArea();\n",
              "//# sourceURL=js_6390fb76bd"
            ]
          },
          "metadata": {}
        },
        {
          "output_type": "display_data",
          "data": {
            "text/plain": [
              "<IPython.core.display.Javascript object>"
            ],
            "application/javascript": [
              "window[\"3d35c38e-cf37-11ec-a82b-0242ac1c0002\"] = document.querySelector(\"#id4-0-0\");\n",
              "//# sourceURL=js_68acb9489d"
            ]
          },
          "metadata": {}
        },
        {
          "output_type": "display_data",
          "data": {
            "text/plain": [
              "<IPython.core.display.Javascript object>"
            ],
            "application/javascript": [
              "window[\"3d37148c-cf37-11ec-a82b-0242ac1c0002\"] = google.colab.output.setActiveOutputArea(window[\"3d35c38e-cf37-11ec-a82b-0242ac1c0002\"]);\n",
              "//# sourceURL=js_5a1863889f"
            ]
          },
          "metadata": {}
        },
        {
          "output_type": "display_data",
          "data": {
            "text/plain": [
              "<IPython.core.display.Javascript object>"
            ],
            "application/javascript": [
              "window[\"3d4dcbc8-cf37-11ec-a82b-0242ac1c0002\"] = google.colab.output.setActiveOutputArea(window[\"3d350f8e-cf37-11ec-a82b-0242ac1c0002\"]);\n",
              "//# sourceURL=js_0854ea050e"
            ]
          },
          "metadata": {}
        },
        {
          "output_type": "stream",
          "name": "stdout",
          "text": [
            "Timesteps are: 3\n",
            "State is: [[0.  0.  0.  0.  0.5]\n",
            " [0.  0.  0.  0.  0. ]\n",
            " [0.  0.  0.  0.  0. ]\n",
            " [0.  1.  0.  0.  0. ]\n",
            " [0.  0.  0.  0.  0. ]]\n",
            "Reward is: 0\n",
            "GridWorld Environment: None\n",
            "Reward 0\n",
            "Agent's action is  1\n"
          ]
        },
        {
          "output_type": "display_data",
          "data": {
            "text/plain": [
              "<Figure size 432x288 with 1 Axes>"
            ],
            "image/png": "[encoded data removed]"
          },
          "metadata": {
            "needs_background": "light"
          }
        },
        {
          "output_type": "display_data",
          "data": {
            "text/plain": [
              "<IPython.core.display.Javascript object>"
            ],
            "application/javascript": [
              "window[\"3dfdcf82-cf37-11ec-a82b-0242ac1c0002\"] = google.colab.output.getActiveOutputArea();\n",
              "//# sourceURL=js_db1f21b8e7"
            ]
          },
          "metadata": {}
        },
        {
          "output_type": "display_data",
          "data": {
            "text/plain": [
              "<IPython.core.display.Javascript object>"
            ],
            "application/javascript": [
              "window[\"3dfe2d7e-cf37-11ec-a82b-0242ac1c0002\"] = document.querySelector(\"#id4-0-0\");\n",
              "//# sourceURL=js_e74a336765"
            ]
          },
          "metadata": {}
        },
        {
          "output_type": "display_data",
          "data": {
            "text/plain": [
              "<IPython.core.display.Javascript object>"
            ],
            "application/javascript": [
              "window[\"3dfe8e86-cf37-11ec-a82b-0242ac1c0002\"] = google.colab.output.setActiveOutputArea(window[\"3dfe2d7e-cf37-11ec-a82b-0242ac1c0002\"]);\n",
              "//# sourceURL=js_2ca6188144"
            ]
          },
          "metadata": {}
        },
        {
          "output_type": "display_data",
          "data": {
            "text/plain": [
              "<IPython.core.display.Javascript object>"
            ],
            "application/javascript": [
              "window[\"3e1c9282-cf37-11ec-a82b-0242ac1c0002\"] = google.colab.output.setActiveOutputArea(window[\"3dfdcf82-cf37-11ec-a82b-0242ac1c0002\"]);\n",
              "//# sourceURL=js_6ceadef4f6"
            ]
          },
          "metadata": {}
        },
        {
          "output_type": "stream",
          "name": "stdout",
          "text": [
            "Timesteps are: 4\n",
            "State is: [[0.  0.  0.  0.  0.5]\n",
            " [0.  0.  0.  0.  0. ]\n",
            " [0.  0.  0.  0.  0. ]\n",
            " [1.  0.  0.  0.  0. ]\n",
            " [0.  0.  0.  0.  0. ]]\n",
            "Reward is: 0\n",
            "GridWorld Environment: None\n",
            "Reward 0\n",
            "Agent's action is  3\n"
          ]
        },
        {
          "output_type": "display_data",
          "data": {
            "text/plain": [
              "<Figure size 432x288 with 1 Axes>"
            ],
            "image/png": "[encoded data removed]"
          },
          "metadata": {
            "needs_background": "light"
          }
        },
        {
          "output_type": "display_data",
          "data": {
            "text/plain": [
              "<IPython.core.display.Javascript object>"
            ],
            "application/javascript": [
              "window[\"3ecca88e-cf37-11ec-a82b-0242ac1c0002\"] = google.colab.output.getActiveOutputArea();\n",
              "//# sourceURL=js_76ce8297e8"
            ]
          },
          "metadata": {}
        },
        {
          "output_type": "display_data",
          "data": {
            "text/plain": [
              "<IPython.core.display.Javascript object>"
            ],
            "application/javascript": [
              "window[\"3ecd147c-cf37-11ec-a82b-0242ac1c0002\"] = document.querySelector(\"#id4-0-0\");\n",
              "//# sourceURL=js_8e3e8c3a7c"
            ]
          },
          "metadata": {}
        },
        {
          "output_type": "display_data",
          "data": {
            "text/plain": [
              "<IPython.core.display.Javascript object>"
            ],
            "application/javascript": [
              "window[\"3ecd7f52-cf37-11ec-a82b-0242ac1c0002\"] = google.colab.output.setActiveOutputArea(window[\"3ecd147c-cf37-11ec-a82b-0242ac1c0002\"]);\n",
              "//# sourceURL=js_8472a91e39"
            ]
          },
          "metadata": {}
        },
        {
          "output_type": "display_data",
          "data": {
            "text/plain": [
              "<IPython.core.display.Javascript object>"
            ],
            "application/javascript": [
              "window[\"3ee22d4e-cf37-11ec-a82b-0242ac1c0002\"] = google.colab.output.setActiveOutputArea(window[\"3ecca88e-cf37-11ec-a82b-0242ac1c0002\"]);\n",
              "//# sourceURL=js_6ae2dce1ca"
            ]
          },
          "metadata": {}
        },
        {
          "output_type": "stream",
          "name": "stdout",
          "text": [
            "Timesteps are: 5\n",
            "State is: [[0.  0.  0.  0.  0.5]\n",
            " [0.  0.  0.  0.  0. ]\n",
            " [0.  0.  0.  0.  0. ]\n",
            " [0.  1.  0.  0.  0. ]\n",
            " [0.  0.  0.  0.  0. ]]\n",
            "Reward is: 0\n",
            "GridWorld Environment: None\n",
            "Reward 0\n",
            "Agent's action is  2\n"
          ]
        },
        {
          "output_type": "display_data",
          "data": {
            "text/plain": [
              "<Figure size 432x288 with 1 Axes>"
            ],
            "image/png": "[encoded data removed]"
          },
          "metadata": {
            "needs_background": "light"
          }
        },
        {
          "output_type": "display_data",
          "data": {
            "text/plain": [
              "<IPython.core.display.Javascript object>"
            ],
            "application/javascript": [
              "window[\"3f909c76-cf37-11ec-a82b-0242ac1c0002\"] = google.colab.output.getActiveOutputArea();\n",
              "//# sourceURL=js_d37ce003e7"
            ]
          },
          "metadata": {}
        },
        {
          "output_type": "display_data",
          "data": {
            "text/plain": [
              "<IPython.core.display.Javascript object>"
            ],
            "application/javascript": [
              "window[\"3f9113fe-cf37-11ec-a82b-0242ac1c0002\"] = document.querySelector(\"#id4-0-0\");\n",
              "//# sourceURL=js_dd92b236a2"
            ]
          },
          "metadata": {}
        },
        {
          "output_type": "display_data",
          "data": {
            "text/plain": [
              "<IPython.core.display.Javascript object>"
            ],
            "application/javascript": [
              "window[\"3f9193c4-cf37-11ec-a82b-0242ac1c0002\"] = google.colab.output.setActiveOutputArea(window[\"3f9113fe-cf37-11ec-a82b-0242ac1c0002\"]);\n",
              "//# sourceURL=js_0aa84546ab"
            ]
          },
          "metadata": {}
        },
        {
          "output_type": "display_data",
          "data": {
            "text/plain": [
              "<IPython.core.display.Javascript object>"
            ],
            "application/javascript": [
              "window[\"3fa7a736-cf37-11ec-a82b-0242ac1c0002\"] = google.colab.output.setActiveOutputArea(window[\"3f909c76-cf37-11ec-a82b-0242ac1c0002\"]);\n",
              "//# sourceURL=js_4ecc32561b"
            ]
          },
          "metadata": {}
        },
        {
          "output_type": "stream",
          "name": "stdout",
          "text": [
            "Timesteps are: 6\n",
            "State is: [[0.  0.  0.  0.  0.5]\n",
            " [0.  0.  0.  0.  0. ]\n",
            " [0.  0.  0.  0.  0. ]\n",
            " [1.  0.  0.  0.  0. ]\n",
            " [0.  0.  0.  0.  0. ]]\n",
            "Reward is: 0\n",
            "GridWorld Environment: None\n",
            "Reward 0\n",
            "Agent's action is  3\n"
          ]
        },
        {
          "output_type": "display_data",
          "data": {
            "text/plain": [
              "<Figure size 432x288 with 1 Axes>"
            ],
            "image/png": "[encoded data removed]"
          },
          "metadata": {
            "needs_background": "light"
          }
        },
        {
          "output_type": "display_data",
          "data": {
            "text/plain": [
              "<IPython.core.display.Javascript object>"
            ],
            "application/javascript": [
              "window[\"4057cad0-cf37-11ec-a82b-0242ac1c0002\"] = google.colab.output.getActiveOutputArea();\n",
              "//# sourceURL=js_aa9fc2e389"
            ]
          },
          "metadata": {}
        },
        {
          "output_type": "display_data",
          "data": {
            "text/plain": [
              "<IPython.core.display.Javascript object>"
            ],
            "application/javascript": [
              "window[\"40582ea8-cf37-11ec-a82b-0242ac1c0002\"] = document.querySelector(\"#id4-0-0\");\n",
              "//# sourceURL=js_d982fa9146"
            ]
          },
          "metadata": {}
        },
        {
          "output_type": "display_data",
          "data": {
            "text/plain": [
              "<IPython.core.display.Javascript object>"
            ],
            "application/javascript": [
              "window[\"40588970-cf37-11ec-a82b-0242ac1c0002\"] = google.colab.output.setActiveOutputArea(window[\"40582ea8-cf37-11ec-a82b-0242ac1c0002\"]);\n",
              "//# sourceURL=js_c50b82faf6"
            ]
          },
          "metadata": {}
        },
        {
          "output_type": "display_data",
          "data": {
            "text/plain": [
              "<IPython.core.display.Javascript object>"
            ],
            "application/javascript": [
              "window[\"406e1b8c-cf37-11ec-a82b-0242ac1c0002\"] = google.colab.output.setActiveOutputArea(window[\"4057cad0-cf37-11ec-a82b-0242ac1c0002\"]);\n",
              "//# sourceURL=js_e22ed668a0"
            ]
          },
          "metadata": {}
        },
        {
          "output_type": "stream",
          "name": "stdout",
          "text": [
            "Timesteps are: 7\n",
            "State is: [[0.  0.  0.  0.  0.5]\n",
            " [0.  0.  0.  0.  0. ]\n",
            " [0.  0.  0.  0.  0. ]\n",
            " [0.  0.  0.  0.  0. ]\n",
            " [1.  0.  0.  0.  0. ]]\n",
            "Reward is: 0\n",
            "GridWorld Environment: None\n",
            "Reward 0\n",
            "Agent's action is  0\n"
          ]
        },
        {
          "output_type": "display_data",
          "data": {
            "text/plain": [
              "<Figure size 432x288 with 1 Axes>"
            ],
            "image/png": "[encoded data removed]"
          },
          "metadata": {
            "needs_background": "light"
          }
        },
        {
          "output_type": "display_data",
          "data": {
            "text/plain": [
              "<IPython.core.display.Javascript object>"
            ],
            "application/javascript": [
              "window[\"411c07d8-cf37-11ec-a82b-0242ac1c0002\"] = google.colab.output.getActiveOutputArea();\n",
              "//# sourceURL=js_45a7c2c6cb"
            ]
          },
          "metadata": {}
        },
        {
          "output_type": "display_data",
          "data": {
            "text/plain": [
              "<IPython.core.display.Javascript object>"
            ],
            "application/javascript": [
              "window[\"411c80c8-cf37-11ec-a82b-0242ac1c0002\"] = document.querySelector(\"#id4-0-0\");\n",
              "//# sourceURL=js_f60434f183"
            ]
          },
          "metadata": {}
        },
        {
          "output_type": "display_data",
          "data": {
            "text/plain": [
              "<IPython.core.display.Javascript object>"
            ],
            "application/javascript": [
              "window[\"411ce23e-cf37-11ec-a82b-0242ac1c0002\"] = google.colab.output.setActiveOutputArea(window[\"411c80c8-cf37-11ec-a82b-0242ac1c0002\"]);\n",
              "//# sourceURL=js_12230901bf"
            ]
          },
          "metadata": {}
        },
        {
          "output_type": "display_data",
          "data": {
            "text/plain": [
              "<IPython.core.display.Javascript object>"
            ],
            "application/javascript": [
              "window[\"4133d73c-cf37-11ec-a82b-0242ac1c0002\"] = google.colab.output.setActiveOutputArea(window[\"411c07d8-cf37-11ec-a82b-0242ac1c0002\"]);\n",
              "//# sourceURL=js_c1d9e9fb2c"
            ]
          },
          "metadata": {}
        },
        {
          "output_type": "stream",
          "name": "stdout",
          "text": [
            "Timesteps are: 8\n",
            "State is: [[0.  0.  0.  0.  0.5]\n",
            " [0.  0.  0.  0.  0. ]\n",
            " [0.  0.  0.  0.  0. ]\n",
            " [0.  0.  0.  0.  0. ]\n",
            " [1.  0.  0.  0.  0. ]]\n",
            "Reward is: 0\n",
            "GridWorld Environment: None\n",
            "Reward 0\n",
            "Agent's action is  0\n"
          ]
        },
        {
          "output_type": "display_data",
          "data": {
            "text/plain": [
              "<Figure size 432x288 with 1 Axes>"
            ],
            "image/png": "[encoded data removed]"
          },
          "metadata": {
            "needs_background": "light"
          }
        },
        {
          "output_type": "display_data",
          "data": {
            "text/plain": [
              "<IPython.core.display.Javascript object>"
            ],
            "application/javascript": [
              "window[\"41e720e4-cf37-11ec-a82b-0242ac1c0002\"] = google.colab.output.getActiveOutputArea();\n",
              "//# sourceURL=js_da0c2fb21c"
            ]
          },
          "metadata": {}
        },
        {
          "output_type": "display_data",
          "data": {
            "text/plain": [
              "<IPython.core.display.Javascript object>"
            ],
            "application/javascript": [
              "window[\"41e82020-cf37-11ec-a82b-0242ac1c0002\"] = document.querySelector(\"#id4-0-0\");\n",
              "//# sourceURL=js_1be92bbde2"
            ]
          },
          "metadata": {}
        },
        {
          "output_type": "display_data",
          "data": {
            "text/plain": [
              "<IPython.core.display.Javascript object>"
            ],
            "application/javascript": [
              "window[\"41e8d740-cf37-11ec-a82b-0242ac1c0002\"] = google.colab.output.setActiveOutputArea(window[\"41e82020-cf37-11ec-a82b-0242ac1c0002\"]);\n",
              "//# sourceURL=js_e1aed007ee"
            ]
          },
          "metadata": {}
        },
        {
          "output_type": "display_data",
          "data": {
            "text/plain": [
              "<IPython.core.display.Javascript object>"
            ],
            "application/javascript": [
              "window[\"420230b4-cf37-11ec-a82b-0242ac1c0002\"] = google.colab.output.setActiveOutputArea(window[\"41e720e4-cf37-11ec-a82b-0242ac1c0002\"]);\n",
              "//# sourceURL=js_b1d41db0f5"
            ]
          },
          "metadata": {}
        },
        {
          "output_type": "stream",
          "name": "stdout",
          "text": [
            "Timesteps are: 9\n",
            "State is: [[0.  0.  0.  0.  0.5]\n",
            " [0.  0.  0.  0.  0. ]\n",
            " [0.  0.  0.  0.  0. ]\n",
            " [0.  0.  0.  0.  0. ]\n",
            " [1.  0.  0.  0.  0. ]]\n",
            "Reward is: 0\n",
            "GridWorld Environment: None\n",
            "Reward 0\n",
            "Agent's action is  3\n"
          ]
        },
        {
          "output_type": "display_data",
          "data": {
            "text/plain": [
              "<Figure size 432x288 with 1 Axes>"
            ],
            "image/png": "[encoded data removed]"
          },
          "metadata": {
            "needs_background": "light"
          }
        },
        {
          "output_type": "display_data",
          "data": {
            "text/plain": [
              "<IPython.core.display.Javascript object>"
            ],
            "application/javascript": [
              "window[\"42bd2392-cf37-11ec-a82b-0242ac1c0002\"] = google.colab.output.getActiveOutputArea();\n",
              "//# sourceURL=js_e3f895ace8"
            ]
          },
          "metadata": {}
        },
        {
          "output_type": "display_data",
          "data": {
            "text/plain": [
              "<IPython.core.display.Javascript object>"
            ],
            "application/javascript": [
              "window[\"42bdf3a8-cf37-11ec-a82b-0242ac1c0002\"] = document.querySelector(\"#id4-0-0\");\n",
              "//# sourceURL=js_20ccf49963"
            ]
          },
          "metadata": {}
        },
        {
          "output_type": "display_data",
          "data": {
            "text/plain": [
              "<IPython.core.display.Javascript object>"
            ],
            "application/javascript": [
              "window[\"42bebe64-cf37-11ec-a82b-0242ac1c0002\"] = google.colab.output.setActiveOutputArea(window[\"42bdf3a8-cf37-11ec-a82b-0242ac1c0002\"]);\n",
              "//# sourceURL=js_aa99c1d8ab"
            ]
          },
          "metadata": {}
        },
        {
          "output_type": "display_data",
          "data": {
            "text/plain": [
              "<IPython.core.display.Javascript object>"
            ],
            "application/javascript": [
              "window[\"42d577ee-cf37-11ec-a82b-0242ac1c0002\"] = google.colab.output.setActiveOutputArea(window[\"42bd2392-cf37-11ec-a82b-0242ac1c0002\"]);\n",
              "//# sourceURL=js_911c73d54b"
            ]
          },
          "metadata": {}
        },
        {
          "output_type": "stream",
          "name": "stdout",
          "text": [
            "Timesteps are: 10\n",
            "State is: [[0.  0.  0.  0.  0.5]\n",
            " [0.  0.  0.  0.  0. ]\n",
            " [0.  0.  0.  0.  0. ]\n",
            " [1.  0.  0.  0.  0. ]\n",
            " [0.  0.  0.  0.  0. ]]\n",
            "Reward is: 0\n",
            "GridWorld Environment: None\n",
            "Reward 0\n",
            "Agent's action is  1\n"
          ]
        },
        {
          "output_type": "display_data",
          "data": {
            "text/plain": [
              "<Figure size 432x288 with 1 Axes>"
            ],
            "image/png": "[encoded data removed]"
          },
          "metadata": {
            "needs_background": "light"
          }
        },
        {
          "output_type": "display_data",
          "data": {
            "text/plain": [
              "<IPython.core.display.Javascript object>"
            ],
            "application/javascript": [
              "window[\"438703f6-cf37-11ec-a82b-0242ac1c0002\"] = google.colab.output.getActiveOutputArea();\n",
              "//# sourceURL=js_727f91889c"
            ]
          },
          "metadata": {}
        },
        {
          "output_type": "display_data",
          "data": {
            "text/plain": [
              "<IPython.core.display.Javascript object>"
            ],
            "application/javascript": [
              "window[\"43875e3c-cf37-11ec-a82b-0242ac1c0002\"] = document.querySelector(\"#id4-0-0\");\n",
              "//# sourceURL=js_58f2c94b1c"
            ]
          },
          "metadata": {}
        },
        {
          "output_type": "display_data",
          "data": {
            "text/plain": [
              "<IPython.core.display.Javascript object>"
            ],
            "application/javascript": [
              "window[\"4387b44a-cf37-11ec-a82b-0242ac1c0002\"] = google.colab.output.setActiveOutputArea(window[\"43875e3c-cf37-11ec-a82b-0242ac1c0002\"]);\n",
              "//# sourceURL=js_1088d85173"
            ]
          },
          "metadata": {}
        },
        {
          "output_type": "display_data",
          "data": {
            "text/plain": [
              "<IPython.core.display.Javascript object>"
            ],
            "application/javascript": [
              "window[\"439fc210-cf37-11ec-a82b-0242ac1c0002\"] = google.colab.output.setActiveOutputArea(window[\"438703f6-cf37-11ec-a82b-0242ac1c0002\"]);\n",
              "//# sourceURL=js_08cf546aa4"
            ]
          },
          "metadata": {}
        },
        {
          "output_type": "stream",
          "name": "stdout",
          "text": [
            "Timesteps are: 11\n",
            "State is: [[0.  0.  0.  0.  0.5]\n",
            " [0.  0.  0.  0.  0. ]\n",
            " [0.  0.  0.  0.  0. ]\n",
            " [1.  0.  0.  0.  0. ]\n",
            " [0.  0.  0.  0.  0. ]]\n",
            "Reward is: 0\n",
            "GridWorld Environment: None\n",
            "Reward 0\n",
            "Agent's action is  3\n"
          ]
        },
        {
          "output_type": "display_data",
          "data": {
            "text/plain": [
              "<Figure size 432x288 with 1 Axes>"
            ],
            "image/png": "[encoded data removed]"
          },
          "metadata": {
            "needs_background": "light"
          }
        },
        {
          "output_type": "display_data",
          "data": {
            "text/plain": [
              "<IPython.core.display.Javascript object>"
            ],
            "application/javascript": [
              "window[\"4451e6c0-cf37-11ec-a82b-0242ac1c0002\"] = google.colab.output.getActiveOutputArea();\n",
              "//# sourceURL=js_93301d49ba"
            ]
          },
          "metadata": {}
        },
        {
          "output_type": "display_data",
          "data": {
            "text/plain": [
              "<IPython.core.display.Javascript object>"
            ],
            "application/javascript": [
              "window[\"44525dc6-cf37-11ec-a82b-0242ac1c0002\"] = document.querySelector(\"#id4-0-0\");\n",
              "//# sourceURL=js_23591420da"
            ]
          },
          "metadata": {}
        },
        {
          "output_type": "display_data",
          "data": {
            "text/plain": [
              "<IPython.core.display.Javascript object>"
            ],
            "application/javascript": [
              "window[\"4452d79c-cf37-11ec-a82b-0242ac1c0002\"] = google.colab.output.setActiveOutputArea(window[\"44525dc6-cf37-11ec-a82b-0242ac1c0002\"]);\n",
              "//# sourceURL=js_8b6a2c6fb8"
            ]
          },
          "metadata": {}
        },
        {
          "output_type": "display_data",
          "data": {
            "text/plain": [
              "<IPython.core.display.Javascript object>"
            ],
            "application/javascript": [
              "window[\"446af548-cf37-11ec-a82b-0242ac1c0002\"] = google.colab.output.setActiveOutputArea(window[\"4451e6c0-cf37-11ec-a82b-0242ac1c0002\"]);\n",
              "//# sourceURL=js_e862c76a16"
            ]
          },
          "metadata": {}
        },
        {
          "output_type": "stream",
          "name": "stdout",
          "text": [
            "Timesteps are: 12\n",
            "State is: [[0.  0.  0.  0.  0.5]\n",
            " [0.  0.  0.  0.  0. ]\n",
            " [0.  0.  0.  0.  0. ]\n",
            " [0.  1.  0.  0.  0. ]\n",
            " [0.  0.  0.  0.  0. ]]\n",
            "Reward is: 0\n",
            "GridWorld Environment: None\n",
            "Reward 0\n",
            "Agent's action is  2\n"
          ]
        },
        {
          "output_type": "display_data",
          "data": {
            "text/plain": [
              "<Figure size 432x288 with 1 Axes>"
            ],
            "image/png": "[encoded data removed]"
          },
          "metadata": {
            "needs_background": "light"
          }
        },
        {
          "output_type": "display_data",
          "data": {
            "text/plain": [
              "<IPython.core.display.Javascript object>"
            ],
            "application/javascript": [
              "window[\"4519c366-cf37-11ec-a82b-0242ac1c0002\"] = google.colab.output.getActiveOutputArea();\n",
              "//# sourceURL=js_783346d07e"
            ]
          },
          "metadata": {}
        },
        {
          "output_type": "display_data",
          "data": {
            "text/plain": [
              "<IPython.core.display.Javascript object>"
            ],
            "application/javascript": [
              "window[\"451a1fc8-cf37-11ec-a82b-0242ac1c0002\"] = document.querySelector(\"#id4-0-0\");\n",
              "//# sourceURL=js_05e55f47f6"
            ]
          },
          "metadata": {}
        },
        {
          "output_type": "display_data",
          "data": {
            "text/plain": [
              "<IPython.core.display.Javascript object>"
            ],
            "application/javascript": [
              "window[\"451a7914-cf37-11ec-a82b-0242ac1c0002\"] = google.colab.output.setActiveOutputArea(window[\"451a1fc8-cf37-11ec-a82b-0242ac1c0002\"]);\n",
              "//# sourceURL=js_890576e0e8"
            ]
          },
          "metadata": {}
        },
        {
          "output_type": "display_data",
          "data": {
            "text/plain": [
              "<IPython.core.display.Javascript object>"
            ],
            "application/javascript": [
              "window[\"452fe362-cf37-11ec-a82b-0242ac1c0002\"] = google.colab.output.setActiveOutputArea(window[\"4519c366-cf37-11ec-a82b-0242ac1c0002\"]);\n",
              "//# sourceURL=js_abec4e96fe"
            ]
          },
          "metadata": {}
        },
        {
          "output_type": "stream",
          "name": "stdout",
          "text": [
            "Timesteps are: 13\n",
            "State is: [[0.  0.  0.  0.  0.5]\n",
            " [0.  0.  0.  0.  0. ]\n",
            " [0.  0.  0.  0.  0. ]\n",
            " [0.  0.  0.  0.  0. ]\n",
            " [0.  1.  0.  0.  0. ]]\n",
            "Reward is: 0\n",
            "GridWorld Environment: None\n",
            "Reward 0\n",
            "Agent's action is  0\n"
          ]
        },
        {
          "output_type": "display_data",
          "data": {
            "text/plain": [
              "<Figure size 432x288 with 1 Axes>"
            ],
            "image/png": "[encoded data removed]"
          },
          "metadata": {
            "needs_background": "light"
          }
        },
        {
          "output_type": "display_data",
          "data": {
            "text/plain": [
              "<IPython.core.display.Javascript object>"
            ],
            "application/javascript": [
              "window[\"45dd8f1c-cf37-11ec-a82b-0242ac1c0002\"] = google.colab.output.getActiveOutputArea();\n",
              "//# sourceURL=js_ef446adbfa"
            ]
          },
          "metadata": {}
        },
        {
          "output_type": "display_data",
          "data": {
            "text/plain": [
              "<IPython.core.display.Javascript object>"
            ],
            "application/javascript": [
              "window[\"45ddf3e4-cf37-11ec-a82b-0242ac1c0002\"] = document.querySelector(\"#id4-0-0\");\n",
              "//# sourceURL=js_e57d0d9717"
            ]
          },
          "metadata": {}
        },
        {
          "output_type": "display_data",
          "data": {
            "text/plain": [
              "<IPython.core.display.Javascript object>"
            ],
            "application/javascript": [
              "window[\"45de5f0a-cf37-11ec-a82b-0242ac1c0002\"] = google.colab.output.setActiveOutputArea(window[\"45ddf3e4-cf37-11ec-a82b-0242ac1c0002\"]);\n",
              "//# sourceURL=js_392182f4e1"
            ]
          },
          "metadata": {}
        },
        {
          "output_type": "display_data",
          "data": {
            "text/plain": [
              "<IPython.core.display.Javascript object>"
            ],
            "application/javascript": [
              "window[\"45f60524-cf37-11ec-a82b-0242ac1c0002\"] = google.colab.output.setActiveOutputArea(window[\"45dd8f1c-cf37-11ec-a82b-0242ac1c0002\"]);\n",
              "//# sourceURL=js_a687c0888b"
            ]
          },
          "metadata": {}
        },
        {
          "output_type": "stream",
          "name": "stdout",
          "text": [
            "Timesteps are: 14\n",
            "State is: [[0.  0.  0.  0.  0.5]\n",
            " [0.  0.  0.  0.  0. ]\n",
            " [0.  0.  0.  0.  0. ]\n",
            " [0.  0.  0.  0.  0. ]\n",
            " [0.  1.  0.  0.  0. ]]\n",
            "Reward is: 0\n",
            "GridWorld Environment: None\n",
            "Reward 0\n",
            "Agent's action is  0\n"
          ]
        },
        {
          "output_type": "display_data",
          "data": {
            "text/plain": [
              "<Figure size 432x288 with 1 Axes>"
            ],
            "image/png": "[encoded data removed]"
          },
          "metadata": {
            "needs_background": "light"
          }
        },
        {
          "output_type": "display_data",
          "data": {
            "text/plain": [
              "<IPython.core.display.Javascript object>"
            ],
            "application/javascript": [
              "window[\"46a59fde-cf37-11ec-a82b-0242ac1c0002\"] = google.colab.output.getActiveOutputArea();\n",
              "//# sourceURL=js_dd768e8eaa"
            ]
          },
          "metadata": {}
        },
        {
          "output_type": "display_data",
          "data": {
            "text/plain": [
              "<IPython.core.display.Javascript object>"
            ],
            "application/javascript": [
              "window[\"46a61086-cf37-11ec-a82b-0242ac1c0002\"] = document.querySelector(\"#id4-0-0\");\n",
              "//# sourceURL=js_db54fbf3ca"
            ]
          },
          "metadata": {}
        },
        {
          "output_type": "display_data",
          "data": {
            "text/plain": [
              "<IPython.core.display.Javascript object>"
            ],
            "application/javascript": [
              "window[\"46a6729c-cf37-11ec-a82b-0242ac1c0002\"] = google.colab.output.setActiveOutputArea(window[\"46a61086-cf37-11ec-a82b-0242ac1c0002\"]);\n",
              "//# sourceURL=js_81486b20c1"
            ]
          },
          "metadata": {}
        },
        {
          "output_type": "display_data",
          "data": {
            "text/plain": [
              "<IPython.core.display.Javascript object>"
            ],
            "application/javascript": [
              "window[\"46c5789a-cf37-11ec-a82b-0242ac1c0002\"] = google.colab.output.setActiveOutputArea(window[\"46a59fde-cf37-11ec-a82b-0242ac1c0002\"]);\n",
              "//# sourceURL=js_17f659f905"
            ]
          },
          "metadata": {}
        },
        {
          "output_type": "stream",
          "name": "stdout",
          "text": [
            "Timesteps are: 15\n",
            "State is: [[0.  0.  0.  0.  0.5]\n",
            " [0.  0.  0.  0.  0. ]\n",
            " [0.  0.  0.  0.  0. ]\n",
            " [0.  0.  0.  0.  0. ]\n",
            " [1.  0.  0.  0.  0. ]]\n",
            "Reward is: 0\n",
            "GridWorld Environment: None\n",
            "Reward 0\n",
            "Agent's action is  3\n"
          ]
        },
        {
          "output_type": "display_data",
          "data": {
            "text/plain": [
              "<Figure size 432x288 with 1 Axes>"
            ],
            "image/png": "[encoded data removed]"
          },
          "metadata": {
            "needs_background": "light"
          }
        },
        {
          "output_type": "display_data",
          "data": {
            "text/plain": [
              "<IPython.core.display.Javascript object>"
            ],
            "application/javascript": [
              "window[\"4779730e-cf37-11ec-a82b-0242ac1c0002\"] = google.colab.output.getActiveOutputArea();\n",
              "//# sourceURL=js_6c240b7b68"
            ]
          },
          "metadata": {}
        },
        {
          "output_type": "display_data",
          "data": {
            "text/plain": [
              "<IPython.core.display.Javascript object>"
            ],
            "application/javascript": [
              "window[\"4779d2f4-cf37-11ec-a82b-0242ac1c0002\"] = document.querySelector(\"#id4-0-0\");\n",
              "//# sourceURL=js_570b01e955"
            ]
          },
          "metadata": {}
        },
        {
          "output_type": "display_data",
          "data": {
            "text/plain": [
              "<IPython.core.display.Javascript object>"
            ],
            "application/javascript": [
              "window[\"477a2f06-cf37-11ec-a82b-0242ac1c0002\"] = google.colab.output.setActiveOutputArea(window[\"4779d2f4-cf37-11ec-a82b-0242ac1c0002\"]);\n",
              "//# sourceURL=js_bdd39b5f51"
            ]
          },
          "metadata": {}
        },
        {
          "output_type": "display_data",
          "data": {
            "text/plain": [
              "<IPython.core.display.Javascript object>"
            ],
            "application/javascript": [
              "window[\"479292e4-cf37-11ec-a82b-0242ac1c0002\"] = google.colab.output.setActiveOutputArea(window[\"4779730e-cf37-11ec-a82b-0242ac1c0002\"]);\n",
              "//# sourceURL=js_a1d3fff328"
            ]
          },
          "metadata": {}
        },
        {
          "output_type": "stream",
          "name": "stdout",
          "text": [
            "Timesteps are: 16\n",
            "State is: [[0.  0.  0.  0.  0.5]\n",
            " [0.  0.  0.  0.  0. ]\n",
            " [0.  0.  0.  0.  0. ]\n",
            " [1.  0.  0.  0.  0. ]\n",
            " [0.  0.  0.  0.  0. ]]\n",
            "Reward is: 0\n",
            "GridWorld Environment: None\n",
            "Reward 0\n",
            "Agent's action is  1\n"
          ]
        },
        {
          "output_type": "display_data",
          "data": {
            "text/plain": [
              "<Figure size 432x288 with 1 Axes>"
            ],
            "image/png": "[encoded data removed]"
          },
          "metadata": {
            "needs_background": "light"
          }
        },
        {
          "output_type": "display_data",
          "data": {
            "text/plain": [
              "<IPython.core.display.Javascript object>"
            ],
            "application/javascript": [
              "window[\"48410ec8-cf37-11ec-a82b-0242ac1c0002\"] = google.colab.output.getActiveOutputArea();\n",
              "//# sourceURL=js_d100100106"
            ]
          },
          "metadata": {}
        },
        {
          "output_type": "display_data",
          "data": {
            "text/plain": [
              "<IPython.core.display.Javascript object>"
            ],
            "application/javascript": [
              "window[\"48416ef4-cf37-11ec-a82b-0242ac1c0002\"] = document.querySelector(\"#id4-0-0\");\n",
              "//# sourceURL=js_c20390d83d"
            ]
          },
          "metadata": {}
        },
        {
          "output_type": "display_data",
          "data": {
            "text/plain": [
              "<IPython.core.display.Javascript object>"
            ],
            "application/javascript": [
              "window[\"4841c598-cf37-11ec-a82b-0242ac1c0002\"] = google.colab.output.setActiveOutputArea(window[\"48416ef4-cf37-11ec-a82b-0242ac1c0002\"]);\n",
              "//# sourceURL=js_ee5b782322"
            ]
          },
          "metadata": {}
        },
        {
          "output_type": "display_data",
          "data": {
            "text/plain": [
              "<IPython.core.display.Javascript object>"
            ],
            "application/javascript": [
              "window[\"4858934a-cf37-11ec-a82b-0242ac1c0002\"] = google.colab.output.setActiveOutputArea(window[\"48410ec8-cf37-11ec-a82b-0242ac1c0002\"]);\n",
              "//# sourceURL=js_bd3073a45b"
            ]
          },
          "metadata": {}
        },
        {
          "output_type": "stream",
          "name": "stdout",
          "text": [
            "Timesteps are: 17\n",
            "State is: [[0.  0.  0.  0.  0.5]\n",
            " [0.  0.  0.  0.  0. ]\n",
            " [0.  0.  0.  0.  0. ]\n",
            " [0.  1.  0.  0.  0. ]\n",
            " [0.  0.  0.  0.  0. ]]\n",
            "Reward is: 0\n",
            "GridWorld Environment: None\n",
            "Reward 0\n",
            "Agent's action is  2\n"
          ]
        },
        {
          "output_type": "display_data",
          "data": {
            "text/plain": [
              "<Figure size 432x288 with 1 Axes>"
            ],
            "image/png": "[encoded data removed]"
          },
          "metadata": {
            "needs_background": "light"
          }
        },
        {
          "output_type": "display_data",
          "data": {
            "text/plain": [
              "<IPython.core.display.Javascript object>"
            ],
            "application/javascript": [
              "window[\"49077676-cf37-11ec-a82b-0242ac1c0002\"] = google.colab.output.getActiveOutputArea();\n",
              "//# sourceURL=js_3423388dd2"
            ]
          },
          "metadata": {}
        },
        {
          "output_type": "display_data",
          "data": {
            "text/plain": [
              "<IPython.core.display.Javascript object>"
            ],
            "application/javascript": [
              "window[\"4907f27c-cf37-11ec-a82b-0242ac1c0002\"] = document.querySelector(\"#id4-0-0\");\n",
              "//# sourceURL=js_b2595f9d99"
            ]
          },
          "metadata": {}
        },
        {
          "output_type": "display_data",
          "data": {
            "text/plain": [
              "<IPython.core.display.Javascript object>"
            ],
            "application/javascript": [
              "window[\"4908da52-cf37-11ec-a82b-0242ac1c0002\"] = google.colab.output.setActiveOutputArea(window[\"4907f27c-cf37-11ec-a82b-0242ac1c0002\"]);\n",
              "//# sourceURL=js_98ee82851d"
            ]
          },
          "metadata": {}
        },
        {
          "output_type": "display_data",
          "data": {
            "text/plain": [
              "<IPython.core.display.Javascript object>"
            ],
            "application/javascript": [
              "window[\"492097dc-cf37-11ec-a82b-0242ac1c0002\"] = google.colab.output.setActiveOutputArea(window[\"49077676-cf37-11ec-a82b-0242ac1c0002\"]);\n",
              "//# sourceURL=js_4ccc21352e"
            ]
          },
          "metadata": {}
        },
        {
          "output_type": "stream",
          "name": "stdout",
          "text": [
            "Timesteps are: 18\n",
            "State is: [[0.  0.  0.  0.  0.5]\n",
            " [0.  0.  0.  0.  0. ]\n",
            " [0.  0.  0.  0.  0. ]\n",
            " [1.  0.  0.  0.  0. ]\n",
            " [0.  0.  0.  0.  0. ]]\n",
            "Reward is: 0\n",
            "GridWorld Environment: None\n",
            "Reward 0\n",
            "Agent's action is  3\n"
          ]
        },
        {
          "output_type": "display_data",
          "data": {
            "text/plain": [
              "<Figure size 432x288 with 1 Axes>"
            ],
            "image/png": "[encoded data removed]"
          },
          "metadata": {
            "needs_background": "light"
          }
        },
        {
          "output_type": "display_data",
          "data": {
            "text/plain": [
              "<IPython.core.display.Javascript object>"
            ],
            "application/javascript": [
              "window[\"49cee1d4-cf37-11ec-a82b-0242ac1c0002\"] = google.colab.output.getActiveOutputArea();\n",
              "//# sourceURL=js_b6d9138db8"
            ]
          },
          "metadata": {}
        },
        {
          "output_type": "display_data",
          "data": {
            "text/plain": [
              "<IPython.core.display.Javascript object>"
            ],
            "application/javascript": [
              "window[\"49cfbeec-cf37-11ec-a82b-0242ac1c0002\"] = document.querySelector(\"#id4-0-0\");\n",
              "//# sourceURL=js_8a981a0904"
            ]
          },
          "metadata": {}
        },
        {
          "output_type": "display_data",
          "data": {
            "text/plain": [
              "<IPython.core.display.Javascript object>"
            ],
            "application/javascript": [
              "window[\"49d01ce8-cf37-11ec-a82b-0242ac1c0002\"] = google.colab.output.setActiveOutputArea(window[\"49cfbeec-cf37-11ec-a82b-0242ac1c0002\"]);\n",
              "//# sourceURL=js_0d35534f57"
            ]
          },
          "metadata": {}
        },
        {
          "output_type": "display_data",
          "data": {
            "text/plain": [
              "<IPython.core.display.Javascript object>"
            ],
            "application/javascript": [
              "window[\"49e66980-cf37-11ec-a82b-0242ac1c0002\"] = google.colab.output.setActiveOutputArea(window[\"49cee1d4-cf37-11ec-a82b-0242ac1c0002\"]);\n",
              "//# sourceURL=js_f4ab1d8b9c"
            ]
          },
          "metadata": {}
        },
        {
          "output_type": "stream",
          "name": "stdout",
          "text": [
            "Timesteps are: 19\n",
            "State is: [[0.  0.  0.  0.  0.5]\n",
            " [0.  0.  0.  0.  0. ]\n",
            " [0.  0.  0.  0.  0. ]\n",
            " [0.  1.  0.  0.  0. ]\n",
            " [0.  0.  0.  0.  0. ]]\n",
            "Reward is: 0\n",
            "GridWorld Environment: None\n",
            "Reward 0\n",
            "Agent's action is  2\n"
          ]
        },
        {
          "output_type": "display_data",
          "data": {
            "text/plain": [
              "<Figure size 432x288 with 1 Axes>"
            ],
            "image/png": "[encoded data removed]"
          },
          "metadata": {
            "needs_background": "light"
          }
        },
        {
          "output_type": "display_data",
          "data": {
            "text/plain": [
              "<IPython.core.display.Javascript object>"
            ],
            "application/javascript": [
              "window[\"4a943420-cf37-11ec-a82b-0242ac1c0002\"] = google.colab.output.getActiveOutputArea();\n",
              "//# sourceURL=js_3c12a659d6"
            ]
          },
          "metadata": {}
        },
        {
          "output_type": "display_data",
          "data": {
            "text/plain": [
              "<IPython.core.display.Javascript object>"
            ],
            "application/javascript": [
              "window[\"4a949e1a-cf37-11ec-a82b-0242ac1c0002\"] = document.querySelector(\"#id4-0-0\");\n",
              "//# sourceURL=js_9852892b5e"
            ]
          },
          "metadata": {}
        },
        {
          "output_type": "display_data",
          "data": {
            "text/plain": [
              "<IPython.core.display.Javascript object>"
            ],
            "application/javascript": [
              "window[\"4a950e86-cf37-11ec-a82b-0242ac1c0002\"] = google.colab.output.setActiveOutputArea(window[\"4a949e1a-cf37-11ec-a82b-0242ac1c0002\"]);\n",
              "//# sourceURL=js_bd55eb1826"
            ]
          },
          "metadata": {}
        },
        {
          "output_type": "display_data",
          "data": {
            "text/plain": [
              "<IPython.core.display.Javascript object>"
            ],
            "application/javascript": [
              "window[\"4aacc742-cf37-11ec-a82b-0242ac1c0002\"] = google.colab.output.setActiveOutputArea(window[\"4a943420-cf37-11ec-a82b-0242ac1c0002\"]);\n",
              "//# sourceURL=js_3b72631ca0"
            ]
          },
          "metadata": {}
        },
        {
          "output_type": "stream",
          "name": "stdout",
          "text": [
            "Timesteps are: 20\n",
            "State is: [[0.  0.  0.  0.  0.5]\n",
            " [0.  0.  0.  0.  0. ]\n",
            " [0.  0.  0.  0.  0. ]\n",
            " [0.  0.  0.  0.  0. ]\n",
            " [0.  1.  0.  0.  0. ]]\n",
            "Reward is: 0\n",
            "GridWorld Environment: None\n",
            "Reward 0\n",
            "Agent's action is  0\n"
          ]
        },
        {
          "output_type": "display_data",
          "data": {
            "text/plain": [
              "<Figure size 432x288 with 1 Axes>"
            ],
            "image/png": "[encoded data removed]"
          },
          "metadata": {
            "needs_background": "light"
          }
        },
        {
          "output_type": "display_data",
          "data": {
            "text/plain": [
              "<IPython.core.display.Javascript object>"
            ],
            "application/javascript": [
              "window[\"4b63bd08-cf37-11ec-a82b-0242ac1c0002\"] = google.colab.output.getActiveOutputArea();\n",
              "//# sourceURL=js_28ff05203f"
            ]
          },
          "metadata": {}
        },
        {
          "output_type": "display_data",
          "data": {
            "text/plain": [
              "<IPython.core.display.Javascript object>"
            ],
            "application/javascript": [
              "window[\"4b642a22-cf37-11ec-a82b-0242ac1c0002\"] = document.querySelector(\"#id4-0-0\");\n",
              "//# sourceURL=js_15ee264001"
            ]
          },
          "metadata": {}
        },
        {
          "output_type": "display_data",
          "data": {
            "text/plain": [
              "<IPython.core.display.Javascript object>"
            ],
            "application/javascript": [
              "window[\"4b649692-cf37-11ec-a82b-0242ac1c0002\"] = google.colab.output.setActiveOutputArea(window[\"4b642a22-cf37-11ec-a82b-0242ac1c0002\"]);\n",
              "//# sourceURL=js_4c5a4814c0"
            ]
          },
          "metadata": {}
        },
        {
          "output_type": "display_data",
          "data": {
            "text/plain": [
              "<IPython.core.display.Javascript object>"
            ],
            "application/javascript": [
              "window[\"4b7d05f6-cf37-11ec-a82b-0242ac1c0002\"] = google.colab.output.setActiveOutputArea(window[\"4b63bd08-cf37-11ec-a82b-0242ac1c0002\"]);\n",
              "//# sourceURL=js_0a6de20577"
            ]
          },
          "metadata": {}
        },
        {
          "output_type": "stream",
          "name": "stdout",
          "text": [
            "Timesteps are: 21\n",
            "State is: [[0.  0.  0.  0.  0.5]\n",
            " [0.  0.  0.  0.  0. ]\n",
            " [0.  0.  0.  0.  0. ]\n",
            " [0.  1.  0.  0.  0. ]\n",
            " [0.  0.  0.  0.  0. ]]\n",
            "Reward is: 0\n",
            "GridWorld Environment: None\n",
            "Reward 0\n",
            "Agent's action is  1\n"
          ]
        },
        {
          "output_type": "display_data",
          "data": {
            "text/plain": [
              "<Figure size 432x288 with 1 Axes>"
            ],
            "image/png": "[encoded data removed]"
          },
          "metadata": {
            "needs_background": "light"
          }
        },
        {
          "output_type": "display_data",
          "data": {
            "text/plain": [
              "<IPython.core.display.Javascript object>"
            ],
            "application/javascript": [
              "window[\"4c2c4ea8-cf37-11ec-a82b-0242ac1c0002\"] = google.colab.output.getActiveOutputArea();\n",
              "//# sourceURL=js_cc5b40dd82"
            ]
          },
          "metadata": {}
        },
        {
          "output_type": "display_data",
          "data": {
            "text/plain": [
              "<IPython.core.display.Javascript object>"
            ],
            "application/javascript": [
              "window[\"4c2cadc6-cf37-11ec-a82b-0242ac1c0002\"] = document.querySelector(\"#id4-0-0\");\n",
              "//# sourceURL=js_2efa2dad5d"
            ]
          },
          "metadata": {}
        },
        {
          "output_type": "display_data",
          "data": {
            "text/plain": [
              "<IPython.core.display.Javascript object>"
            ],
            "application/javascript": [
              "window[\"4c2d123e-cf37-11ec-a82b-0242ac1c0002\"] = google.colab.output.setActiveOutputArea(window[\"4c2cadc6-cf37-11ec-a82b-0242ac1c0002\"]);\n",
              "//# sourceURL=js_19318359b7"
            ]
          },
          "metadata": {}
        },
        {
          "output_type": "display_data",
          "data": {
            "text/plain": [
              "<IPython.core.display.Javascript object>"
            ],
            "application/javascript": [
              "window[\"4c47df06-cf37-11ec-a82b-0242ac1c0002\"] = google.colab.output.setActiveOutputArea(window[\"4c2c4ea8-cf37-11ec-a82b-0242ac1c0002\"]);\n",
              "//# sourceURL=js_aa5b48d245"
            ]
          },
          "metadata": {}
        },
        {
          "output_type": "stream",
          "name": "stdout",
          "text": [
            "Timesteps are: 22\n",
            "State is: [[0.  0.  0.  0.  0.5]\n",
            " [0.  0.  0.  0.  0. ]\n",
            " [0.  0.  0.  0.  0. ]\n",
            " [0.  0.  1.  0.  0. ]\n",
            " [0.  0.  0.  0.  0. ]]\n",
            "Reward is: 0\n",
            "GridWorld Environment: None\n",
            "Reward 0\n",
            "Agent's action is  2\n"
          ]
        },
        {
          "output_type": "display_data",
          "data": {
            "text/plain": [
              "<Figure size 432x288 with 1 Axes>"
            ],
            "image/png": "[encoded data removed]"
          },
          "metadata": {
            "needs_background": "light"
          }
        },
        {
          "output_type": "display_data",
          "data": {
            "text/plain": [
              "<IPython.core.display.Javascript object>"
            ],
            "application/javascript": [
              "window[\"4cf7d532-cf37-11ec-a82b-0242ac1c0002\"] = google.colab.output.getActiveOutputArea();\n",
              "//# sourceURL=js_d2b17fc9a9"
            ]
          },
          "metadata": {}
        },
        {
          "output_type": "display_data",
          "data": {
            "text/plain": [
              "<IPython.core.display.Javascript object>"
            ],
            "application/javascript": [
              "window[\"4cf83ac2-cf37-11ec-a82b-0242ac1c0002\"] = document.querySelector(\"#id4-0-0\");\n",
              "//# sourceURL=js_5cada2a6dc"
            ]
          },
          "metadata": {}
        },
        {
          "output_type": "display_data",
          "data": {
            "text/plain": [
              "<IPython.core.display.Javascript object>"
            ],
            "application/javascript": [
              "window[\"4cf898e6-cf37-11ec-a82b-0242ac1c0002\"] = google.colab.output.setActiveOutputArea(window[\"4cf83ac2-cf37-11ec-a82b-0242ac1c0002\"]);\n",
              "//# sourceURL=js_27f1c6474a"
            ]
          },
          "metadata": {}
        },
        {
          "output_type": "display_data",
          "data": {
            "text/plain": [
              "<IPython.core.display.Javascript object>"
            ],
            "application/javascript": [
              "window[\"4d1100fc-cf37-11ec-a82b-0242ac1c0002\"] = google.colab.output.setActiveOutputArea(window[\"4cf7d532-cf37-11ec-a82b-0242ac1c0002\"]);\n",
              "//# sourceURL=js_8e89c6b7d0"
            ]
          },
          "metadata": {}
        },
        {
          "output_type": "stream",
          "name": "stdout",
          "text": [
            "Timesteps are: 23\n",
            "State is: [[0.  0.  0.  0.  0.5]\n",
            " [0.  0.  0.  0.  0. ]\n",
            " [0.  0.  0.  0.  0. ]\n",
            " [0.  0.  0.  1.  0. ]\n",
            " [0.  0.  0.  0.  0. ]]\n",
            "Reward is: 0\n",
            "GridWorld Environment: None\n",
            "Reward 0\n",
            "Agent's action is  2\n"
          ]
        },
        {
          "output_type": "display_data",
          "data": {
            "text/plain": [
              "<Figure size 432x288 with 1 Axes>"
            ],
            "image/png": "[encoded data removed]"
          },
          "metadata": {
            "needs_background": "light"
          }
        },
        {
          "output_type": "display_data",
          "data": {
            "text/plain": [
              "<IPython.core.display.Javascript object>"
            ],
            "application/javascript": [
              "window[\"4dc19548-cf37-11ec-a82b-0242ac1c0002\"] = google.colab.output.getActiveOutputArea();\n",
              "//# sourceURL=js_3bc8a02b97"
            ]
          },
          "metadata": {}
        },
        {
          "output_type": "display_data",
          "data": {
            "text/plain": [
              "<IPython.core.display.Javascript object>"
            ],
            "application/javascript": [
              "window[\"4dc20064-cf37-11ec-a82b-0242ac1c0002\"] = document.querySelector(\"#id4-0-0\");\n",
              "//# sourceURL=js_c44442f6b3"
            ]
          },
          "metadata": {}
        },
        {
          "output_type": "display_data",
          "data": {
            "text/plain": [
              "<IPython.core.display.Javascript object>"
            ],
            "application/javascript": [
              "window[\"4dc26248-cf37-11ec-a82b-0242ac1c0002\"] = google.colab.output.setActiveOutputArea(window[\"4dc20064-cf37-11ec-a82b-0242ac1c0002\"]);\n",
              "//# sourceURL=js_e89dd943ba"
            ]
          },
          "metadata": {}
        },
        {
          "output_type": "display_data",
          "data": {
            "text/plain": [
              "<IPython.core.display.Javascript object>"
            ],
            "application/javascript": [
              "window[\"4dd9baba-cf37-11ec-a82b-0242ac1c0002\"] = google.colab.output.setActiveOutputArea(window[\"4dc19548-cf37-11ec-a82b-0242ac1c0002\"]);\n",
              "//# sourceURL=js_92cbbd284d"
            ]
          },
          "metadata": {}
        },
        {
          "output_type": "stream",
          "name": "stdout",
          "text": [
            "negative rock -5\n",
            "Timesteps are: 24\n",
            "State is: [[0.  0.  0.  0.  0.5]\n",
            " [0.  0.  0.  0.  0. ]\n",
            " [0.  0.  0.  0.  0. ]\n",
            " [0.  0.  0.  0.  0. ]\n",
            " [0.  0.  0.  1.  0. ]]\n",
            "Reward is: -5\n",
            "GridWorld Environment: None\n",
            "Reward -5\n",
            "Agent's action is  0\n"
          ]
        },
        {
          "output_type": "display_data",
          "data": {
            "text/plain": [
              "<Figure size 432x288 with 1 Axes>"
            ],
            "image/png": "[encoded data removed]"
          },
          "metadata": {
            "needs_background": "light"
          }
        },
        {
          "output_type": "display_data",
          "data": {
            "text/plain": [
              "<IPython.core.display.Javascript object>"
            ],
            "application/javascript": [
              "window[\"4e8c4b30-cf37-11ec-a82b-0242ac1c0002\"] = google.colab.output.getActiveOutputArea();\n",
              "//# sourceURL=js_974571012b"
            ]
          },
          "metadata": {}
        },
        {
          "output_type": "display_data",
          "data": {
            "text/plain": [
              "<IPython.core.display.Javascript object>"
            ],
            "application/javascript": [
              "window[\"4e8ccce0-cf37-11ec-a82b-0242ac1c0002\"] = document.querySelector(\"#id4-0-0\");\n",
              "//# sourceURL=js_4b8be4245b"
            ]
          },
          "metadata": {}
        },
        {
          "output_type": "display_data",
          "data": {
            "text/plain": [
              "<IPython.core.display.Javascript object>"
            ],
            "application/javascript": [
              "window[\"4e8d2b68-cf37-11ec-a82b-0242ac1c0002\"] = google.colab.output.setActiveOutputArea(window[\"4e8ccce0-cf37-11ec-a82b-0242ac1c0002\"]);\n",
              "//# sourceURL=js_0cc50cb785"
            ]
          },
          "metadata": {}
        },
        {
          "output_type": "display_data",
          "data": {
            "text/plain": [
              "<IPython.core.display.Javascript object>"
            ],
            "application/javascript": [
              "window[\"4ea6929c-cf37-11ec-a82b-0242ac1c0002\"] = google.colab.output.setActiveOutputArea(window[\"4e8c4b30-cf37-11ec-a82b-0242ac1c0002\"]);\n",
              "//# sourceURL=js_db9c807d04"
            ]
          },
          "metadata": {}
        },
        {
          "output_type": "stream",
          "name": "stdout",
          "text": [
            "Timesteps are: 25\n",
            "State is: [[0.  0.  0.  0.  0.5]\n",
            " [0.  0.  0.  0.  0. ]\n",
            " [0.  0.  0.  0.  0. ]\n",
            " [0.  0.  0.  0.  0. ]\n",
            " [0.  0.  1.  0.  0. ]]\n",
            "Reward is: 0\n",
            "GridWorld Environment: None\n",
            "Reward 0\n",
            "Agent's action is  3\n"
          ]
        },
        {
          "output_type": "display_data",
          "data": {
            "text/plain": [
              "<Figure size 432x288 with 1 Axes>"
            ],
            "image/png": "[encoded data removed]"
          },
          "metadata": {
            "needs_background": "light"
          }
        },
        {
          "output_type": "display_data",
          "data": {
            "text/plain": [
              "<IPython.core.display.Javascript object>"
            ],
            "application/javascript": [
              "window[\"4f565fec-cf37-11ec-a82b-0242ac1c0002\"] = google.colab.output.getActiveOutputArea();\n",
              "//# sourceURL=js_f34b97fe09"
            ]
          },
          "metadata": {}
        },
        {
          "output_type": "display_data",
          "data": {
            "text/plain": [
              "<IPython.core.display.Javascript object>"
            ],
            "application/javascript": [
              "window[\"4f56c838-cf37-11ec-a82b-0242ac1c0002\"] = document.querySelector(\"#id4-0-0\");\n",
              "//# sourceURL=js_376981c2d2"
            ]
          },
          "metadata": {}
        },
        {
          "output_type": "display_data",
          "data": {
            "text/plain": [
              "<IPython.core.display.Javascript object>"
            ],
            "application/javascript": [
              "window[\"4f5728b4-cf37-11ec-a82b-0242ac1c0002\"] = google.colab.output.setActiveOutputArea(window[\"4f56c838-cf37-11ec-a82b-0242ac1c0002\"]);\n",
              "//# sourceURL=js_bd965e05b4"
            ]
          },
          "metadata": {}
        },
        {
          "output_type": "display_data",
          "data": {
            "text/plain": [
              "<IPython.core.display.Javascript object>"
            ],
            "application/javascript": [
              "window[\"4f7cd1ae-cf37-11ec-a82b-0242ac1c0002\"] = google.colab.output.setActiveOutputArea(window[\"4f565fec-cf37-11ec-a82b-0242ac1c0002\"]);\n",
              "//# sourceURL=js_9350a5a349"
            ]
          },
          "metadata": {}
        },
        {
          "output_type": "stream",
          "name": "stdout",
          "text": [
            "negative rock -5\n",
            "Timesteps are: 26\n",
            "State is: [[0.  0.  0.  0.  0.5]\n",
            " [0.  0.  0.  0.  0. ]\n",
            " [0.  0.  0.  0.  0. ]\n",
            " [0.  0.  0.  0.  0. ]\n",
            " [0.  0.  0.  1.  0. ]]\n",
            "Reward is: -5\n",
            "GridWorld Environment: None\n",
            "Reward -5\n",
            "Agent's action is  2\n"
          ]
        },
        {
          "output_type": "display_data",
          "data": {
            "text/plain": [
              "<Figure size 432x288 with 1 Axes>"
            ],
            "image/png": "[encoded data removed]"
          },
          "metadata": {
            "needs_background": "light"
          }
        },
        {
          "output_type": "display_data",
          "data": {
            "text/plain": [
              "<IPython.core.display.Javascript object>"
            ],
            "application/javascript": [
              "window[\"502d84f4-cf37-11ec-a82b-0242ac1c0002\"] = google.colab.output.getActiveOutputArea();\n",
              "//# sourceURL=js_3fc54e73dc"
            ]
          },
          "metadata": {}
        },
        {
          "output_type": "display_data",
          "data": {
            "text/plain": [
              "<IPython.core.display.Javascript object>"
            ],
            "application/javascript": [
              "window[\"502dff92-cf37-11ec-a82b-0242ac1c0002\"] = document.querySelector(\"#id4-0-0\");\n",
              "//# sourceURL=js_d1410b4020"
            ]
          },
          "metadata": {}
        },
        {
          "output_type": "display_data",
          "data": {
            "text/plain": [
              "<IPython.core.display.Javascript object>"
            ],
            "application/javascript": [
              "window[\"502e7d8c-cf37-11ec-a82b-0242ac1c0002\"] = google.colab.output.setActiveOutputArea(window[\"502dff92-cf37-11ec-a82b-0242ac1c0002\"]);\n",
              "//# sourceURL=js_840eff0a16"
            ]
          },
          "metadata": {}
        },
        {
          "output_type": "display_data",
          "data": {
            "text/plain": [
              "<IPython.core.display.Javascript object>"
            ],
            "application/javascript": [
              "window[\"504805e0-cf37-11ec-a82b-0242ac1c0002\"] = google.colab.output.setActiveOutputArea(window[\"502d84f4-cf37-11ec-a82b-0242ac1c0002\"]);\n",
              "//# sourceURL=js_b90c8011f5"
            ]
          },
          "metadata": {}
        },
        {
          "output_type": "stream",
          "name": "stdout",
          "text": [
            "negative rock -5\n",
            "Timesteps are: 27\n",
            "State is: [[0.  0.  0.  0.  0.5]\n",
            " [0.  0.  0.  0.  0. ]\n",
            " [0.  0.  0.  0.  0. ]\n",
            " [0.  0.  0.  0.  0. ]\n",
            " [0.  0.  0.  1.  0. ]]\n",
            "Reward is: -5\n",
            "GridWorld Environment: None\n",
            "Reward -5\n",
            "Agent's action is  0\n"
          ]
        },
        {
          "output_type": "display_data",
          "data": {
            "text/plain": [
              "<Figure size 432x288 with 1 Axes>"
            ],
            "image/png": "[encoded data removed]"
          },
          "metadata": {
            "needs_background": "light"
          }
        },
        {
          "output_type": "display_data",
          "data": {
            "text/plain": [
              "<IPython.core.display.Javascript object>"
            ],
            "application/javascript": [
              "window[\"50fa14ba-cf37-11ec-a82b-0242ac1c0002\"] = google.colab.output.getActiveOutputArea();\n",
              "//# sourceURL=js_57153653ec"
            ]
          },
          "metadata": {}
        },
        {
          "output_type": "display_data",
          "data": {
            "text/plain": [
              "<IPython.core.display.Javascript object>"
            ],
            "application/javascript": [
              "window[\"50fa6fe6-cf37-11ec-a82b-0242ac1c0002\"] = document.querySelector(\"#id4-0-0\");\n",
              "//# sourceURL=js_6d5a137823"
            ]
          },
          "metadata": {}
        },
        {
          "output_type": "display_data",
          "data": {
            "text/plain": [
              "<IPython.core.display.Javascript object>"
            ],
            "application/javascript": [
              "window[\"50fac7ac-cf37-11ec-a82b-0242ac1c0002\"] = google.colab.output.setActiveOutputArea(window[\"50fa6fe6-cf37-11ec-a82b-0242ac1c0002\"]);\n",
              "//# sourceURL=js_f7390bced0"
            ]
          },
          "metadata": {}
        },
        {
          "output_type": "display_data",
          "data": {
            "text/plain": [
              "<IPython.core.display.Javascript object>"
            ],
            "application/javascript": [
              "window[\"511252be-cf37-11ec-a82b-0242ac1c0002\"] = google.colab.output.setActiveOutputArea(window[\"50fa14ba-cf37-11ec-a82b-0242ac1c0002\"]);\n",
              "//# sourceURL=js_70eb419ba6"
            ]
          },
          "metadata": {}
        },
        {
          "output_type": "stream",
          "name": "stdout",
          "text": [
            "Timesteps are: 28\n",
            "State is: [[0.  0.  0.  0.  0.5]\n",
            " [0.  0.  0.  0.  0. ]\n",
            " [0.  0.  0.  0.  0. ]\n",
            " [0.  0.  0.  0.  0. ]\n",
            " [0.  0.  1.  0.  0. ]]\n",
            "Reward is: 0\n",
            "GridWorld Environment: None\n",
            "Reward 0\n",
            "Agent's action is  3\n"
          ]
        },
        {
          "output_type": "display_data",
          "data": {
            "text/plain": [
              "<Figure size 432x288 with 1 Axes>"
            ],
            "image/png": "[encoded data removed]"
          },
          "metadata": {
            "needs_background": "light"
          }
        },
        {
          "output_type": "display_data",
          "data": {
            "text/plain": [
              "<IPython.core.display.Javascript object>"
            ],
            "application/javascript": [
              "window[\"51c34812-cf37-11ec-a82b-0242ac1c0002\"] = google.colab.output.getActiveOutputArea();\n",
              "//# sourceURL=js_38b42887e8"
            ]
          },
          "metadata": {}
        },
        {
          "output_type": "display_data",
          "data": {
            "text/plain": [
              "<IPython.core.display.Javascript object>"
            ],
            "application/javascript": [
              "window[\"51c3c54e-cf37-11ec-a82b-0242ac1c0002\"] = document.querySelector(\"#id4-0-0\");\n",
              "//# sourceURL=js_57e92a611d"
            ]
          },
          "metadata": {}
        },
        {
          "output_type": "display_data",
          "data": {
            "text/plain": [
              "<IPython.core.display.Javascript object>"
            ],
            "application/javascript": [
              "window[\"51c468e6-cf37-11ec-a82b-0242ac1c0002\"] = google.colab.output.setActiveOutputArea(window[\"51c3c54e-cf37-11ec-a82b-0242ac1c0002\"]);\n",
              "//# sourceURL=js_bf68ea4d44"
            ]
          },
          "metadata": {}
        },
        {
          "output_type": "display_data",
          "data": {
            "text/plain": [
              "<IPython.core.display.Javascript object>"
            ],
            "application/javascript": [
              "window[\"51e017b2-cf37-11ec-a82b-0242ac1c0002\"] = google.colab.output.setActiveOutputArea(window[\"51c34812-cf37-11ec-a82b-0242ac1c0002\"]);\n",
              "//# sourceURL=js_f475a3c07e"
            ]
          },
          "metadata": {}
        },
        {
          "output_type": "stream",
          "name": "stdout",
          "text": [
            "Timesteps are: 29\n",
            "State is: [[0.  0.  0.  0.  0.5]\n",
            " [0.  0.  0.  0.  0. ]\n",
            " [0.  0.  0.  0.  0. ]\n",
            " [0.  0.  0.  0.  0. ]\n",
            " [0.  1.  0.  0.  0. ]]\n",
            "Reward is: 0\n",
            "GridWorld Environment: None\n",
            "Reward 0\n",
            "Agent's action is  3\n"
          ]
        },
        {
          "output_type": "display_data",
          "data": {
            "text/plain": [
              "<Figure size 432x288 with 1 Axes>"
            ],
            "image/png": "[encoded data removed]"
          },
          "metadata": {
            "needs_background": "light"
          }
        },
        {
          "output_type": "display_data",
          "data": {
            "text/plain": [
              "<IPython.core.display.Javascript object>"
            ],
            "application/javascript": [
              "window[\"5292b778-cf37-11ec-a82b-0242ac1c0002\"] = google.colab.output.getActiveOutputArea();\n",
              "//# sourceURL=js_2d53f98201"
            ]
          },
          "metadata": {}
        },
        {
          "output_type": "display_data",
          "data": {
            "text/plain": [
              "<IPython.core.display.Javascript object>"
            ],
            "application/javascript": [
              "window[\"52936556-cf37-11ec-a82b-0242ac1c0002\"] = document.querySelector(\"#id4-0-0\");\n",
              "//# sourceURL=js_d1696b8acd"
            ]
          },
          "metadata": {}
        },
        {
          "output_type": "display_data",
          "data": {
            "text/plain": [
              "<IPython.core.display.Javascript object>"
            ],
            "application/javascript": [
              "window[\"529427a2-cf37-11ec-a82b-0242ac1c0002\"] = google.colab.output.setActiveOutputArea(window[\"52936556-cf37-11ec-a82b-0242ac1c0002\"]);\n",
              "//# sourceURL=js_f3fdb5d523"
            ]
          },
          "metadata": {}
        },
        {
          "output_type": "display_data",
          "data": {
            "text/plain": [
              "<IPython.core.display.Javascript object>"
            ],
            "application/javascript": [
              "window[\"52af82f4-cf37-11ec-a82b-0242ac1c0002\"] = google.colab.output.setActiveOutputArea(window[\"5292b778-cf37-11ec-a82b-0242ac1c0002\"]);\n",
              "//# sourceURL=js_c9a5920c9c"
            ]
          },
          "metadata": {}
        },
        {
          "output_type": "stream",
          "name": "stdout",
          "text": [
            "Timesteps are: 30\n",
            "State is: [[0.  0.  0.  0.  0.5]\n",
            " [0.  0.  0.  0.  0. ]\n",
            " [0.  0.  0.  0.  0. ]\n",
            " [0.  1.  0.  0.  0. ]\n",
            " [0.  0.  0.  0.  0. ]]\n",
            "Reward is: 0\n",
            "GridWorld Environment: None\n",
            "Reward 0\n",
            "Agent's action is  1\n"
          ]
        },
        {
          "output_type": "display_data",
          "data": {
            "text/plain": [
              "<Figure size 432x288 with 1 Axes>"
            ],
            "image/png": "[encoded data removed]"
          },
          "metadata": {
            "needs_background": "light"
          }
        },
        {
          "output_type": "display_data",
          "data": {
            "text/plain": [
              "<IPython.core.display.Javascript object>"
            ],
            "application/javascript": [
              "window[\"5361b6f4-cf37-11ec-a82b-0242ac1c0002\"] = google.colab.output.getActiveOutputArea();\n",
              "//# sourceURL=js_0097b50453"
            ]
          },
          "metadata": {}
        },
        {
          "output_type": "display_data",
          "data": {
            "text/plain": [
              "<IPython.core.display.Javascript object>"
            ],
            "application/javascript": [
              "window[\"53627f4e-cf37-11ec-a82b-0242ac1c0002\"] = document.querySelector(\"#id4-0-0\");\n",
              "//# sourceURL=js_511c0f134d"
            ]
          },
          "metadata": {}
        },
        {
          "output_type": "display_data",
          "data": {
            "text/plain": [
              "<IPython.core.display.Javascript object>"
            ],
            "application/javascript": [
              "window[\"53634320-cf37-11ec-a82b-0242ac1c0002\"] = google.colab.output.setActiveOutputArea(window[\"53627f4e-cf37-11ec-a82b-0242ac1c0002\"]);\n",
              "//# sourceURL=js_c5c20714f0"
            ]
          },
          "metadata": {}
        },
        {
          "output_type": "display_data",
          "data": {
            "text/plain": [
              "<IPython.core.display.Javascript object>"
            ],
            "application/javascript": [
              "window[\"537ada80-cf37-11ec-a82b-0242ac1c0002\"] = google.colab.output.setActiveOutputArea(window[\"5361b6f4-cf37-11ec-a82b-0242ac1c0002\"]);\n",
              "//# sourceURL=js_eb76890741"
            ]
          },
          "metadata": {}
        },
        {
          "output_type": "stream",
          "name": "stdout",
          "text": [
            "Timesteps are: 31\n",
            "State is: [[0.  0.  0.  0.  0.5]\n",
            " [0.  0.  0.  0.  0. ]\n",
            " [0.  1.  0.  0.  0. ]\n",
            " [0.  0.  0.  0.  0. ]\n",
            " [0.  0.  0.  0.  0. ]]\n",
            "Reward is: 0\n",
            "GridWorld Environment: None\n",
            "Reward 0\n",
            "Agent's action is  1\n"
          ]
        },
        {
          "output_type": "display_data",
          "data": {
            "text/plain": [
              "<Figure size 432x288 with 1 Axes>"
            ],
            "image/png": "[encoded data removed]"
          },
          "metadata": {
            "needs_background": "light"
          }
        },
        {
          "output_type": "display_data",
          "data": {
            "text/plain": [
              "<IPython.core.display.Javascript object>"
            ],
            "application/javascript": [
              "window[\"543ffb6c-cf37-11ec-a82b-0242ac1c0002\"] = google.colab.output.getActiveOutputArea();\n",
              "//# sourceURL=js_4ca1c1cde2"
            ]
          },
          "metadata": {}
        },
        {
          "output_type": "display_data",
          "data": {
            "text/plain": [
              "<IPython.core.display.Javascript object>"
            ],
            "application/javascript": [
              "window[\"544063b8-cf37-11ec-a82b-0242ac1c0002\"] = document.querySelector(\"#id4-0-0\");\n",
              "//# sourceURL=js_6f4c845239"
            ]
          },
          "metadata": {}
        },
        {
          "output_type": "display_data",
          "data": {
            "text/plain": [
              "<IPython.core.display.Javascript object>"
            ],
            "application/javascript": [
              "window[\"5440c358-cf37-11ec-a82b-0242ac1c0002\"] = google.colab.output.setActiveOutputArea(window[\"544063b8-cf37-11ec-a82b-0242ac1c0002\"]);\n",
              "//# sourceURL=js_37ffc9fbe4"
            ]
          },
          "metadata": {}
        },
        {
          "output_type": "display_data",
          "data": {
            "text/plain": [
              "<IPython.core.display.Javascript object>"
            ],
            "application/javascript": [
              "window[\"545bbf82-cf37-11ec-a82b-0242ac1c0002\"] = google.colab.output.setActiveOutputArea(window[\"543ffb6c-cf37-11ec-a82b-0242ac1c0002\"]);\n",
              "//# sourceURL=js_ed1b4c64fc"
            ]
          },
          "metadata": {}
        },
        {
          "output_type": "stream",
          "name": "stdout",
          "text": [
            "Timesteps are: 32\n",
            "State is: [[0.  0.  0.  0.  0.5]\n",
            " [0.  0.  0.  0.  0. ]\n",
            " [0.  0.  0.  0.  0. ]\n",
            " [0.  1.  0.  0.  0. ]\n",
            " [0.  0.  0.  0.  0. ]]\n",
            "Reward is: 0\n",
            "GridWorld Environment: None\n",
            "Reward 0\n",
            "Agent's action is  0\n"
          ]
        },
        {
          "output_type": "display_data",
          "data": {
            "text/plain": [
              "<Figure size 432x288 with 1 Axes>"
            ],
            "image/png": "[encoded data removed]"
          },
          "metadata": {
            "needs_background": "light"
          }
        },
        {
          "output_type": "display_data",
          "data": {
            "text/plain": [
              "<IPython.core.display.Javascript object>"
            ],
            "application/javascript": [
              "window[\"550ffe84-cf37-11ec-a82b-0242ac1c0002\"] = google.colab.output.getActiveOutputArea();\n",
              "//# sourceURL=js_7a5925df55"
            ]
          },
          "metadata": {}
        },
        {
          "output_type": "display_data",
          "data": {
            "text/plain": [
              "<IPython.core.display.Javascript object>"
            ],
            "application/javascript": [
              "window[\"5510754e-cf37-11ec-a82b-0242ac1c0002\"] = document.querySelector(\"#id4-0-0\");\n",
              "//# sourceURL=js_6daad97d90"
            ]
          },
          "metadata": {}
        },
        {
          "output_type": "display_data",
          "data": {
            "text/plain": [
              "<IPython.core.display.Javascript object>"
            ],
            "application/javascript": [
              "window[\"55110d74-cf37-11ec-a82b-0242ac1c0002\"] = google.colab.output.setActiveOutputArea(window[\"5510754e-cf37-11ec-a82b-0242ac1c0002\"]);\n",
              "//# sourceURL=js_8b841f5a8d"
            ]
          },
          "metadata": {}
        },
        {
          "output_type": "display_data",
          "data": {
            "text/plain": [
              "<IPython.core.display.Javascript object>"
            ],
            "application/javascript": [
              "window[\"552d0a2e-cf37-11ec-a82b-0242ac1c0002\"] = google.colab.output.setActiveOutputArea(window[\"550ffe84-cf37-11ec-a82b-0242ac1c0002\"]);\n",
              "//# sourceURL=js_3d44ce5f18"
            ]
          },
          "metadata": {}
        },
        {
          "output_type": "stream",
          "name": "stdout",
          "text": [
            "Timesteps are: 33\n",
            "State is: [[0.  0.  0.  0.  0.5]\n",
            " [0.  0.  0.  0.  0. ]\n",
            " [0.  0.  0.  0.  0. ]\n",
            " [1.  0.  0.  0.  0. ]\n",
            " [0.  0.  0.  0.  0. ]]\n",
            "Reward is: 0\n",
            "GridWorld Environment: None\n",
            "Reward 0\n",
            "Agent's action is  3\n"
          ]
        },
        {
          "output_type": "display_data",
          "data": {
            "text/plain": [
              "<Figure size 432x288 with 1 Axes>"
            ],
            "image/png": "[encoded data removed]"
          },
          "metadata": {
            "needs_background": "light"
          }
        },
        {
          "output_type": "display_data",
          "data": {
            "text/plain": [
              "<IPython.core.display.Javascript object>"
            ],
            "application/javascript": [
              "window[\"55de4938-cf37-11ec-a82b-0242ac1c0002\"] = google.colab.output.getActiveOutputArea();\n",
              "//# sourceURL=js_73dc6ea106"
            ]
          },
          "metadata": {}
        },
        {
          "output_type": "display_data",
          "data": {
            "text/plain": [
              "<IPython.core.display.Javascript object>"
            ],
            "application/javascript": [
              "window[\"55deaa68-cf37-11ec-a82b-0242ac1c0002\"] = document.querySelector(\"#id4-0-0\");\n",
              "//# sourceURL=js_5fe994e0e4"
            ]
          },
          "metadata": {}
        },
        {
          "output_type": "display_data",
          "data": {
            "text/plain": [
              "<IPython.core.display.Javascript object>"
            ],
            "application/javascript": [
              "window[\"55df0526-cf37-11ec-a82b-0242ac1c0002\"] = google.colab.output.setActiveOutputArea(window[\"55deaa68-cf37-11ec-a82b-0242ac1c0002\"]);\n",
              "//# sourceURL=js_dd9ca5736a"
            ]
          },
          "metadata": {}
        },
        {
          "output_type": "display_data",
          "data": {
            "text/plain": [
              "<IPython.core.display.Javascript object>"
            ],
            "application/javascript": [
              "window[\"55fc847a-cf37-11ec-a82b-0242ac1c0002\"] = google.colab.output.setActiveOutputArea(window[\"55de4938-cf37-11ec-a82b-0242ac1c0002\"]);\n",
              "//# sourceURL=js_c01cdaf3f2"
            ]
          },
          "metadata": {}
        },
        {
          "output_type": "stream",
          "name": "stdout",
          "text": [
            "Timesteps are: 34\n",
            "State is: [[0.  0.  0.  0.  0.5]\n",
            " [0.  0.  0.  0.  0. ]\n",
            " [0.  0.  0.  0.  0. ]\n",
            " [1.  0.  0.  0.  0. ]\n",
            " [0.  0.  0.  0.  0. ]]\n",
            "Reward is: 0\n",
            "GridWorld Environment: None\n",
            "Reward 0\n",
            "Agent's action is  3\n"
          ]
        },
        {
          "output_type": "display_data",
          "data": {
            "text/plain": [
              "<Figure size 432x288 with 1 Axes>"
            ],
            "image/png": "[encoded data removed]"
          },
          "metadata": {
            "needs_background": "light"
          }
        },
        {
          "output_type": "display_data",
          "data": {
            "text/plain": [
              "<IPython.core.display.Javascript object>"
            ],
            "application/javascript": [
              "window[\"56ad4896-cf37-11ec-a82b-0242ac1c0002\"] = google.colab.output.getActiveOutputArea();\n",
              "//# sourceURL=js_70e0c1eb4e"
            ]
          },
          "metadata": {}
        },
        {
          "output_type": "display_data",
          "data": {
            "text/plain": [
              "<IPython.core.display.Javascript object>"
            ],
            "application/javascript": [
              "window[\"56adaf02-cf37-11ec-a82b-0242ac1c0002\"] = document.querySelector(\"#id4-0-0\");\n",
              "//# sourceURL=js_b6c10edda9"
            ]
          },
          "metadata": {}
        },
        {
          "output_type": "display_data",
          "data": {
            "text/plain": [
              "<IPython.core.display.Javascript object>"
            ],
            "application/javascript": [
              "window[\"56ae3c92-cf37-11ec-a82b-0242ac1c0002\"] = google.colab.output.setActiveOutputArea(window[\"56adaf02-cf37-11ec-a82b-0242ac1c0002\"]);\n",
              "//# sourceURL=js_11de70a7fe"
            ]
          },
          "metadata": {}
        },
        {
          "output_type": "display_data",
          "data": {
            "text/plain": [
              "<IPython.core.display.Javascript object>"
            ],
            "application/javascript": [
              "window[\"56c52c72-cf37-11ec-a82b-0242ac1c0002\"] = google.colab.output.setActiveOutputArea(window[\"56ad4896-cf37-11ec-a82b-0242ac1c0002\"]);\n",
              "//# sourceURL=js_e430d6880d"
            ]
          },
          "metadata": {}
        },
        {
          "output_type": "stream",
          "name": "stdout",
          "text": [
            "Timesteps are: 35\n",
            "State is: [[0.  0.  0.  0.  0.5]\n",
            " [0.  0.  0.  0.  0. ]\n",
            " [1.  0.  0.  0.  0. ]\n",
            " [0.  0.  0.  0.  0. ]\n",
            " [0.  0.  0.  0.  0. ]]\n",
            "Reward is: 0\n",
            "GridWorld Environment: None\n",
            "Reward 0\n",
            "Agent's action is  1\n"
          ]
        },
        {
          "output_type": "display_data",
          "data": {
            "text/plain": [
              "<Figure size 432x288 with 1 Axes>"
            ],
            "image/png": "[encoded data removed]"
          },
          "metadata": {
            "needs_background": "light"
          }
        },
        {
          "output_type": "display_data",
          "data": {
            "text/plain": [
              "<IPython.core.display.Javascript object>"
            ],
            "application/javascript": [
              "window[\"57733f9c-cf37-11ec-a82b-0242ac1c0002\"] = google.colab.output.getActiveOutputArea();\n",
              "//# sourceURL=js_93a7db04f9"
            ]
          },
          "metadata": {}
        },
        {
          "output_type": "display_data",
          "data": {
            "text/plain": [
              "<IPython.core.display.Javascript object>"
            ],
            "application/javascript": [
              "window[\"5773ac7a-cf37-11ec-a82b-0242ac1c0002\"] = document.querySelector(\"#id4-0-0\");\n",
              "//# sourceURL=js_453e153ff2"
            ]
          },
          "metadata": {}
        },
        {
          "output_type": "display_data",
          "data": {
            "text/plain": [
              "<IPython.core.display.Javascript object>"
            ],
            "application/javascript": [
              "window[\"57740ecc-cf37-11ec-a82b-0242ac1c0002\"] = google.colab.output.setActiveOutputArea(window[\"5773ac7a-cf37-11ec-a82b-0242ac1c0002\"]);\n",
              "//# sourceURL=js_91b3788719"
            ]
          },
          "metadata": {}
        },
        {
          "output_type": "display_data",
          "data": {
            "text/plain": [
              "<IPython.core.display.Javascript object>"
            ],
            "application/javascript": [
              "window[\"578ba384-cf37-11ec-a82b-0242ac1c0002\"] = google.colab.output.setActiveOutputArea(window[\"57733f9c-cf37-11ec-a82b-0242ac1c0002\"]);\n",
              "//# sourceURL=js_ff41f1ce29"
            ]
          },
          "metadata": {}
        },
        {
          "output_type": "stream",
          "name": "stdout",
          "text": [
            "Timesteps are: 36\n",
            "State is: [[0.  0.  0.  0.  0.5]\n",
            " [1.  0.  0.  0.  0. ]\n",
            " [0.  0.  0.  0.  0. ]\n",
            " [0.  0.  0.  0.  0. ]\n",
            " [0.  0.  0.  0.  0. ]]\n",
            "Reward is: 0\n",
            "GridWorld Environment: None\n",
            "Reward 0\n",
            "Agent's action is  1\n"
          ]
        },
        {
          "output_type": "display_data",
          "data": {
            "text/plain": [
              "<Figure size 432x288 with 1 Axes>"
            ],
            "image/png": "[encoded data removed]"
          },
          "metadata": {
            "needs_background": "light"
          }
        },
        {
          "output_type": "display_data",
          "data": {
            "text/plain": [
              "<IPython.core.display.Javascript object>"
            ],
            "application/javascript": [
              "window[\"583c7bdc-cf37-11ec-a82b-0242ac1c0002\"] = google.colab.output.getActiveOutputArea();\n",
              "//# sourceURL=js_0a0adaddc3"
            ]
          },
          "metadata": {}
        },
        {
          "output_type": "display_data",
          "data": {
            "text/plain": [
              "<IPython.core.display.Javascript object>"
            ],
            "application/javascript": [
              "window[\"583d260e-cf37-11ec-a82b-0242ac1c0002\"] = document.querySelector(\"#id4-0-0\");\n",
              "//# sourceURL=js_9d37c50f80"
            ]
          },
          "metadata": {}
        },
        {
          "output_type": "display_data",
          "data": {
            "text/plain": [
              "<IPython.core.display.Javascript object>"
            ],
            "application/javascript": [
              "window[\"583e20fe-cf37-11ec-a82b-0242ac1c0002\"] = google.colab.output.setActiveOutputArea(window[\"583d260e-cf37-11ec-a82b-0242ac1c0002\"]);\n",
              "//# sourceURL=js_284dc273e6"
            ]
          },
          "metadata": {}
        },
        {
          "output_type": "display_data",
          "data": {
            "text/plain": [
              "<IPython.core.display.Javascript object>"
            ],
            "application/javascript": [
              "window[\"58618800-cf37-11ec-a82b-0242ac1c0002\"] = google.colab.output.setActiveOutputArea(window[\"583c7bdc-cf37-11ec-a82b-0242ac1c0002\"]);\n",
              "//# sourceURL=js_0a7d521051"
            ]
          },
          "metadata": {}
        },
        {
          "output_type": "stream",
          "name": "stdout",
          "text": [
            "Timesteps are: 37\n",
            "State is: [[0.  0.  0.  0.  0.5]\n",
            " [1.  0.  0.  0.  0. ]\n",
            " [0.  0.  0.  0.  0. ]\n",
            " [0.  0.  0.  0.  0. ]\n",
            " [0.  0.  0.  0.  0. ]]\n",
            "Reward is: 0\n",
            "GridWorld Environment: None\n",
            "Reward 0\n",
            "Agent's action is  3\n"
          ]
        },
        {
          "output_type": "display_data",
          "data": {
            "text/plain": [
              "<Figure size 432x288 with 1 Axes>"
            ],
            "image/png": "[encoded data removed]"
          },
          "metadata": {
            "needs_background": "light"
          }
        },
        {
          "output_type": "display_data",
          "data": {
            "text/plain": [
              "<IPython.core.display.Javascript object>"
            ],
            "application/javascript": [
              "window[\"59159dea-cf37-11ec-a82b-0242ac1c0002\"] = google.colab.output.getActiveOutputArea();\n",
              "//# sourceURL=js_f50dd95052"
            ]
          },
          "metadata": {}
        },
        {
          "output_type": "display_data",
          "data": {
            "text/plain": [
              "<IPython.core.display.Javascript object>"
            ],
            "application/javascript": [
              "window[\"5916078a-cf37-11ec-a82b-0242ac1c0002\"] = document.querySelector(\"#id4-0-0\");\n",
              "//# sourceURL=js_6560ca96f2"
            ]
          },
          "metadata": {}
        },
        {
          "output_type": "display_data",
          "data": {
            "text/plain": [
              "<IPython.core.display.Javascript object>"
            ],
            "application/javascript": [
              "window[\"5916887c-cf37-11ec-a82b-0242ac1c0002\"] = google.colab.output.setActiveOutputArea(window[\"5916078a-cf37-11ec-a82b-0242ac1c0002\"]);\n",
              "//# sourceURL=js_159b8c40b9"
            ]
          },
          "metadata": {}
        },
        {
          "output_type": "display_data",
          "data": {
            "text/plain": [
              "<IPython.core.display.Javascript object>"
            ],
            "application/javascript": [
              "window[\"59325c14-cf37-11ec-a82b-0242ac1c0002\"] = google.colab.output.setActiveOutputArea(window[\"59159dea-cf37-11ec-a82b-0242ac1c0002\"]);\n",
              "//# sourceURL=js_3b5ab2453b"
            ]
          },
          "metadata": {}
        },
        {
          "output_type": "stream",
          "name": "stdout",
          "text": [
            "Timesteps are: 38\n",
            "State is: [[0.  0.  0.  0.  0.5]\n",
            " [1.  0.  0.  0.  0. ]\n",
            " [0.  0.  0.  0.  0. ]\n",
            " [0.  0.  0.  0.  0. ]\n",
            " [0.  0.  0.  0.  0. ]]\n",
            "Reward is: 0\n",
            "GridWorld Environment: None\n",
            "Reward 0\n",
            "Agent's action is  3\n"
          ]
        },
        {
          "output_type": "display_data",
          "data": {
            "text/plain": [
              "<Figure size 432x288 with 1 Axes>"
            ],
            "image/png": "[encoded data removed]"
          },
          "metadata": {
            "needs_background": "light"
          }
        },
        {
          "output_type": "display_data",
          "data": {
            "text/plain": [
              "<IPython.core.display.Javascript object>"
            ],
            "application/javascript": [
              "window[\"59e4273c-cf37-11ec-a82b-0242ac1c0002\"] = google.colab.output.getActiveOutputArea();\n",
              "//# sourceURL=js_8919af1bac"
            ]
          },
          "metadata": {}
        },
        {
          "output_type": "display_data",
          "data": {
            "text/plain": [
              "<IPython.core.display.Javascript object>"
            ],
            "application/javascript": [
              "window[\"59e50dd2-cf37-11ec-a82b-0242ac1c0002\"] = document.querySelector(\"#id4-0-0\");\n",
              "//# sourceURL=js_2df40e2ffe"
            ]
          },
          "metadata": {}
        },
        {
          "output_type": "display_data",
          "data": {
            "text/plain": [
              "<IPython.core.display.Javascript object>"
            ],
            "application/javascript": [
              "window[\"59e55d46-cf37-11ec-a82b-0242ac1c0002\"] = google.colab.output.setActiveOutputArea(window[\"59e50dd2-cf37-11ec-a82b-0242ac1c0002\"]);\n",
              "//# sourceURL=js_b517fe44ba"
            ]
          },
          "metadata": {}
        },
        {
          "output_type": "display_data",
          "data": {
            "text/plain": [
              "<IPython.core.display.Javascript object>"
            ],
            "application/javascript": [
              "window[\"59fe70ce-cf37-11ec-a82b-0242ac1c0002\"] = google.colab.output.setActiveOutputArea(window[\"59e4273c-cf37-11ec-a82b-0242ac1c0002\"]);\n",
              "//# sourceURL=js_64ea33c9c9"
            ]
          },
          "metadata": {}
        },
        {
          "output_type": "stream",
          "name": "stdout",
          "text": [
            "Timesteps are: 39\n",
            "State is: [[0.  0.  0.  0.  0.5]\n",
            " [1.  0.  0.  0.  0. ]\n",
            " [0.  0.  0.  0.  0. ]\n",
            " [0.  0.  0.  0.  0. ]\n",
            " [0.  0.  0.  0.  0. ]]\n",
            "Reward is: 0\n",
            "GridWorld Environment: None\n",
            "Reward 0\n",
            "Agent's action is  3\n"
          ]
        },
        {
          "output_type": "display_data",
          "data": {
            "text/plain": [
              "<Figure size 432x288 with 1 Axes>"
            ],
            "image/png": "[encoded data removed]"
          },
          "metadata": {
            "needs_background": "light"
          }
        },
        {
          "output_type": "display_data",
          "data": {
            "text/plain": [
              "<IPython.core.display.Javascript object>"
            ],
            "application/javascript": [
              "window[\"5ab3350e-cf37-11ec-a82b-0242ac1c0002\"] = google.colab.output.getActiveOutputArea();\n",
              "//# sourceURL=js_4bb330f1a7"
            ]
          },
          "metadata": {}
        },
        {
          "output_type": "display_data",
          "data": {
            "text/plain": [
              "<IPython.core.display.Javascript object>"
            ],
            "application/javascript": [
              "window[\"5ab3a11a-cf37-11ec-a82b-0242ac1c0002\"] = document.querySelector(\"#id4-0-0\");\n",
              "//# sourceURL=js_94f22b888d"
            ]
          },
          "metadata": {}
        },
        {
          "output_type": "display_data",
          "data": {
            "text/plain": [
              "<IPython.core.display.Javascript object>"
            ],
            "application/javascript": [
              "window[\"5ab40286-cf37-11ec-a82b-0242ac1c0002\"] = google.colab.output.setActiveOutputArea(window[\"5ab3a11a-cf37-11ec-a82b-0242ac1c0002\"]);\n",
              "//# sourceURL=js_c0849d879a"
            ]
          },
          "metadata": {}
        },
        {
          "output_type": "display_data",
          "data": {
            "text/plain": [
              "<IPython.core.display.Javascript object>"
            ],
            "application/javascript": [
              "window[\"5acbce5c-cf37-11ec-a82b-0242ac1c0002\"] = google.colab.output.setActiveOutputArea(window[\"5ab3350e-cf37-11ec-a82b-0242ac1c0002\"]);\n",
              "//# sourceURL=js_6e24a0dfc7"
            ]
          },
          "metadata": {}
        },
        {
          "output_type": "stream",
          "name": "stdout",
          "text": [
            "positive battery 5\n",
            "Timesteps are: 40\n",
            "State is: [[1.  0.  0.  0.  0.5]\n",
            " [0.  0.  0.  0.  0. ]\n",
            " [0.  0.  0.  0.  0. ]\n",
            " [0.  0.  0.  0.  0. ]\n",
            " [0.  0.  0.  0.  0. ]]\n",
            "Reward is: 5\n",
            "GridWorld Environment: None\n",
            "Reward 5\n",
            "Agent's action is  1\n"
          ]
        },
        {
          "output_type": "display_data",
          "data": {
            "text/plain": [
              "<Figure size 432x288 with 1 Axes>"
            ],
            "image/png": "[encoded data removed]"
          },
          "metadata": {
            "needs_background": "light"
          }
        },
        {
          "output_type": "display_data",
          "data": {
            "text/plain": [
              "<IPython.core.display.Javascript object>"
            ],
            "application/javascript": [
              "window[\"5b7acc4a-cf37-11ec-a82b-0242ac1c0002\"] = google.colab.output.getActiveOutputArea();\n",
              "//# sourceURL=js_a087fca2cd"
            ]
          },
          "metadata": {}
        },
        {
          "output_type": "display_data",
          "data": {
            "text/plain": [
              "<IPython.core.display.Javascript object>"
            ],
            "application/javascript": [
              "window[\"5b7b3392-cf37-11ec-a82b-0242ac1c0002\"] = document.querySelector(\"#id4-0-0\");\n",
              "//# sourceURL=js_fe3ccfdc67"
            ]
          },
          "metadata": {}
        },
        {
          "output_type": "display_data",
          "data": {
            "text/plain": [
              "<IPython.core.display.Javascript object>"
            ],
            "application/javascript": [
              "window[\"5b7b8b26-cf37-11ec-a82b-0242ac1c0002\"] = google.colab.output.setActiveOutputArea(window[\"5b7b3392-cf37-11ec-a82b-0242ac1c0002\"]);\n",
              "//# sourceURL=js_6195c70290"
            ]
          },
          "metadata": {}
        },
        {
          "output_type": "display_data",
          "data": {
            "text/plain": [
              "<IPython.core.display.Javascript object>"
            ],
            "application/javascript": [
              "window[\"5b9413da-cf37-11ec-a82b-0242ac1c0002\"] = google.colab.output.setActiveOutputArea(window[\"5b7acc4a-cf37-11ec-a82b-0242ac1c0002\"]);\n",
              "//# sourceURL=js_ab74f632a2"
            ]
          },
          "metadata": {}
        },
        {
          "output_type": "stream",
          "name": "stdout",
          "text": [
            "Timesteps are: 41\n",
            "State is: [[0.  1.  0.  0.  0.5]\n",
            " [0.  0.  0.  0.  0. ]\n",
            " [0.  0.  0.  0.  0. ]\n",
            " [0.  0.  0.  0.  0. ]\n",
            " [0.  0.  0.  0.  0. ]]\n",
            "Reward is: 0\n",
            "GridWorld Environment: None\n",
            "Reward 0\n",
            "Agent's action is  2\n"
          ]
        },
        {
          "output_type": "display_data",
          "data": {
            "text/plain": [
              "<Figure size 432x288 with 1 Axes>"
            ],
            "image/png": "[encoded data removed]"
          },
          "metadata": {
            "needs_background": "light"
          }
        },
        {
          "output_type": "display_data",
          "data": {
            "text/plain": [
              "<IPython.core.display.Javascript object>"
            ],
            "application/javascript": [
              "window[\"5c450ab4-cf37-11ec-a82b-0242ac1c0002\"] = google.colab.output.getActiveOutputArea();\n",
              "//# sourceURL=js_0b828e1d8d"
            ]
          },
          "metadata": {}
        },
        {
          "output_type": "display_data",
          "data": {
            "text/plain": [
              "<IPython.core.display.Javascript object>"
            ],
            "application/javascript": [
              "window[\"5c4570f8-cf37-11ec-a82b-0242ac1c0002\"] = document.querySelector(\"#id4-0-0\");\n",
              "//# sourceURL=js_2c60828994"
            ]
          },
          "metadata": {}
        },
        {
          "output_type": "display_data",
          "data": {
            "text/plain": [
              "<IPython.core.display.Javascript object>"
            ],
            "application/javascript": [
              "window[\"5c45d516-cf37-11ec-a82b-0242ac1c0002\"] = google.colab.output.setActiveOutputArea(window[\"5c4570f8-cf37-11ec-a82b-0242ac1c0002\"]);\n",
              "//# sourceURL=js_f99fe5b229"
            ]
          },
          "metadata": {}
        },
        {
          "output_type": "display_data",
          "data": {
            "text/plain": [
              "<IPython.core.display.Javascript object>"
            ],
            "application/javascript": [
              "window[\"5c604a40-cf37-11ec-a82b-0242ac1c0002\"] = google.colab.output.setActiveOutputArea(window[\"5c450ab4-cf37-11ec-a82b-0242ac1c0002\"]);\n",
              "//# sourceURL=js_4801cd3455"
            ]
          },
          "metadata": {}
        },
        {
          "output_type": "stream",
          "name": "stdout",
          "text": [
            "Timesteps are: 42\n",
            "State is: [[0.  1.  0.  0.  0.5]\n",
            " [0.  0.  0.  0.  0. ]\n",
            " [0.  0.  0.  0.  0. ]\n",
            " [0.  0.  0.  0.  0. ]\n",
            " [0.  0.  0.  0.  0. ]]\n",
            "Reward is: 0\n",
            "GridWorld Environment: None\n",
            "Reward 0\n",
            "Agent's action is  1\n"
          ]
        },
        {
          "output_type": "display_data",
          "data": {
            "text/plain": [
              "<Figure size 432x288 with 1 Axes>"
            ],
            "image/png": "[encoded data removed]"
          },
          "metadata": {
            "needs_background": "light"
          }
        },
        {
          "output_type": "display_data",
          "data": {
            "text/plain": [
              "<IPython.core.display.Javascript object>"
            ],
            "application/javascript": [
              "window[\"5d213c5a-cf37-11ec-a82b-0242ac1c0002\"] = google.colab.output.getActiveOutputArea();\n",
              "//# sourceURL=js_98de4f1cd9"
            ]
          },
          "metadata": {}
        },
        {
          "output_type": "display_data",
          "data": {
            "text/plain": [
              "<IPython.core.display.Javascript object>"
            ],
            "application/javascript": [
              "window[\"5d2217c4-cf37-11ec-a82b-0242ac1c0002\"] = document.querySelector(\"#id4-0-0\");\n",
              "//# sourceURL=js_22ad99efcf"
            ]
          },
          "metadata": {}
        },
        {
          "output_type": "display_data",
          "data": {
            "text/plain": [
              "<IPython.core.display.Javascript object>"
            ],
            "application/javascript": [
              "window[\"5d2319ee-cf37-11ec-a82b-0242ac1c0002\"] = google.colab.output.setActiveOutputArea(window[\"5d2217c4-cf37-11ec-a82b-0242ac1c0002\"]);\n",
              "//# sourceURL=js_5bca8115c6"
            ]
          },
          "metadata": {}
        },
        {
          "output_type": "display_data",
          "data": {
            "text/plain": [
              "<IPython.core.display.Javascript object>"
            ],
            "application/javascript": [
              "window[\"5d504b3a-cf37-11ec-a82b-0242ac1c0002\"] = google.colab.output.setActiveOutputArea(window[\"5d213c5a-cf37-11ec-a82b-0242ac1c0002\"]);\n",
              "//# sourceURL=js_017e0ffafd"
            ]
          },
          "metadata": {}
        },
        {
          "output_type": "stream",
          "name": "stdout",
          "text": [
            "positive battery 5\n",
            "Timesteps are: 43\n",
            "State is: [[1.  0.  0.  0.  0.5]\n",
            " [0.  0.  0.  0.  0. ]\n",
            " [0.  0.  0.  0.  0. ]\n",
            " [0.  0.  0.  0.  0. ]\n",
            " [0.  0.  0.  0.  0. ]]\n",
            "Reward is: 5\n",
            "GridWorld Environment: None\n",
            "Reward 5\n",
            "Agent's action is  3\n"
          ]
        },
        {
          "output_type": "display_data",
          "data": {
            "text/plain": [
              "<Figure size 432x288 with 1 Axes>"
            ],
            "image/png": "[encoded data removed]"
          },
          "metadata": {
            "needs_background": "light"
          }
        },
        {
          "output_type": "display_data",
          "data": {
            "text/plain": [
              "<IPython.core.display.Javascript object>"
            ],
            "application/javascript": [
              "window[\"5e00b114-cf37-11ec-a82b-0242ac1c0002\"] = google.colab.output.getActiveOutputArea();\n",
              "//# sourceURL=js_993f4318dd"
            ]
          },
          "metadata": {}
        },
        {
          "output_type": "display_data",
          "data": {
            "text/plain": [
              "<IPython.core.display.Javascript object>"
            ],
            "application/javascript": [
              "window[\"5e023246-cf37-11ec-a82b-0242ac1c0002\"] = document.querySelector(\"#id4-0-0\");\n",
              "//# sourceURL=js_596b2f78d9"
            ]
          },
          "metadata": {}
        },
        {
          "output_type": "display_data",
          "data": {
            "text/plain": [
              "<IPython.core.display.Javascript object>"
            ],
            "application/javascript": [
              "window[\"5e029e98-cf37-11ec-a82b-0242ac1c0002\"] = google.colab.output.setActiveOutputArea(window[\"5e023246-cf37-11ec-a82b-0242ac1c0002\"]);\n",
              "//# sourceURL=js_9ae4c9e1c6"
            ]
          },
          "metadata": {}
        },
        {
          "output_type": "display_data",
          "data": {
            "text/plain": [
              "<IPython.core.display.Javascript object>"
            ],
            "application/javascript": [
              "window[\"5e1c680a-cf37-11ec-a82b-0242ac1c0002\"] = google.colab.output.setActiveOutputArea(window[\"5e00b114-cf37-11ec-a82b-0242ac1c0002\"]);\n",
              "//# sourceURL=js_6e6f70b774"
            ]
          },
          "metadata": {}
        },
        {
          "output_type": "stream",
          "name": "stdout",
          "text": [
            "positive battery 5\n",
            "Timesteps are: 44\n",
            "State is: [[1.  0.  0.  0.  0.5]\n",
            " [0.  0.  0.  0.  0. ]\n",
            " [0.  0.  0.  0.  0. ]\n",
            " [0.  0.  0.  0.  0. ]\n",
            " [0.  0.  0.  0.  0. ]]\n",
            "Reward is: 5\n",
            "GridWorld Environment: None\n",
            "Reward 5\n",
            "Agent's action is  3\n"
          ]
        },
        {
          "output_type": "display_data",
          "data": {
            "text/plain": [
              "<Figure size 432x288 with 1 Axes>"
            ],
            "image/png": "[encoded data removed]"
          },
          "metadata": {
            "needs_background": "light"
          }
        },
        {
          "output_type": "display_data",
          "data": {
            "text/plain": [
              "<IPython.core.display.Javascript object>"
            ],
            "application/javascript": [
              "window[\"5ecd997c-cf37-11ec-a82b-0242ac1c0002\"] = google.colab.output.getActiveOutputArea();\n",
              "//# sourceURL=js_1055114465"
            ]
          },
          "metadata": {}
        },
        {
          "output_type": "display_data",
          "data": {
            "text/plain": [
              "<IPython.core.display.Javascript object>"
            ],
            "application/javascript": [
              "window[\"5ece4f16-cf37-11ec-a82b-0242ac1c0002\"] = document.querySelector(\"#id4-0-0\");\n",
              "//# sourceURL=js_efc6fe1cd3"
            ]
          },
          "metadata": {}
        },
        {
          "output_type": "display_data",
          "data": {
            "text/plain": [
              "<IPython.core.display.Javascript object>"
            ],
            "application/javascript": [
              "window[\"5ecebdac-cf37-11ec-a82b-0242ac1c0002\"] = google.colab.output.setActiveOutputArea(window[\"5ece4f16-cf37-11ec-a82b-0242ac1c0002\"]);\n",
              "//# sourceURL=js_e7aaa16ee9"
            ]
          },
          "metadata": {}
        },
        {
          "output_type": "display_data",
          "data": {
            "text/plain": [
              "<IPython.core.display.Javascript object>"
            ],
            "application/javascript": [
              "window[\"5eea196c-cf37-11ec-a82b-0242ac1c0002\"] = google.colab.output.setActiveOutputArea(window[\"5ecd997c-cf37-11ec-a82b-0242ac1c0002\"]);\n",
              "//# sourceURL=js_ee81523298"
            ]
          },
          "metadata": {}
        },
        {
          "output_type": "stream",
          "name": "stdout",
          "text": [
            "positive battery 5\n",
            "Timesteps are: 45\n",
            "State is: [[1.  0.  0.  0.  0.5]\n",
            " [0.  0.  0.  0.  0. ]\n",
            " [0.  0.  0.  0.  0. ]\n",
            " [0.  0.  0.  0.  0. ]\n",
            " [0.  0.  0.  0.  0. ]]\n",
            "Reward is: 5\n",
            "GridWorld Environment: None\n",
            "Reward 5\n",
            "Agent's action is  3\n"
          ]
        },
        {
          "output_type": "display_data",
          "data": {
            "text/plain": [
              "<Figure size 432x288 with 1 Axes>"
            ],
            "image/png": "[encoded data removed]"
          },
          "metadata": {
            "needs_background": "light"
          }
        },
        {
          "output_type": "display_data",
          "data": {
            "text/plain": [
              "<IPython.core.display.Javascript object>"
            ],
            "application/javascript": [
              "window[\"5f9bfb0a-cf37-11ec-a82b-0242ac1c0002\"] = google.colab.output.getActiveOutputArea();\n",
              "//# sourceURL=js_edfd03b85f"
            ]
          },
          "metadata": {}
        },
        {
          "output_type": "display_data",
          "data": {
            "text/plain": [
              "<IPython.core.display.Javascript object>"
            ],
            "application/javascript": [
              "window[\"5f9c6220-cf37-11ec-a82b-0242ac1c0002\"] = document.querySelector(\"#id4-0-0\");\n",
              "//# sourceURL=js_1bf0ca40e4"
            ]
          },
          "metadata": {}
        },
        {
          "output_type": "display_data",
          "data": {
            "text/plain": [
              "<IPython.core.display.Javascript object>"
            ],
            "application/javascript": [
              "window[\"5f9cd96c-cf37-11ec-a82b-0242ac1c0002\"] = google.colab.output.setActiveOutputArea(window[\"5f9c6220-cf37-11ec-a82b-0242ac1c0002\"]);\n",
              "//# sourceURL=js_8b7df70a09"
            ]
          },
          "metadata": {}
        },
        {
          "output_type": "display_data",
          "data": {
            "text/plain": [
              "<IPython.core.display.Javascript object>"
            ],
            "application/javascript": [
              "window[\"5fb65810-cf37-11ec-a82b-0242ac1c0002\"] = google.colab.output.setActiveOutputArea(window[\"5f9bfb0a-cf37-11ec-a82b-0242ac1c0002\"]);\n",
              "//# sourceURL=js_879c3eb079"
            ]
          },
          "metadata": {}
        },
        {
          "output_type": "stream",
          "name": "stdout",
          "text": [
            "positive battery 5\n",
            "Timesteps are: 46\n",
            "State is: [[1.  0.  0.  0.  0.5]\n",
            " [0.  0.  0.  0.  0. ]\n",
            " [0.  0.  0.  0.  0. ]\n",
            " [0.  0.  0.  0.  0. ]\n",
            " [0.  0.  0.  0.  0. ]]\n",
            "Reward is: 5\n",
            "GridWorld Environment: None\n",
            "Reward 5\n",
            "Agent's action is  3\n"
          ]
        },
        {
          "output_type": "display_data",
          "data": {
            "text/plain": [
              "<Figure size 432x288 with 1 Axes>"
            ],
            "image/png": "[encoded data removed]"
          },
          "metadata": {
            "needs_background": "light"
          }
        },
        {
          "output_type": "display_data",
          "data": {
            "text/plain": [
              "<IPython.core.display.Javascript object>"
            ],
            "application/javascript": [
              "window[\"6065af40-cf37-11ec-a82b-0242ac1c0002\"] = google.colab.output.getActiveOutputArea();\n",
              "//# sourceURL=js_2fca94e95c"
            ]
          },
          "metadata": {}
        },
        {
          "output_type": "display_data",
          "data": {
            "text/plain": [
              "<IPython.core.display.Javascript object>"
            ],
            "application/javascript": [
              "window[\"60660116-cf37-11ec-a82b-0242ac1c0002\"] = document.querySelector(\"#id4-0-0\");\n",
              "//# sourceURL=js_3063e424dc"
            ]
          },
          "metadata": {}
        },
        {
          "output_type": "display_data",
          "data": {
            "text/plain": [
              "<IPython.core.display.Javascript object>"
            ],
            "application/javascript": [
              "window[\"60666aac-cf37-11ec-a82b-0242ac1c0002\"] = google.colab.output.setActiveOutputArea(window[\"60660116-cf37-11ec-a82b-0242ac1c0002\"]);\n",
              "//# sourceURL=js_f4224ed2ef"
            ]
          },
          "metadata": {}
        },
        {
          "output_type": "display_data",
          "data": {
            "text/plain": [
              "<IPython.core.display.Javascript object>"
            ],
            "application/javascript": [
              "window[\"607ecba6-cf37-11ec-a82b-0242ac1c0002\"] = google.colab.output.setActiveOutputArea(window[\"6065af40-cf37-11ec-a82b-0242ac1c0002\"]);\n",
              "//# sourceURL=js_6f89092d50"
            ]
          },
          "metadata": {}
        },
        {
          "output_type": "stream",
          "name": "stdout",
          "text": [
            "positive battery 5\n",
            "Timesteps are: 47\n",
            "State is: [[1.  0.  0.  0.  0.5]\n",
            " [0.  0.  0.  0.  0. ]\n",
            " [0.  0.  0.  0.  0. ]\n",
            " [0.  0.  0.  0.  0. ]\n",
            " [0.  0.  0.  0.  0. ]]\n",
            "Reward is: 5\n",
            "GridWorld Environment: None\n",
            "Reward 5\n",
            "Agent's action is  1\n"
          ]
        },
        {
          "output_type": "display_data",
          "data": {
            "text/plain": [
              "<Figure size 432x288 with 1 Axes>"
            ],
            "image/png": "[encoded data removed]"
          },
          "metadata": {
            "needs_background": "light"
          }
        },
        {
          "output_type": "display_data",
          "data": {
            "text/plain": [
              "<IPython.core.display.Javascript object>"
            ],
            "application/javascript": [
              "window[\"612d482a-cf37-11ec-a82b-0242ac1c0002\"] = google.colab.output.getActiveOutputArea();\n",
              "//# sourceURL=js_9f68481d33"
            ]
          },
          "metadata": {}
        },
        {
          "output_type": "display_data",
          "data": {
            "text/plain": [
              "<IPython.core.display.Javascript object>"
            ],
            "application/javascript": [
              "window[\"612da2c0-cf37-11ec-a82b-0242ac1c0002\"] = document.querySelector(\"#id4-0-0\");\n",
              "//# sourceURL=js_1262558e7f"
            ]
          },
          "metadata": {}
        },
        {
          "output_type": "display_data",
          "data": {
            "text/plain": [
              "<IPython.core.display.Javascript object>"
            ],
            "application/javascript": [
              "window[\"612df75c-cf37-11ec-a82b-0242ac1c0002\"] = google.colab.output.setActiveOutputArea(window[\"612da2c0-cf37-11ec-a82b-0242ac1c0002\"]);\n",
              "//# sourceURL=js_a40c46754d"
            ]
          },
          "metadata": {}
        },
        {
          "output_type": "display_data",
          "data": {
            "text/plain": [
              "<IPython.core.display.Javascript object>"
            ],
            "application/javascript": [
              "window[\"614f9010-cf37-11ec-a82b-0242ac1c0002\"] = google.colab.output.setActiveOutputArea(window[\"612d482a-cf37-11ec-a82b-0242ac1c0002\"]);\n",
              "//# sourceURL=js_7be380d4d5"
            ]
          },
          "metadata": {}
        },
        {
          "output_type": "stream",
          "name": "stdout",
          "text": [
            "Timesteps are: 48\n",
            "State is: [[0.  1.  0.  0.  0.5]\n",
            " [0.  0.  0.  0.  0. ]\n",
            " [0.  0.  0.  0.  0. ]\n",
            " [0.  0.  0.  0.  0. ]\n",
            " [0.  0.  0.  0.  0. ]]\n",
            "Reward is: 0\n",
            "GridWorld Environment: None\n",
            "Reward 0\n",
            "Agent's action is  2\n"
          ]
        },
        {
          "output_type": "display_data",
          "data": {
            "text/plain": [
              "<Figure size 432x288 with 1 Axes>"
            ],
            "image/png": "[encoded data removed]"
          },
          "metadata": {
            "needs_background": "light"
          }
        },
        {
          "output_type": "display_data",
          "data": {
            "text/plain": [
              "<IPython.core.display.Javascript object>"
            ],
            "application/javascript": [
              "window[\"61fd809e-cf37-11ec-a82b-0242ac1c0002\"] = google.colab.output.getActiveOutputArea();\n",
              "//# sourceURL=js_d60dee1f71"
            ]
          },
          "metadata": {}
        },
        {
          "output_type": "display_data",
          "data": {
            "text/plain": [
              "<IPython.core.display.Javascript object>"
            ],
            "application/javascript": [
              "window[\"61fde5de-cf37-11ec-a82b-0242ac1c0002\"] = document.querySelector(\"#id4-0-0\");\n",
              "//# sourceURL=js_c993e2a0d7"
            ]
          },
          "metadata": {}
        },
        {
          "output_type": "display_data",
          "data": {
            "text/plain": [
              "<IPython.core.display.Javascript object>"
            ],
            "application/javascript": [
              "window[\"61fe3976-cf37-11ec-a82b-0242ac1c0002\"] = google.colab.output.setActiveOutputArea(window[\"61fde5de-cf37-11ec-a82b-0242ac1c0002\"]);\n",
              "//# sourceURL=js_20339b561a"
            ]
          },
          "metadata": {}
        },
        {
          "output_type": "display_data",
          "data": {
            "text/plain": [
              "<IPython.core.display.Javascript object>"
            ],
            "application/javascript": [
              "window[\"6216991c-cf37-11ec-a82b-0242ac1c0002\"] = google.colab.output.setActiveOutputArea(window[\"61fd809e-cf37-11ec-a82b-0242ac1c0002\"]);\n",
              "//# sourceURL=js_8832c51c5d"
            ]
          },
          "metadata": {}
        },
        {
          "output_type": "stream",
          "name": "stdout",
          "text": [
            "positive battery 5\n",
            "Timesteps are: 49\n",
            "State is: [[1.  0.  0.  0.  0.5]\n",
            " [0.  0.  0.  0.  0. ]\n",
            " [0.  0.  0.  0.  0. ]\n",
            " [0.  0.  0.  0.  0. ]\n",
            " [0.  0.  0.  0.  0. ]]\n",
            "Reward is: 5\n",
            "GridWorld Environment: None\n",
            "Reward 5\n",
            "Agent's action is  3\n"
          ]
        },
        {
          "output_type": "display_data",
          "data": {
            "text/plain": [
              "<Figure size 432x288 with 1 Axes>"
            ],
            "image/png": "[encoded data removed]"
          },
          "metadata": {
            "needs_background": "light"
          }
        },
        {
          "output_type": "display_data",
          "data": {
            "text/plain": [
              "<IPython.core.display.Javascript object>"
            ],
            "application/javascript": [
              "window[\"62c7888a-cf37-11ec-a82b-0242ac1c0002\"] = google.colab.output.getActiveOutputArea();\n",
              "//# sourceURL=js_1473b5ae16"
            ]
          },
          "metadata": {}
        },
        {
          "output_type": "display_data",
          "data": {
            "text/plain": [
              "<IPython.core.display.Javascript object>"
            ],
            "application/javascript": [
              "window[\"62c7e42e-cf37-11ec-a82b-0242ac1c0002\"] = document.querySelector(\"#id4-0-0\");\n",
              "//# sourceURL=js_8520e69785"
            ]
          },
          "metadata": {}
        },
        {
          "output_type": "display_data",
          "data": {
            "text/plain": [
              "<IPython.core.display.Javascript object>"
            ],
            "application/javascript": [
              "window[\"62c853e6-cf37-11ec-a82b-0242ac1c0002\"] = google.colab.output.setActiveOutputArea(window[\"62c7e42e-cf37-11ec-a82b-0242ac1c0002\"]);\n",
              "//# sourceURL=js_699f433563"
            ]
          },
          "metadata": {}
        },
        {
          "output_type": "display_data",
          "data": {
            "text/plain": [
              "<IPython.core.display.Javascript object>"
            ],
            "application/javascript": [
              "window[\"62e143e2-cf37-11ec-a82b-0242ac1c0002\"] = google.colab.output.setActiveOutputArea(window[\"62c7888a-cf37-11ec-a82b-0242ac1c0002\"]);\n",
              "//# sourceURL=js_a9ecd8405c"
            ]
          },
          "metadata": {}
        },
        {
          "output_type": "stream",
          "name": "stdout",
          "text": [
            "Timesteps are: 50\n",
            "State is: [[0.  1.  0.  0.  0.5]\n",
            " [0.  0.  0.  0.  0. ]\n",
            " [0.  0.  0.  0.  0. ]\n",
            " [0.  0.  0.  0.  0. ]\n",
            " [0.  0.  0.  0.  0. ]]\n",
            "Reward is: 0\n",
            "GridWorld Environment: None\n",
            "Reward 0\n",
            "Agent's action is  2\n"
          ]
        },
        {
          "output_type": "display_data",
          "data": {
            "text/plain": [
              "<Figure size 432x288 with 1 Axes>"
            ],
            "image/png": "[encoded data removed]"
          },
          "metadata": {
            "needs_background": "light"
          }
        },
        {
          "output_type": "display_data",
          "data": {
            "text/plain": [
              "<IPython.core.display.Javascript object>"
            ],
            "application/javascript": [
              "window[\"63902b8c-cf37-11ec-a82b-0242ac1c0002\"] = google.colab.output.getActiveOutputArea();\n",
              "//# sourceURL=js_36261c4ff0"
            ]
          },
          "metadata": {}
        },
        {
          "output_type": "display_data",
          "data": {
            "text/plain": [
              "<IPython.core.display.Javascript object>"
            ],
            "application/javascript": [
              "window[\"63909a72-cf37-11ec-a82b-0242ac1c0002\"] = document.querySelector(\"#id4-0-0\");\n",
              "//# sourceURL=js_31b7df1493"
            ]
          },
          "metadata": {}
        },
        {
          "output_type": "display_data",
          "data": {
            "text/plain": [
              "<IPython.core.display.Javascript object>"
            ],
            "application/javascript": [
              "window[\"6390feea-cf37-11ec-a82b-0242ac1c0002\"] = google.colab.output.setActiveOutputArea(window[\"63909a72-cf37-11ec-a82b-0242ac1c0002\"]);\n",
              "//# sourceURL=js_f793ca0a9c"
            ]
          },
          "metadata": {}
        },
        {
          "output_type": "display_data",
          "data": {
            "text/plain": [
              "<IPython.core.display.Javascript object>"
            ],
            "application/javascript": [
              "window[\"63aa0f7a-cf37-11ec-a82b-0242ac1c0002\"] = google.colab.output.setActiveOutputArea(window[\"63902b8c-cf37-11ec-a82b-0242ac1c0002\"]);\n",
              "//# sourceURL=js_c02566b8b1"
            ]
          },
          "metadata": {}
        },
        {
          "output_type": "stream",
          "name": "stdout",
          "text": [
            "Timesteps are: 51\n",
            "State is: [[0.  0.  0.  0.  0.5]\n",
            " [0.  1.  0.  0.  0. ]\n",
            " [0.  0.  0.  0.  0. ]\n",
            " [0.  0.  0.  0.  0. ]\n",
            " [0.  0.  0.  0.  0. ]]\n",
            "Reward is: 0\n",
            "GridWorld Environment: None\n",
            "Reward 0\n",
            "Agent's action is  0\n"
          ]
        },
        {
          "output_type": "display_data",
          "data": {
            "text/plain": [
              "<Figure size 432x288 with 1 Axes>"
            ],
            "image/png": "[encoded data removed]"
          },
          "metadata": {
            "needs_background": "light"
          }
        },
        {
          "output_type": "display_data",
          "data": {
            "text/plain": [
              "<IPython.core.display.Javascript object>"
            ],
            "application/javascript": [
              "window[\"645db1ec-cf37-11ec-a82b-0242ac1c0002\"] = google.colab.output.getActiveOutputArea();\n",
              "//# sourceURL=js_48875b1f06"
            ]
          },
          "metadata": {}
        },
        {
          "output_type": "display_data",
          "data": {
            "text/plain": [
              "<IPython.core.display.Javascript object>"
            ],
            "application/javascript": [
              "window[\"645e1844-cf37-11ec-a82b-0242ac1c0002\"] = document.querySelector(\"#id4-0-0\");\n",
              "//# sourceURL=js_0ee2196130"
            ]
          },
          "metadata": {}
        },
        {
          "output_type": "display_data",
          "data": {
            "text/plain": [
              "<IPython.core.display.Javascript object>"
            ],
            "application/javascript": [
              "window[\"645f2928-cf37-11ec-a82b-0242ac1c0002\"] = google.colab.output.setActiveOutputArea(window[\"645e1844-cf37-11ec-a82b-0242ac1c0002\"]);\n",
              "//# sourceURL=js_ea611c8bc0"
            ]
          },
          "metadata": {}
        },
        {
          "output_type": "display_data",
          "data": {
            "text/plain": [
              "<IPython.core.display.Javascript object>"
            ],
            "application/javascript": [
              "window[\"6479c1de-cf37-11ec-a82b-0242ac1c0002\"] = google.colab.output.setActiveOutputArea(window[\"645db1ec-cf37-11ec-a82b-0242ac1c0002\"]);\n",
              "//# sourceURL=js_d38bbdef6a"
            ]
          },
          "metadata": {}
        },
        {
          "output_type": "stream",
          "name": "stdout",
          "text": [
            "Timesteps are: 52\n",
            "State is: [[0.  0.  0.  0.  0.5]\n",
            " [1.  0.  0.  0.  0. ]\n",
            " [0.  0.  0.  0.  0. ]\n",
            " [0.  0.  0.  0.  0. ]\n",
            " [0.  0.  0.  0.  0. ]]\n",
            "Reward is: 0\n",
            "GridWorld Environment: None\n",
            "Reward 0\n",
            "Agent's action is  3\n"
          ]
        },
        {
          "output_type": "display_data",
          "data": {
            "text/plain": [
              "<Figure size 432x288 with 1 Axes>"
            ],
            "image/png": "[encoded data removed]"
          },
          "metadata": {
            "needs_background": "light"
          }
        },
        {
          "output_type": "display_data",
          "data": {
            "text/plain": [
              "<IPython.core.display.Javascript object>"
            ],
            "application/javascript": [
              "window[\"652b39d2-cf37-11ec-a82b-0242ac1c0002\"] = google.colab.output.getActiveOutputArea();\n",
              "//# sourceURL=js_a280255b68"
            ]
          },
          "metadata": {}
        },
        {
          "output_type": "display_data",
          "data": {
            "text/plain": [
              "<IPython.core.display.Javascript object>"
            ],
            "application/javascript": [
              "window[\"652b98e6-cf37-11ec-a82b-0242ac1c0002\"] = document.querySelector(\"#id4-0-0\");\n",
              "//# sourceURL=js_28945e93d6"
            ]
          },
          "metadata": {}
        },
        {
          "output_type": "display_data",
          "data": {
            "text/plain": [
              "<IPython.core.display.Javascript object>"
            ],
            "application/javascript": [
              "window[\"652bf44e-cf37-11ec-a82b-0242ac1c0002\"] = google.colab.output.setActiveOutputArea(window[\"652b98e6-cf37-11ec-a82b-0242ac1c0002\"]);\n",
              "//# sourceURL=js_2ef8a999c8"
            ]
          },
          "metadata": {}
        },
        {
          "output_type": "display_data",
          "data": {
            "text/plain": [
              "<IPython.core.display.Javascript object>"
            ],
            "application/javascript": [
              "window[\"65455a9c-cf37-11ec-a82b-0242ac1c0002\"] = google.colab.output.setActiveOutputArea(window[\"652b39d2-cf37-11ec-a82b-0242ac1c0002\"]);\n",
              "//# sourceURL=js_3b5cca88f0"
            ]
          },
          "metadata": {}
        },
        {
          "output_type": "stream",
          "name": "stdout",
          "text": [
            "positive battery 5\n",
            "Timesteps are: 53\n",
            "State is: [[1.  0.  0.  0.  0.5]\n",
            " [0.  0.  0.  0.  0. ]\n",
            " [0.  0.  0.  0.  0. ]\n",
            " [0.  0.  0.  0.  0. ]\n",
            " [0.  0.  0.  0.  0. ]]\n",
            "Reward is: 5\n",
            "GridWorld Environment: None\n",
            "Reward 5\n",
            "Agent's action is  1\n"
          ]
        },
        {
          "output_type": "display_data",
          "data": {
            "text/plain": [
              "<Figure size 432x288 with 1 Axes>"
            ],
            "image/png": "[encoded data removed]"
          },
          "metadata": {
            "needs_background": "light"
          }
        },
        {
          "output_type": "display_data",
          "data": {
            "text/plain": [
              "<IPython.core.display.Javascript object>"
            ],
            "application/javascript": [
              "window[\"660113cc-cf37-11ec-a82b-0242ac1c0002\"] = google.colab.output.getActiveOutputArea();\n",
              "//# sourceURL=js_72aa5edd39"
            ]
          },
          "metadata": {}
        },
        {
          "output_type": "display_data",
          "data": {
            "text/plain": [
              "<IPython.core.display.Javascript object>"
            ],
            "application/javascript": [
              "window[\"66028acc-cf37-11ec-a82b-0242ac1c0002\"] = document.querySelector(\"#id4-0-0\");\n",
              "//# sourceURL=js_ac214beeba"
            ]
          },
          "metadata": {}
        },
        {
          "output_type": "display_data",
          "data": {
            "text/plain": [
              "<IPython.core.display.Javascript object>"
            ],
            "application/javascript": [
              "window[\"6602e788-cf37-11ec-a82b-0242ac1c0002\"] = google.colab.output.setActiveOutputArea(window[\"66028acc-cf37-11ec-a82b-0242ac1c0002\"]);\n",
              "//# sourceURL=js_3c1b23c274"
            ]
          },
          "metadata": {}
        },
        {
          "output_type": "display_data",
          "data": {
            "text/plain": [
              "<IPython.core.display.Javascript object>"
            ],
            "application/javascript": [
              "window[\"661aefcc-cf37-11ec-a82b-0242ac1c0002\"] = google.colab.output.setActiveOutputArea(window[\"660113cc-cf37-11ec-a82b-0242ac1c0002\"]);\n",
              "//# sourceURL=js_5e60b52e53"
            ]
          },
          "metadata": {}
        },
        {
          "output_type": "stream",
          "name": "stdout",
          "text": [
            "Timesteps are: 54\n",
            "State is: [[0.  0.  0.  0.  0.5]\n",
            " [1.  0.  0.  0.  0. ]\n",
            " [0.  0.  0.  0.  0. ]\n",
            " [0.  0.  0.  0.  0. ]\n",
            " [0.  0.  0.  0.  0. ]]\n",
            "Reward is: 0\n",
            "GridWorld Environment: None\n",
            "Reward 0\n",
            "Agent's action is  0\n"
          ]
        },
        {
          "output_type": "display_data",
          "data": {
            "text/plain": [
              "<Figure size 432x288 with 1 Axes>"
            ],
            "image/png": "[encoded data removed]"
          },
          "metadata": {
            "needs_background": "light"
          }
        },
        {
          "output_type": "display_data",
          "data": {
            "text/plain": [
              "<IPython.core.display.Javascript object>"
            ],
            "application/javascript": [
              "window[\"66cafc0a-cf37-11ec-a82b-0242ac1c0002\"] = google.colab.output.getActiveOutputArea();\n",
              "//# sourceURL=js_0e8f39b413"
            ]
          },
          "metadata": {}
        },
        {
          "output_type": "display_data",
          "data": {
            "text/plain": [
              "<IPython.core.display.Javascript object>"
            ],
            "application/javascript": [
              "window[\"66cb6406-cf37-11ec-a82b-0242ac1c0002\"] = document.querySelector(\"#id4-0-0\");\n",
              "//# sourceURL=js_28357f906f"
            ]
          },
          "metadata": {}
        },
        {
          "output_type": "display_data",
          "data": {
            "text/plain": [
              "<IPython.core.display.Javascript object>"
            ],
            "application/javascript": [
              "window[\"66cbbd20-cf37-11ec-a82b-0242ac1c0002\"] = google.colab.output.setActiveOutputArea(window[\"66cb6406-cf37-11ec-a82b-0242ac1c0002\"]);\n",
              "//# sourceURL=js_1e09003b89"
            ]
          },
          "metadata": {}
        },
        {
          "output_type": "display_data",
          "data": {
            "text/plain": [
              "<IPython.core.display.Javascript object>"
            ],
            "application/javascript": [
              "window[\"66e50276-cf37-11ec-a82b-0242ac1c0002\"] = google.colab.output.setActiveOutputArea(window[\"66cafc0a-cf37-11ec-a82b-0242ac1c0002\"]);\n",
              "//# sourceURL=js_4df67d96f3"
            ]
          },
          "metadata": {}
        },
        {
          "output_type": "stream",
          "name": "stdout",
          "text": [
            "Timesteps are: 55\n",
            "State is: [[0.  0.  0.  0.  0.5]\n",
            " [1.  0.  0.  0.  0. ]\n",
            " [0.  0.  0.  0.  0. ]\n",
            " [0.  0.  0.  0.  0. ]\n",
            " [0.  0.  0.  0.  0. ]]\n",
            "Reward is: 0\n",
            "GridWorld Environment: None\n",
            "Reward 0\n",
            "Agent's action is  3\n"
          ]
        },
        {
          "output_type": "display_data",
          "data": {
            "text/plain": [
              "<Figure size 432x288 with 1 Axes>"
            ],
            "image/png": "[encoded data removed]"
          },
          "metadata": {
            "needs_background": "light"
          }
        },
        {
          "output_type": "display_data",
          "data": {
            "text/plain": [
              "<IPython.core.display.Javascript object>"
            ],
            "application/javascript": [
              "window[\"6793426e-cf37-11ec-a82b-0242ac1c0002\"] = google.colab.output.getActiveOutputArea();\n",
              "//# sourceURL=js_43db77226a"
            ]
          },
          "metadata": {}
        },
        {
          "output_type": "display_data",
          "data": {
            "text/plain": [
              "<IPython.core.display.Javascript object>"
            ],
            "application/javascript": [
              "window[\"6793a5ec-cf37-11ec-a82b-0242ac1c0002\"] = document.querySelector(\"#id4-0-0\");\n",
              "//# sourceURL=js_a2d7c0088f"
            ]
          },
          "metadata": {}
        },
        {
          "output_type": "display_data",
          "data": {
            "text/plain": [
              "<IPython.core.display.Javascript object>"
            ],
            "application/javascript": [
              "window[\"67940cee-cf37-11ec-a82b-0242ac1c0002\"] = google.colab.output.setActiveOutputArea(window[\"6793a5ec-cf37-11ec-a82b-0242ac1c0002\"]);\n",
              "//# sourceURL=js_8f8172d33f"
            ]
          },
          "metadata": {}
        },
        {
          "output_type": "display_data",
          "data": {
            "text/plain": [
              "<IPython.core.display.Javascript object>"
            ],
            "application/javascript": [
              "window[\"67ac9fac-cf37-11ec-a82b-0242ac1c0002\"] = google.colab.output.setActiveOutputArea(window[\"6793426e-cf37-11ec-a82b-0242ac1c0002\"]);\n",
              "//# sourceURL=js_a7b080fce6"
            ]
          },
          "metadata": {}
        },
        {
          "output_type": "stream",
          "name": "stdout",
          "text": [
            "Timesteps are: 56\n",
            "State is: [[0.  0.  0.  0.  0.5]\n",
            " [1.  0.  0.  0.  0. ]\n",
            " [0.  0.  0.  0.  0. ]\n",
            " [0.  0.  0.  0.  0. ]\n",
            " [0.  0.  0.  0.  0. ]]\n",
            "Reward is: 0\n",
            "GridWorld Environment: None\n",
            "Reward 0\n",
            "Agent's action is  3\n"
          ]
        },
        {
          "output_type": "display_data",
          "data": {
            "text/plain": [
              "<Figure size 432x288 with 1 Axes>"
            ],
            "image/png": "[encoded data removed]"
          },
          "metadata": {
            "needs_background": "light"
          }
        },
        {
          "output_type": "display_data",
          "data": {
            "text/plain": [
              "<IPython.core.display.Javascript object>"
            ],
            "application/javascript": [
              "window[\"685e4356-cf37-11ec-a82b-0242ac1c0002\"] = google.colab.output.getActiveOutputArea();\n",
              "//# sourceURL=js_4f42b7068b"
            ]
          },
          "metadata": {}
        },
        {
          "output_type": "display_data",
          "data": {
            "text/plain": [
              "<IPython.core.display.Javascript object>"
            ],
            "application/javascript": [
              "window[\"685eb502-cf37-11ec-a82b-0242ac1c0002\"] = document.querySelector(\"#id4-0-0\");\n",
              "//# sourceURL=js_7bdc779fe6"
            ]
          },
          "metadata": {}
        },
        {
          "output_type": "display_data",
          "data": {
            "text/plain": [
              "<IPython.core.display.Javascript object>"
            ],
            "application/javascript": [
              "window[\"685f2226-cf37-11ec-a82b-0242ac1c0002\"] = google.colab.output.setActiveOutputArea(window[\"685eb502-cf37-11ec-a82b-0242ac1c0002\"]);\n",
              "//# sourceURL=js_5ba9737667"
            ]
          },
          "metadata": {}
        },
        {
          "output_type": "display_data",
          "data": {
            "text/plain": [
              "<IPython.core.display.Javascript object>"
            ],
            "application/javascript": [
              "window[\"68779716-cf37-11ec-a82b-0242ac1c0002\"] = google.colab.output.setActiveOutputArea(window[\"685e4356-cf37-11ec-a82b-0242ac1c0002\"]);\n",
              "//# sourceURL=js_0e19bfd97b"
            ]
          },
          "metadata": {}
        },
        {
          "output_type": "stream",
          "name": "stdout",
          "text": [
            "Timesteps are: 57\n",
            "State is: [[0.  0.  0.  0.  0.5]\n",
            " [0.  0.  0.  0.  0. ]\n",
            " [1.  0.  0.  0.  0. ]\n",
            " [0.  0.  0.  0.  0. ]\n",
            " [0.  0.  0.  0.  0. ]]\n",
            "Reward is: 0\n",
            "GridWorld Environment: None\n",
            "Reward 0\n",
            "Agent's action is  0\n"
          ]
        },
        {
          "output_type": "display_data",
          "data": {
            "text/plain": [
              "<Figure size 432x288 with 1 Axes>"
            ],
            "image/png": "[encoded data removed]"
          },
          "metadata": {
            "needs_background": "light"
          }
        },
        {
          "output_type": "display_data",
          "data": {
            "text/plain": [
              "<IPython.core.display.Javascript object>"
            ],
            "application/javascript": [
              "window[\"69264b4e-cf37-11ec-a82b-0242ac1c0002\"] = google.colab.output.getActiveOutputArea();\n",
              "//# sourceURL=js_413f3ce261"
            ]
          },
          "metadata": {}
        },
        {
          "output_type": "display_data",
          "data": {
            "text/plain": [
              "<IPython.core.display.Javascript object>"
            ],
            "application/javascript": [
              "window[\"6926bfe8-cf37-11ec-a82b-0242ac1c0002\"] = document.querySelector(\"#id4-0-0\");\n",
              "//# sourceURL=js_7448e1afdb"
            ]
          },
          "metadata": {}
        },
        {
          "output_type": "display_data",
          "data": {
            "text/plain": [
              "<IPython.core.display.Javascript object>"
            ],
            "application/javascript": [
              "window[\"6927152e-cf37-11ec-a82b-0242ac1c0002\"] = google.colab.output.setActiveOutputArea(window[\"6926bfe8-cf37-11ec-a82b-0242ac1c0002\"]);\n",
              "//# sourceURL=js_81be89a9ce"
            ]
          },
          "metadata": {}
        },
        {
          "output_type": "display_data",
          "data": {
            "text/plain": [
              "<IPython.core.display.Javascript object>"
            ],
            "application/javascript": [
              "window[\"6941153c-cf37-11ec-a82b-0242ac1c0002\"] = google.colab.output.setActiveOutputArea(window[\"69264b4e-cf37-11ec-a82b-0242ac1c0002\"]);\n",
              "//# sourceURL=js_b6981fe112"
            ]
          },
          "metadata": {}
        },
        {
          "output_type": "stream",
          "name": "stdout",
          "text": [
            "Timesteps are: 58\n",
            "State is: [[0.  0.  0.  0.  0.5]\n",
            " [1.  0.  0.  0.  0. ]\n",
            " [0.  0.  0.  0.  0. ]\n",
            " [0.  0.  0.  0.  0. ]\n",
            " [0.  0.  0.  0.  0. ]]\n",
            "Reward is: 0\n",
            "GridWorld Environment: None\n",
            "Reward 0\n",
            "Agent's action is  1\n"
          ]
        },
        {
          "output_type": "display_data",
          "data": {
            "text/plain": [
              "<Figure size 432x288 with 1 Axes>"
            ],
            "image/png": "[encoded data removed]"
          },
          "metadata": {
            "needs_background": "light"
          }
        },
        {
          "output_type": "display_data",
          "data": {
            "text/plain": [
              "<IPython.core.display.Javascript object>"
            ],
            "application/javascript": [
              "window[\"69efba1a-cf37-11ec-a82b-0242ac1c0002\"] = google.colab.output.getActiveOutputArea();\n",
              "//# sourceURL=js_b4b0d19795"
            ]
          },
          "metadata": {}
        },
        {
          "output_type": "display_data",
          "data": {
            "text/plain": [
              "<IPython.core.display.Javascript object>"
            ],
            "application/javascript": [
              "window[\"69f021a8-cf37-11ec-a82b-0242ac1c0002\"] = document.querySelector(\"#id4-0-0\");\n",
              "//# sourceURL=js_aef5de9a81"
            ]
          },
          "metadata": {}
        },
        {
          "output_type": "display_data",
          "data": {
            "text/plain": [
              "<IPython.core.display.Javascript object>"
            ],
            "application/javascript": [
              "window[\"69f0b10e-cf37-11ec-a82b-0242ac1c0002\"] = google.colab.output.setActiveOutputArea(window[\"69f021a8-cf37-11ec-a82b-0242ac1c0002\"]);\n",
              "//# sourceURL=js_655f62ef3c"
            ]
          },
          "metadata": {}
        },
        {
          "output_type": "display_data",
          "data": {
            "text/plain": [
              "<IPython.core.display.Javascript object>"
            ],
            "application/javascript": [
              "window[\"6a119f9a-cf37-11ec-a82b-0242ac1c0002\"] = google.colab.output.setActiveOutputArea(window[\"69efba1a-cf37-11ec-a82b-0242ac1c0002\"]);\n",
              "//# sourceURL=js_6ebf1611c3"
            ]
          },
          "metadata": {}
        },
        {
          "output_type": "stream",
          "name": "stdout",
          "text": [
            "positive battery 5\n",
            "Timesteps are: 59\n",
            "State is: [[1.  0.  0.  0.  0.5]\n",
            " [0.  0.  0.  0.  0. ]\n",
            " [0.  0.  0.  0.  0. ]\n",
            " [0.  0.  0.  0.  0. ]\n",
            " [0.  0.  0.  0.  0. ]]\n",
            "Reward is: 5\n",
            "GridWorld Environment: None\n",
            "Reward 5\n",
            "Agent's action is  1\n"
          ]
        },
        {
          "output_type": "display_data",
          "data": {
            "text/plain": [
              "<Figure size 432x288 with 1 Axes>"
            ],
            "image/png": "[encoded data removed]"
          },
          "metadata": {
            "needs_background": "light"
          }
        },
        {
          "output_type": "display_data",
          "data": {
            "text/plain": [
              "<IPython.core.display.Javascript object>"
            ],
            "application/javascript": [
              "window[\"6ac159bc-cf37-11ec-a82b-0242ac1c0002\"] = google.colab.output.getActiveOutputArea();\n",
              "//# sourceURL=js_916850a0ee"
            ]
          },
          "metadata": {}
        },
        {
          "output_type": "display_data",
          "data": {
            "text/plain": [
              "<IPython.core.display.Javascript object>"
            ],
            "application/javascript": [
              "window[\"6ac1ee9a-cf37-11ec-a82b-0242ac1c0002\"] = document.querySelector(\"#id4-0-0\");\n",
              "//# sourceURL=js_b1caf9a5b2"
            ]
          },
          "metadata": {}
        },
        {
          "output_type": "display_data",
          "data": {
            "text/plain": [
              "<IPython.core.display.Javascript object>"
            ],
            "application/javascript": [
              "window[\"6ac275b8-cf37-11ec-a82b-0242ac1c0002\"] = google.colab.output.setActiveOutputArea(window[\"6ac1ee9a-cf37-11ec-a82b-0242ac1c0002\"]);\n",
              "//# sourceURL=js_0dff7cea7c"
            ]
          },
          "metadata": {}
        },
        {
          "output_type": "display_data",
          "data": {
            "text/plain": [
              "<IPython.core.display.Javascript object>"
            ],
            "application/javascript": [
              "window[\"6adb1ed8-cf37-11ec-a82b-0242ac1c0002\"] = google.colab.output.setActiveOutputArea(window[\"6ac159bc-cf37-11ec-a82b-0242ac1c0002\"]);\n",
              "//# sourceURL=js_dba149555f"
            ]
          },
          "metadata": {}
        },
        {
          "output_type": "stream",
          "name": "stdout",
          "text": [
            "Timesteps are: 60\n",
            "State is: [[0.  1.  0.  0.  0.5]\n",
            " [0.  0.  0.  0.  0. ]\n",
            " [0.  0.  0.  0.  0. ]\n",
            " [0.  0.  0.  0.  0. ]\n",
            " [0.  0.  0.  0.  0. ]]\n",
            "Reward is: 0\n",
            "GridWorld Environment: None\n",
            "Reward 0\n",
            "Agent's action is  2\n"
          ]
        },
        {
          "output_type": "display_data",
          "data": {
            "text/plain": [
              "<Figure size 432x288 with 1 Axes>"
            ],
            "image/png": "[encoded data removed]"
          },
          "metadata": {
            "needs_background": "light"
          }
        },
        {
          "output_type": "display_data",
          "data": {
            "text/plain": [
              "<IPython.core.display.Javascript object>"
            ],
            "application/javascript": [
              "window[\"6b899fc6-cf37-11ec-a82b-0242ac1c0002\"] = google.colab.output.getActiveOutputArea();\n",
              "//# sourceURL=js_096905dc73"
            ]
          },
          "metadata": {}
        },
        {
          "output_type": "display_data",
          "data": {
            "text/plain": [
              "<IPython.core.display.Javascript object>"
            ],
            "application/javascript": [
              "window[\"6b8a132a-cf37-11ec-a82b-0242ac1c0002\"] = document.querySelector(\"#id4-0-0\");\n",
              "//# sourceURL=js_2ce87909c1"
            ]
          },
          "metadata": {}
        },
        {
          "output_type": "display_data",
          "data": {
            "text/plain": [
              "<IPython.core.display.Javascript object>"
            ],
            "application/javascript": [
              "window[\"6b8a7072-cf37-11ec-a82b-0242ac1c0002\"] = google.colab.output.setActiveOutputArea(window[\"6b8a132a-cf37-11ec-a82b-0242ac1c0002\"]);\n",
              "//# sourceURL=js_0cfbf41888"
            ]
          },
          "metadata": {}
        },
        {
          "output_type": "display_data",
          "data": {
            "text/plain": [
              "<IPython.core.display.Javascript object>"
            ],
            "application/javascript": [
              "window[\"6ba62c7c-cf37-11ec-a82b-0242ac1c0002\"] = google.colab.output.setActiveOutputArea(window[\"6b899fc6-cf37-11ec-a82b-0242ac1c0002\"]);\n",
              "//# sourceURL=js_63df15d0e9"
            ]
          },
          "metadata": {}
        },
        {
          "output_type": "stream",
          "name": "stdout",
          "text": [
            "Timesteps are: 61\n",
            "State is: [[0.  1.  0.  0.  0.5]\n",
            " [0.  0.  0.  0.  0. ]\n",
            " [0.  0.  0.  0.  0. ]\n",
            " [0.  0.  0.  0.  0. ]\n",
            " [0.  0.  0.  0.  0. ]]\n",
            "Reward is: 0\n",
            "GridWorld Environment: None\n",
            "Reward 0\n",
            "Agent's action is  1\n"
          ]
        },
        {
          "output_type": "display_data",
          "data": {
            "text/plain": [
              "<Figure size 432x288 with 1 Axes>"
            ],
            "image/png": "[encoded data removed]"
          },
          "metadata": {
            "needs_background": "light"
          }
        },
        {
          "output_type": "display_data",
          "data": {
            "text/plain": [
              "<IPython.core.display.Javascript object>"
            ],
            "application/javascript": [
              "window[\"6c560c00-cf37-11ec-a82b-0242ac1c0002\"] = google.colab.output.getActiveOutputArea();\n",
              "//# sourceURL=js_4682a330ec"
            ]
          },
          "metadata": {}
        },
        {
          "output_type": "display_data",
          "data": {
            "text/plain": [
              "<IPython.core.display.Javascript object>"
            ],
            "application/javascript": [
              "window[\"6c569800-cf37-11ec-a82b-0242ac1c0002\"] = document.querySelector(\"#id4-0-0\");\n",
              "//# sourceURL=js_af3247de53"
            ]
          },
          "metadata": {}
        },
        {
          "output_type": "display_data",
          "data": {
            "text/plain": [
              "<IPython.core.display.Javascript object>"
            ],
            "application/javascript": [
              "window[\"6c56fb88-cf37-11ec-a82b-0242ac1c0002\"] = google.colab.output.setActiveOutputArea(window[\"6c569800-cf37-11ec-a82b-0242ac1c0002\"]);\n",
              "//# sourceURL=js_0c43462c26"
            ]
          },
          "metadata": {}
        },
        {
          "output_type": "display_data",
          "data": {
            "text/plain": [
              "<IPython.core.display.Javascript object>"
            ],
            "application/javascript": [
              "window[\"6c703cec-cf37-11ec-a82b-0242ac1c0002\"] = google.colab.output.setActiveOutputArea(window[\"6c560c00-cf37-11ec-a82b-0242ac1c0002\"]);\n",
              "//# sourceURL=js_b58ac6a5ac"
            ]
          },
          "metadata": {}
        },
        {
          "output_type": "stream",
          "name": "stdout",
          "text": [
            "Timesteps are: 62\n",
            "State is: [[0.  0.  0.  0.  0.5]\n",
            " [0.  1.  0.  0.  0. ]\n",
            " [0.  0.  0.  0.  0. ]\n",
            " [0.  0.  0.  0.  0. ]\n",
            " [0.  0.  0.  0.  0. ]]\n",
            "Reward is: 0\n",
            "GridWorld Environment: None\n",
            "Reward 0\n",
            "Agent's action is  0\n"
          ]
        },
        {
          "output_type": "display_data",
          "data": {
            "text/plain": [
              "<Figure size 432x288 with 1 Axes>"
            ],
            "image/png": "[encoded data removed]"
          },
          "metadata": {
            "needs_background": "light"
          }
        },
        {
          "output_type": "display_data",
          "data": {
            "text/plain": [
              "<IPython.core.display.Javascript object>"
            ],
            "application/javascript": [
              "window[\"6d1f3396-cf37-11ec-a82b-0242ac1c0002\"] = google.colab.output.getActiveOutputArea();\n",
              "//# sourceURL=js_3ded4ae649"
            ]
          },
          "metadata": {}
        },
        {
          "output_type": "display_data",
          "data": {
            "text/plain": [
              "<IPython.core.display.Javascript object>"
            ],
            "application/javascript": [
              "window[\"6d200d0c-cf37-11ec-a82b-0242ac1c0002\"] = document.querySelector(\"#id4-0-0\");\n",
              "//# sourceURL=js_3d8b14295f"
            ]
          },
          "metadata": {}
        },
        {
          "output_type": "display_data",
          "data": {
            "text/plain": [
              "<IPython.core.display.Javascript object>"
            ],
            "application/javascript": [
              "window[\"6d213218-cf37-11ec-a82b-0242ac1c0002\"] = google.colab.output.setActiveOutputArea(window[\"6d200d0c-cf37-11ec-a82b-0242ac1c0002\"]);\n",
              "//# sourceURL=js_282c582bec"
            ]
          },
          "metadata": {}
        },
        {
          "output_type": "display_data",
          "data": {
            "text/plain": [
              "<IPython.core.display.Javascript object>"
            ],
            "application/javascript": [
              "window[\"6d3bd0d2-cf37-11ec-a82b-0242ac1c0002\"] = google.colab.output.setActiveOutputArea(window[\"6d1f3396-cf37-11ec-a82b-0242ac1c0002\"]);\n",
              "//# sourceURL=js_cc359eb5c3"
            ]
          },
          "metadata": {}
        },
        {
          "output_type": "stream",
          "name": "stdout",
          "text": [
            "Timesteps are: 63\n",
            "State is: [[0.  0.  0.  0.  0.5]\n",
            " [0.  0.  0.  0.  0. ]\n",
            " [0.  1.  0.  0.  0. ]\n",
            " [0.  0.  0.  0.  0. ]\n",
            " [0.  0.  0.  0.  0. ]]\n",
            "Reward is: 0\n",
            "GridWorld Environment: None\n",
            "Reward 0\n",
            "Agent's action is  0\n"
          ]
        },
        {
          "output_type": "display_data",
          "data": {
            "text/plain": [
              "<Figure size 432x288 with 1 Axes>"
            ],
            "image/png": "[encoded data removed]"
          },
          "metadata": {
            "needs_background": "light"
          }
        },
        {
          "output_type": "display_data",
          "data": {
            "text/plain": [
              "<IPython.core.display.Javascript object>"
            ],
            "application/javascript": [
              "window[\"6dec2d06-cf37-11ec-a82b-0242ac1c0002\"] = google.colab.output.getActiveOutputArea();\n",
              "//# sourceURL=js_60206973d3"
            ]
          },
          "metadata": {}
        },
        {
          "output_type": "display_data",
          "data": {
            "text/plain": [
              "<IPython.core.display.Javascript object>"
            ],
            "application/javascript": [
              "window[\"6dec9c6e-cf37-11ec-a82b-0242ac1c0002\"] = document.querySelector(\"#id4-0-0\");\n",
              "//# sourceURL=js_07fda9962c"
            ]
          },
          "metadata": {}
        },
        {
          "output_type": "display_data",
          "data": {
            "text/plain": [
              "<IPython.core.display.Javascript object>"
            ],
            "application/javascript": [
              "window[\"6decf614-cf37-11ec-a82b-0242ac1c0002\"] = google.colab.output.setActiveOutputArea(window[\"6dec9c6e-cf37-11ec-a82b-0242ac1c0002\"]);\n",
              "//# sourceURL=js_9a77baf554"
            ]
          },
          "metadata": {}
        },
        {
          "output_type": "display_data",
          "data": {
            "text/plain": [
              "<IPython.core.display.Javascript object>"
            ],
            "application/javascript": [
              "window[\"6e09b998-cf37-11ec-a82b-0242ac1c0002\"] = google.colab.output.setActiveOutputArea(window[\"6dec2d06-cf37-11ec-a82b-0242ac1c0002\"]);\n",
              "//# sourceURL=js_752dc46480"
            ]
          },
          "metadata": {}
        },
        {
          "output_type": "stream",
          "name": "stdout",
          "text": [
            "Timesteps are: 64\n",
            "State is: [[0.  0.  0.  0.  0.5]\n",
            " [0.  1.  0.  0.  0. ]\n",
            " [0.  0.  0.  0.  0. ]\n",
            " [0.  0.  0.  0.  0. ]\n",
            " [0.  0.  0.  0.  0. ]]\n",
            "Reward is: 0\n",
            "GridWorld Environment: None\n",
            "Reward 0\n",
            "Agent's action is  1\n"
          ]
        },
        {
          "output_type": "display_data",
          "data": {
            "text/plain": [
              "<Figure size 432x288 with 1 Axes>"
            ],
            "image/png": "[encoded data removed]"
          },
          "metadata": {
            "needs_background": "light"
          }
        },
        {
          "output_type": "display_data",
          "data": {
            "text/plain": [
              "<IPython.core.display.Javascript object>"
            ],
            "application/javascript": [
              "window[\"6ec76cb8-cf37-11ec-a82b-0242ac1c0002\"] = google.colab.output.getActiveOutputArea();\n",
              "//# sourceURL=js_661d7bf2e7"
            ]
          },
          "metadata": {}
        },
        {
          "output_type": "display_data",
          "data": {
            "text/plain": [
              "<IPython.core.display.Javascript object>"
            ],
            "application/javascript": [
              "window[\"6ec7cf78-cf37-11ec-a82b-0242ac1c0002\"] = document.querySelector(\"#id4-0-0\");\n",
              "//# sourceURL=js_875c4f845b"
            ]
          },
          "metadata": {}
        },
        {
          "output_type": "display_data",
          "data": {
            "text/plain": [
              "<IPython.core.display.Javascript object>"
            ],
            "application/javascript": [
              "window[\"6ec837f6-cf37-11ec-a82b-0242ac1c0002\"] = google.colab.output.setActiveOutputArea(window[\"6ec7cf78-cf37-11ec-a82b-0242ac1c0002\"]);\n",
              "//# sourceURL=js_0344d68a4a"
            ]
          },
          "metadata": {}
        },
        {
          "output_type": "display_data",
          "data": {
            "text/plain": [
              "<IPython.core.display.Javascript object>"
            ],
            "application/javascript": [
              "window[\"6ee2556e-cf37-11ec-a82b-0242ac1c0002\"] = google.colab.output.setActiveOutputArea(window[\"6ec76cb8-cf37-11ec-a82b-0242ac1c0002\"]);\n",
              "//# sourceURL=js_fe5f92fd28"
            ]
          },
          "metadata": {}
        },
        {
          "output_type": "stream",
          "name": "stdout",
          "text": [
            "Timesteps are: 65\n",
            "State is: [[0.  0.  0.  0.  0.5]\n",
            " [1.  0.  0.  0.  0. ]\n",
            " [0.  0.  0.  0.  0. ]\n",
            " [0.  0.  0.  0.  0. ]\n",
            " [0.  0.  0.  0.  0. ]]\n",
            "Reward is: 0\n",
            "GridWorld Environment: None\n",
            "Reward 0\n",
            "Agent's action is  3\n"
          ]
        },
        {
          "output_type": "display_data",
          "data": {
            "text/plain": [
              "<Figure size 432x288 with 1 Axes>"
            ],
            "image/png": "[encoded data removed]"
          },
          "metadata": {
            "needs_background": "light"
          }
        },
        {
          "output_type": "display_data",
          "data": {
            "text/plain": [
              "<IPython.core.display.Javascript object>"
            ],
            "application/javascript": [
              "window[\"6f934a04-cf37-11ec-a82b-0242ac1c0002\"] = google.colab.output.getActiveOutputArea();\n",
              "//# sourceURL=js_9c0de6982a"
            ]
          },
          "metadata": {}
        },
        {
          "output_type": "display_data",
          "data": {
            "text/plain": [
              "<IPython.core.display.Javascript object>"
            ],
            "application/javascript": [
              "window[\"6f94d996-cf37-11ec-a82b-0242ac1c0002\"] = document.querySelector(\"#id4-0-0\");\n",
              "//# sourceURL=js_ca95e64a56"
            ]
          },
          "metadata": {}
        },
        {
          "output_type": "display_data",
          "data": {
            "text/plain": [
              "<IPython.core.display.Javascript object>"
            ],
            "application/javascript": [
              "window[\"6f9549c6-cf37-11ec-a82b-0242ac1c0002\"] = google.colab.output.setActiveOutputArea(window[\"6f94d996-cf37-11ec-a82b-0242ac1c0002\"]);\n",
              "//# sourceURL=js_dc5c886bcd"
            ]
          },
          "metadata": {}
        },
        {
          "output_type": "display_data",
          "data": {
            "text/plain": [
              "<IPython.core.display.Javascript object>"
            ],
            "application/javascript": [
              "window[\"6fb16c46-cf37-11ec-a82b-0242ac1c0002\"] = google.colab.output.setActiveOutputArea(window[\"6f934a04-cf37-11ec-a82b-0242ac1c0002\"]);\n",
              "//# sourceURL=js_11a5197dae"
            ]
          },
          "metadata": {}
        },
        {
          "output_type": "stream",
          "name": "stdout",
          "text": [
            "Timesteps are: 66\n",
            "State is: [[0.  0.  0.  0.  0.5]\n",
            " [0.  0.  0.  0.  0. ]\n",
            " [1.  0.  0.  0.  0. ]\n",
            " [0.  0.  0.  0.  0. ]\n",
            " [0.  0.  0.  0.  0. ]]\n",
            "Reward is: 0\n",
            "GridWorld Environment: None\n",
            "Reward 0\n",
            "Agent's action is  0\n"
          ]
        },
        {
          "output_type": "display_data",
          "data": {
            "text/plain": [
              "<Figure size 432x288 with 1 Axes>"
            ],
            "image/png": "[encoded data removed]"
          },
          "metadata": {
            "needs_background": "light"
          }
        },
        {
          "output_type": "display_data",
          "data": {
            "text/plain": [
              "<IPython.core.display.Javascript object>"
            ],
            "application/javascript": [
              "window[\"706351d6-cf37-11ec-a82b-0242ac1c0002\"] = google.colab.output.getActiveOutputArea();\n",
              "//# sourceURL=js_9609574a3a"
            ]
          },
          "metadata": {}
        },
        {
          "output_type": "display_data",
          "data": {
            "text/plain": [
              "<IPython.core.display.Javascript object>"
            ],
            "application/javascript": [
              "window[\"7064106c-cf37-11ec-a82b-0242ac1c0002\"] = document.querySelector(\"#id4-0-0\");\n",
              "//# sourceURL=js_476bf01c4b"
            ]
          },
          "metadata": {}
        },
        {
          "output_type": "display_data",
          "data": {
            "text/plain": [
              "<IPython.core.display.Javascript object>"
            ],
            "application/javascript": [
              "window[\"7064780e-cf37-11ec-a82b-0242ac1c0002\"] = google.colab.output.setActiveOutputArea(window[\"7064106c-cf37-11ec-a82b-0242ac1c0002\"]);\n",
              "//# sourceURL=js_58be572e2b"
            ]
          },
          "metadata": {}
        },
        {
          "output_type": "display_data",
          "data": {
            "text/plain": [
              "<IPython.core.display.Javascript object>"
            ],
            "application/javascript": [
              "window[\"70810280-cf37-11ec-a82b-0242ac1c0002\"] = google.colab.output.setActiveOutputArea(window[\"706351d6-cf37-11ec-a82b-0242ac1c0002\"]);\n",
              "//# sourceURL=js_37a7ec764b"
            ]
          },
          "metadata": {}
        },
        {
          "output_type": "stream",
          "name": "stdout",
          "text": [
            "Timesteps are: 67\n",
            "State is: [[0.  0.  0.  0.  0.5]\n",
            " [1.  0.  0.  0.  0. ]\n",
            " [0.  0.  0.  0.  0. ]\n",
            " [0.  0.  0.  0.  0. ]\n",
            " [0.  0.  0.  0.  0. ]]\n",
            "Reward is: 0\n",
            "GridWorld Environment: None\n",
            "Reward 0\n",
            "Agent's action is  1\n"
          ]
        },
        {
          "output_type": "display_data",
          "data": {
            "text/plain": [
              "<Figure size 432x288 with 1 Axes>"
            ],
            "image/png": "[encoded data removed]"
          },
          "metadata": {
            "needs_background": "light"
          }
        },
        {
          "output_type": "display_data",
          "data": {
            "text/plain": [
              "<IPython.core.display.Javascript object>"
            ],
            "application/javascript": [
              "window[\"71310342-cf37-11ec-a82b-0242ac1c0002\"] = google.colab.output.getActiveOutputArea();\n",
              "//# sourceURL=js_4d6c845d5a"
            ]
          },
          "metadata": {}
        },
        {
          "output_type": "display_data",
          "data": {
            "text/plain": [
              "<IPython.core.display.Javascript object>"
            ],
            "application/javascript": [
              "window[\"71315e1e-cf37-11ec-a82b-0242ac1c0002\"] = document.querySelector(\"#id4-0-0\");\n",
              "//# sourceURL=js_26c17a27dc"
            ]
          },
          "metadata": {}
        },
        {
          "output_type": "display_data",
          "data": {
            "text/plain": [
              "<IPython.core.display.Javascript object>"
            ],
            "application/javascript": [
              "window[\"7131b332-cf37-11ec-a82b-0242ac1c0002\"] = google.colab.output.setActiveOutputArea(window[\"71315e1e-cf37-11ec-a82b-0242ac1c0002\"]);\n",
              "//# sourceURL=js_e45b58a609"
            ]
          },
          "metadata": {}
        },
        {
          "output_type": "display_data",
          "data": {
            "text/plain": [
              "<IPython.core.display.Javascript object>"
            ],
            "application/javascript": [
              "window[\"714b3c26-cf37-11ec-a82b-0242ac1c0002\"] = google.colab.output.setActiveOutputArea(window[\"71310342-cf37-11ec-a82b-0242ac1c0002\"]);\n",
              "//# sourceURL=js_de4d6e9a6e"
            ]
          },
          "metadata": {}
        },
        {
          "output_type": "stream",
          "name": "stdout",
          "text": [
            "Timesteps are: 68\n",
            "State is: [[0.  0.  0.  0.  0.5]\n",
            " [1.  0.  0.  0.  0. ]\n",
            " [0.  0.  0.  0.  0. ]\n",
            " [0.  0.  0.  0.  0. ]\n",
            " [0.  0.  0.  0.  0. ]]\n",
            "Reward is: 0\n",
            "GridWorld Environment: None\n",
            "Reward 0\n",
            "Agent's action is  3\n"
          ]
        },
        {
          "output_type": "display_data",
          "data": {
            "text/plain": [
              "<Figure size 432x288 with 1 Axes>"
            ],
            "image/png": "[encoded data removed]"
          },
          "metadata": {
            "needs_background": "light"
          }
        },
        {
          "output_type": "display_data",
          "data": {
            "text/plain": [
              "<IPython.core.display.Javascript object>"
            ],
            "application/javascript": [
              "window[\"71fb7316-cf37-11ec-a82b-0242ac1c0002\"] = google.colab.output.getActiveOutputArea();\n",
              "//# sourceURL=js_035edf9888"
            ]
          },
          "metadata": {}
        },
        {
          "output_type": "display_data",
          "data": {
            "text/plain": [
              "<IPython.core.display.Javascript object>"
            ],
            "application/javascript": [
              "window[\"71fbd220-cf37-11ec-a82b-0242ac1c0002\"] = document.querySelector(\"#id4-0-0\");\n",
              "//# sourceURL=js_70336f1b7a"
            ]
          },
          "metadata": {}
        },
        {
          "output_type": "display_data",
          "data": {
            "text/plain": [
              "<IPython.core.display.Javascript object>"
            ],
            "application/javascript": [
              "window[\"71fc2d56-cf37-11ec-a82b-0242ac1c0002\"] = google.colab.output.setActiveOutputArea(window[\"71fbd220-cf37-11ec-a82b-0242ac1c0002\"]);\n",
              "//# sourceURL=js_0729058baf"
            ]
          },
          "metadata": {}
        },
        {
          "output_type": "display_data",
          "data": {
            "text/plain": [
              "<IPython.core.display.Javascript object>"
            ],
            "application/javascript": [
              "window[\"72170a9a-cf37-11ec-a82b-0242ac1c0002\"] = google.colab.output.setActiveOutputArea(window[\"71fb7316-cf37-11ec-a82b-0242ac1c0002\"]);\n",
              "//# sourceURL=js_ace1d45073"
            ]
          },
          "metadata": {}
        },
        {
          "output_type": "stream",
          "name": "stdout",
          "text": [
            "Timesteps are: 69\n",
            "State is: [[0.  0.  0.  0.  0.5]\n",
            " [0.  1.  0.  0.  0. ]\n",
            " [0.  0.  0.  0.  0. ]\n",
            " [0.  0.  0.  0.  0. ]\n",
            " [0.  0.  0.  0.  0. ]]\n",
            "Reward is: 0\n",
            "GridWorld Environment: None\n",
            "Reward 0\n",
            "Agent's action is  2\n"
          ]
        },
        {
          "output_type": "display_data",
          "data": {
            "text/plain": [
              "<Figure size 432x288 with 1 Axes>"
            ],
            "image/png": "[encoded data removed]"
          },
          "metadata": {
            "needs_background": "light"
          }
        },
        {
          "output_type": "display_data",
          "data": {
            "text/plain": [
              "<IPython.core.display.Javascript object>"
            ],
            "application/javascript": [
              "window[\"72c74612-cf37-11ec-a82b-0242ac1c0002\"] = google.colab.output.getActiveOutputArea();\n",
              "//# sourceURL=js_0da8f0b1ca"
            ]
          },
          "metadata": {}
        },
        {
          "output_type": "display_data",
          "data": {
            "text/plain": [
              "<IPython.core.display.Javascript object>"
            ],
            "application/javascript": [
              "window[\"72c7a81e-cf37-11ec-a82b-0242ac1c0002\"] = document.querySelector(\"#id4-0-0\");\n",
              "//# sourceURL=js_dd01daed1f"
            ]
          },
          "metadata": {}
        },
        {
          "output_type": "display_data",
          "data": {
            "text/plain": [
              "<IPython.core.display.Javascript object>"
            ],
            "application/javascript": [
              "window[\"72c86f9c-cf37-11ec-a82b-0242ac1c0002\"] = google.colab.output.setActiveOutputArea(window[\"72c7a81e-cf37-11ec-a82b-0242ac1c0002\"]);\n",
              "//# sourceURL=js_b43da520a9"
            ]
          },
          "metadata": {}
        },
        {
          "output_type": "display_data",
          "data": {
            "text/plain": [
              "<IPython.core.display.Javascript object>"
            ],
            "application/javascript": [
              "window[\"72eda4d8-cf37-11ec-a82b-0242ac1c0002\"] = google.colab.output.setActiveOutputArea(window[\"72c74612-cf37-11ec-a82b-0242ac1c0002\"]);\n",
              "//# sourceURL=js_ed0f962470"
            ]
          },
          "metadata": {}
        },
        {
          "output_type": "stream",
          "name": "stdout",
          "text": [
            "Timesteps are: 70\n",
            "State is: [[0.  0.  0.  0.  0.5]\n",
            " [0.  0.  0.  0.  0. ]\n",
            " [0.  1.  0.  0.  0. ]\n",
            " [0.  0.  0.  0.  0. ]\n",
            " [0.  0.  0.  0.  0. ]]\n",
            "Reward is: 0\n",
            "GridWorld Environment: None\n",
            "Reward 0\n",
            "Agent's action is  0\n"
          ]
        },
        {
          "output_type": "display_data",
          "data": {
            "text/plain": [
              "<Figure size 432x288 with 1 Axes>"
            ],
            "image/png": "[encoded data removed]"
          },
          "metadata": {
            "needs_background": "light"
          }
        },
        {
          "output_type": "display_data",
          "data": {
            "text/plain": [
              "<IPython.core.display.Javascript object>"
            ],
            "application/javascript": [
              "window[\"739dcc3c-cf37-11ec-a82b-0242ac1c0002\"] = google.colab.output.getActiveOutputArea();\n",
              "//# sourceURL=js_05374aa348"
            ]
          },
          "metadata": {}
        },
        {
          "output_type": "display_data",
          "data": {
            "text/plain": [
              "<IPython.core.display.Javascript object>"
            ],
            "application/javascript": [
              "window[\"739e7d8a-cf37-11ec-a82b-0242ac1c0002\"] = document.querySelector(\"#id4-0-0\");\n",
              "//# sourceURL=js_cf285d91e7"
            ]
          },
          "metadata": {}
        },
        {
          "output_type": "display_data",
          "data": {
            "text/plain": [
              "<IPython.core.display.Javascript object>"
            ],
            "application/javascript": [
              "window[\"739edc62-cf37-11ec-a82b-0242ac1c0002\"] = google.colab.output.setActiveOutputArea(window[\"739e7d8a-cf37-11ec-a82b-0242ac1c0002\"]);\n",
              "//# sourceURL=js_e6427aea17"
            ]
          },
          "metadata": {}
        },
        {
          "output_type": "display_data",
          "data": {
            "text/plain": [
              "<IPython.core.display.Javascript object>"
            ],
            "application/javascript": [
              "window[\"73ba7f26-cf37-11ec-a82b-0242ac1c0002\"] = google.colab.output.setActiveOutputArea(window[\"739dcc3c-cf37-11ec-a82b-0242ac1c0002\"]);\n",
              "//# sourceURL=js_898358efc3"
            ]
          },
          "metadata": {}
        },
        {
          "output_type": "stream",
          "name": "stdout",
          "text": [
            "Timesteps are: 71\n",
            "State is: [[0.  0.  0.  0.  0.5]\n",
            " [0.  0.  0.  0.  0. ]\n",
            " [0.  0.  1.  0.  0. ]\n",
            " [0.  0.  0.  0.  0. ]\n",
            " [0.  0.  0.  0.  0. ]]\n",
            "Reward is: 0\n",
            "GridWorld Environment: None\n",
            "Reward 0\n",
            "Agent's action is  2\n"
          ]
        },
        {
          "output_type": "display_data",
          "data": {
            "text/plain": [
              "<Figure size 432x288 with 1 Axes>"
            ],
            "image/png": "[encoded data removed]"
          },
          "metadata": {
            "needs_background": "light"
          }
        },
        {
          "output_type": "display_data",
          "data": {
            "text/plain": [
              "<IPython.core.display.Javascript object>"
            ],
            "application/javascript": [
              "window[\"746caa02-cf37-11ec-a82b-0242ac1c0002\"] = google.colab.output.getActiveOutputArea();\n",
              "//# sourceURL=js_dbe9085b87"
            ]
          },
          "metadata": {}
        },
        {
          "output_type": "display_data",
          "data": {
            "text/plain": [
              "<IPython.core.display.Javascript object>"
            ],
            "application/javascript": [
              "window[\"746d37b0-cf37-11ec-a82b-0242ac1c0002\"] = document.querySelector(\"#id4-0-0\");\n",
              "//# sourceURL=js_954ed93ce0"
            ]
          },
          "metadata": {}
        },
        {
          "output_type": "display_data",
          "data": {
            "text/plain": [
              "<IPython.core.display.Javascript object>"
            ],
            "application/javascript": [
              "window[\"746ddb5c-cf37-11ec-a82b-0242ac1c0002\"] = google.colab.output.setActiveOutputArea(window[\"746d37b0-cf37-11ec-a82b-0242ac1c0002\"]);\n",
              "//# sourceURL=js_17ff51e21d"
            ]
          },
          "metadata": {}
        },
        {
          "output_type": "display_data",
          "data": {
            "text/plain": [
              "<IPython.core.display.Javascript object>"
            ],
            "application/javascript": [
              "window[\"748afd86-cf37-11ec-a82b-0242ac1c0002\"] = google.colab.output.setActiveOutputArea(window[\"746caa02-cf37-11ec-a82b-0242ac1c0002\"]);\n",
              "//# sourceURL=js_544f6ccc92"
            ]
          },
          "metadata": {}
        },
        {
          "output_type": "stream",
          "name": "stdout",
          "text": [
            "Timesteps are: 72\n",
            "State is: [[0.  0.  0.  0.  0.5]\n",
            " [0.  0.  0.  0.  0. ]\n",
            " [0.  0.  0.  1.  0. ]\n",
            " [0.  0.  0.  0.  0. ]\n",
            " [0.  0.  0.  0.  0. ]]\n",
            "Reward is: 0\n",
            "GridWorld Environment: None\n",
            "Reward 0\n",
            "Agent's action is  2\n"
          ]
        },
        {
          "output_type": "display_data",
          "data": {
            "text/plain": [
              "<Figure size 432x288 with 1 Axes>"
            ],
            "image/png": "[encoded data removed]"
          },
          "metadata": {
            "needs_background": "light"
          }
        },
        {
          "output_type": "display_data",
          "data": {
            "text/plain": [
              "<IPython.core.display.Javascript object>"
            ],
            "application/javascript": [
              "window[\"753d2100-cf37-11ec-a82b-0242ac1c0002\"] = google.colab.output.getActiveOutputArea();\n",
              "//# sourceURL=js_98ff48ac18"
            ]
          },
          "metadata": {}
        },
        {
          "output_type": "display_data",
          "data": {
            "text/plain": [
              "<IPython.core.display.Javascript object>"
            ],
            "application/javascript": [
              "window[\"753dda50-cf37-11ec-a82b-0242ac1c0002\"] = document.querySelector(\"#id4-0-0\");\n",
              "//# sourceURL=js_6b23d209d8"
            ]
          },
          "metadata": {}
        },
        {
          "output_type": "display_data",
          "data": {
            "text/plain": [
              "<IPython.core.display.Javascript object>"
            ],
            "application/javascript": [
              "window[\"753e80a4-cf37-11ec-a82b-0242ac1c0002\"] = google.colab.output.setActiveOutputArea(window[\"753dda50-cf37-11ec-a82b-0242ac1c0002\"]);\n",
              "//# sourceURL=js_c66c0fcd87"
            ]
          },
          "metadata": {}
        },
        {
          "output_type": "display_data",
          "data": {
            "text/plain": [
              "<IPython.core.display.Javascript object>"
            ],
            "application/javascript": [
              "window[\"755ce44a-cf37-11ec-a82b-0242ac1c0002\"] = google.colab.output.setActiveOutputArea(window[\"753d2100-cf37-11ec-a82b-0242ac1c0002\"]);\n",
              "//# sourceURL=js_d0bd8511ff"
            ]
          },
          "metadata": {}
        },
        {
          "output_type": "stream",
          "name": "stdout",
          "text": [
            "Timesteps are: 73\n",
            "State is: [[0.  0.  0.  0.  0.5]\n",
            " [0.  0.  0.  0.  0. ]\n",
            " [0.  0.  1.  0.  0. ]\n",
            " [0.  0.  0.  0.  0. ]\n",
            " [0.  0.  0.  0.  0. ]]\n",
            "Reward is: 0\n",
            "GridWorld Environment: None\n",
            "Reward 0\n",
            "Agent's action is  3\n"
          ]
        },
        {
          "output_type": "display_data",
          "data": {
            "text/plain": [
              "<Figure size 432x288 with 1 Axes>"
            ],
            "image/png": "[encoded data removed]"
          },
          "metadata": {
            "needs_background": "light"
          }
        },
        {
          "output_type": "display_data",
          "data": {
            "text/plain": [
              "<IPython.core.display.Javascript object>"
            ],
            "application/javascript": [
              "window[\"760f9e64-cf37-11ec-a82b-0242ac1c0002\"] = google.colab.output.getActiveOutputArea();\n",
              "//# sourceURL=js_a7481cce10"
            ]
          },
          "metadata": {}
        },
        {
          "output_type": "display_data",
          "data": {
            "text/plain": [
              "<IPython.core.display.Javascript object>"
            ],
            "application/javascript": [
              "window[\"76104846-cf37-11ec-a82b-0242ac1c0002\"] = document.querySelector(\"#id4-0-0\");\n",
              "//# sourceURL=js_4bb72ec3a6"
            ]
          },
          "metadata": {}
        },
        {
          "output_type": "display_data",
          "data": {
            "text/plain": [
              "<IPython.core.display.Javascript object>"
            ],
            "application/javascript": [
              "window[\"7610e6e8-cf37-11ec-a82b-0242ac1c0002\"] = google.colab.output.setActiveOutputArea(window[\"76104846-cf37-11ec-a82b-0242ac1c0002\"]);\n",
              "//# sourceURL=js_83d45b3146"
            ]
          },
          "metadata": {}
        },
        {
          "output_type": "display_data",
          "data": {
            "text/plain": [
              "<IPython.core.display.Javascript object>"
            ],
            "application/javascript": [
              "window[\"762c50ae-cf37-11ec-a82b-0242ac1c0002\"] = google.colab.output.setActiveOutputArea(window[\"760f9e64-cf37-11ec-a82b-0242ac1c0002\"]);\n",
              "//# sourceURL=js_b517b1d8d0"
            ]
          },
          "metadata": {}
        },
        {
          "output_type": "stream",
          "name": "stdout",
          "text": [
            "Timesteps are: 74\n",
            "State is: [[0.  0.  0.  0.  0.5]\n",
            " [0.  0.  0.  0.  0. ]\n",
            " [0.  0.  0.  1.  0. ]\n",
            " [0.  0.  0.  0.  0. ]\n",
            " [0.  0.  0.  0.  0. ]]\n",
            "Reward is: 0\n",
            "GridWorld Environment: None\n",
            "Reward 0\n",
            "Agent's action is  2\n"
          ]
        },
        {
          "output_type": "display_data",
          "data": {
            "text/plain": [
              "<Figure size 432x288 with 1 Axes>"
            ],
            "image/png": "[encoded data removed]"
          },
          "metadata": {
            "needs_background": "light"
          }
        },
        {
          "output_type": "display_data",
          "data": {
            "text/plain": [
              "<IPython.core.display.Javascript object>"
            ],
            "application/javascript": [
              "window[\"76de25f4-cf37-11ec-a82b-0242ac1c0002\"] = google.colab.output.getActiveOutputArea();\n",
              "//# sourceURL=js_3749d490ff"
            ]
          },
          "metadata": {}
        },
        {
          "output_type": "display_data",
          "data": {
            "text/plain": [
              "<IPython.core.display.Javascript object>"
            ],
            "application/javascript": [
              "window[\"76de7b80-cf37-11ec-a82b-0242ac1c0002\"] = document.querySelector(\"#id4-0-0\");\n",
              "//# sourceURL=js_3ce69a8a1b"
            ]
          },
          "metadata": {}
        },
        {
          "output_type": "display_data",
          "data": {
            "text/plain": [
              "<IPython.core.display.Javascript object>"
            ],
            "application/javascript": [
              "window[\"76ded300-cf37-11ec-a82b-0242ac1c0002\"] = google.colab.output.setActiveOutputArea(window[\"76de7b80-cf37-11ec-a82b-0242ac1c0002\"]);\n",
              "//# sourceURL=js_8025740368"
            ]
          },
          "metadata": {}
        },
        {
          "output_type": "display_data",
          "data": {
            "text/plain": [
              "<IPython.core.display.Javascript object>"
            ],
            "application/javascript": [
              "window[\"76fb1592-cf37-11ec-a82b-0242ac1c0002\"] = google.colab.output.setActiveOutputArea(window[\"76de25f4-cf37-11ec-a82b-0242ac1c0002\"]);\n",
              "//# sourceURL=js_ad51eb5b31"
            ]
          },
          "metadata": {}
        },
        {
          "output_type": "stream",
          "name": "stdout",
          "text": [
            "Timesteps are: 75\n",
            "State is: [[0.  0.  0.  0.  0.5]\n",
            " [0.  0.  0.  0.  0. ]\n",
            " [0.  0.  1.  0.  0. ]\n",
            " [0.  0.  0.  0.  0. ]\n",
            " [0.  0.  0.  0.  0. ]]\n",
            "Reward is: 0\n",
            "GridWorld Environment: None\n",
            "Reward 0\n",
            "Agent's action is  3\n"
          ]
        },
        {
          "output_type": "display_data",
          "data": {
            "text/plain": [
              "<Figure size 432x288 with 1 Axes>"
            ],
            "image/png": "[encoded data removed]"
          },
          "metadata": {
            "needs_background": "light"
          }
        },
        {
          "output_type": "display_data",
          "data": {
            "text/plain": [
              "<IPython.core.display.Javascript object>"
            ],
            "application/javascript": [
              "window[\"77b30b98-cf37-11ec-a82b-0242ac1c0002\"] = google.colab.output.getActiveOutputArea();\n",
              "//# sourceURL=js_801a7f0c8c"
            ]
          },
          "metadata": {}
        },
        {
          "output_type": "display_data",
          "data": {
            "text/plain": [
              "<IPython.core.display.Javascript object>"
            ],
            "application/javascript": [
              "window[\"77b367fa-cf37-11ec-a82b-0242ac1c0002\"] = document.querySelector(\"#id4-0-0\");\n",
              "//# sourceURL=js_2bf5e768a8"
            ]
          },
          "metadata": {}
        },
        {
          "output_type": "display_data",
          "data": {
            "text/plain": [
              "<IPython.core.display.Javascript object>"
            ],
            "application/javascript": [
              "window[\"77b3bbe2-cf37-11ec-a82b-0242ac1c0002\"] = google.colab.output.setActiveOutputArea(window[\"77b367fa-cf37-11ec-a82b-0242ac1c0002\"]);\n",
              "//# sourceURL=js_c473feaabb"
            ]
          },
          "metadata": {}
        },
        {
          "output_type": "display_data",
          "data": {
            "text/plain": [
              "<IPython.core.display.Javascript object>"
            ],
            "application/javascript": [
              "window[\"77cf6b26-cf37-11ec-a82b-0242ac1c0002\"] = google.colab.output.setActiveOutputArea(window[\"77b30b98-cf37-11ec-a82b-0242ac1c0002\"]);\n",
              "//# sourceURL=js_9b14e9ff27"
            ]
          },
          "metadata": {}
        },
        {
          "output_type": "stream",
          "name": "stdout",
          "text": [
            "Timesteps are: 76\n",
            "State is: [[0.  0.  0.  0.  0.5]\n",
            " [0.  0.  0.  0.  0. ]\n",
            " [0.  0.  0.  0.  0. ]\n",
            " [0.  0.  1.  0.  0. ]\n",
            " [0.  0.  0.  0.  0. ]]\n",
            "Reward is: 0\n",
            "GridWorld Environment: None\n",
            "Reward 0\n",
            "Agent's action is  0\n"
          ]
        },
        {
          "output_type": "display_data",
          "data": {
            "text/plain": [
              "<Figure size 432x288 with 1 Axes>"
            ],
            "image/png": "[encoded data removed]"
          },
          "metadata": {
            "needs_background": "light"
          }
        },
        {
          "output_type": "display_data",
          "data": {
            "text/plain": [
              "<IPython.core.display.Javascript object>"
            ],
            "application/javascript": [
              "window[\"787e3a48-cf37-11ec-a82b-0242ac1c0002\"] = google.colab.output.getActiveOutputArea();\n",
              "//# sourceURL=js_5940894166"
            ]
          },
          "metadata": {}
        },
        {
          "output_type": "display_data",
          "data": {
            "text/plain": [
              "<IPython.core.display.Javascript object>"
            ],
            "application/javascript": [
              "window[\"787ea5be-cf37-11ec-a82b-0242ac1c0002\"] = document.querySelector(\"#id4-0-0\");\n",
              "//# sourceURL=js_7b963d50f5"
            ]
          },
          "metadata": {}
        },
        {
          "output_type": "display_data",
          "data": {
            "text/plain": [
              "<IPython.core.display.Javascript object>"
            ],
            "application/javascript": [
              "window[\"787f0a5e-cf37-11ec-a82b-0242ac1c0002\"] = google.colab.output.setActiveOutputArea(window[\"787ea5be-cf37-11ec-a82b-0242ac1c0002\"]);\n",
              "//# sourceURL=js_7da8cee113"
            ]
          },
          "metadata": {}
        },
        {
          "output_type": "display_data",
          "data": {
            "text/plain": [
              "<IPython.core.display.Javascript object>"
            ],
            "application/javascript": [
              "window[\"7898b990-cf37-11ec-a82b-0242ac1c0002\"] = google.colab.output.setActiveOutputArea(window[\"787e3a48-cf37-11ec-a82b-0242ac1c0002\"]);\n",
              "//# sourceURL=js_d1ffe98fdb"
            ]
          },
          "metadata": {}
        },
        {
          "output_type": "stream",
          "name": "stdout",
          "text": [
            "Timesteps are: 77\n",
            "State is: [[0.  0.  0.  0.  0.5]\n",
            " [0.  0.  0.  0.  0. ]\n",
            " [0.  0.  0.  0.  0. ]\n",
            " [0.  1.  0.  0.  0. ]\n",
            " [0.  0.  0.  0.  0. ]]\n",
            "Reward is: 0\n",
            "GridWorld Environment: None\n",
            "Reward 0\n",
            "Agent's action is  3\n"
          ]
        },
        {
          "output_type": "display_data",
          "data": {
            "text/plain": [
              "<Figure size 432x288 with 1 Axes>"
            ],
            "image/png": "[encoded data removed]"
          },
          "metadata": {
            "needs_background": "light"
          }
        },
        {
          "output_type": "display_data",
          "data": {
            "text/plain": [
              "<IPython.core.display.Javascript object>"
            ],
            "application/javascript": [
              "window[\"7947fed2-cf37-11ec-a82b-0242ac1c0002\"] = google.colab.output.getActiveOutputArea();\n",
              "//# sourceURL=js_4771f9aed8"
            ]
          },
          "metadata": {}
        },
        {
          "output_type": "display_data",
          "data": {
            "text/plain": [
              "<IPython.core.display.Javascript object>"
            ],
            "application/javascript": [
              "window[\"79484dce-cf37-11ec-a82b-0242ac1c0002\"] = document.querySelector(\"#id4-0-0\");\n",
              "//# sourceURL=js_57910ee787"
            ]
          },
          "metadata": {}
        },
        {
          "output_type": "display_data",
          "data": {
            "text/plain": [
              "<IPython.core.display.Javascript object>"
            ],
            "application/javascript": [
              "window[\"7948cbfa-cf37-11ec-a82b-0242ac1c0002\"] = google.colab.output.setActiveOutputArea(window[\"79484dce-cf37-11ec-a82b-0242ac1c0002\"]);\n",
              "//# sourceURL=js_46762d1e83"
            ]
          },
          "metadata": {}
        },
        {
          "output_type": "display_data",
          "data": {
            "text/plain": [
              "<IPython.core.display.Javascript object>"
            ],
            "application/javascript": [
              "window[\"79677a00-cf37-11ec-a82b-0242ac1c0002\"] = google.colab.output.setActiveOutputArea(window[\"7947fed2-cf37-11ec-a82b-0242ac1c0002\"]);\n",
              "//# sourceURL=js_675eaf7b44"
            ]
          },
          "metadata": {}
        },
        {
          "output_type": "stream",
          "name": "stdout",
          "text": [
            "Timesteps are: 78\n",
            "State is: [[0.  0.  0.  0.  0.5]\n",
            " [0.  0.  0.  0.  0. ]\n",
            " [0.  0.  0.  0.  0. ]\n",
            " [0.  0.  1.  0.  0. ]\n",
            " [0.  0.  0.  0.  0. ]]\n",
            "Reward is: 0\n",
            "GridWorld Environment: None\n",
            "Reward 0\n",
            "Agent's action is  2\n"
          ]
        },
        {
          "output_type": "display_data",
          "data": {
            "text/plain": [
              "<Figure size 432x288 with 1 Axes>"
            ],
            "image/png": "[encoded data removed]"
          },
          "metadata": {
            "needs_background": "light"
          }
        },
        {
          "output_type": "display_data",
          "data": {
            "text/plain": [
              "<IPython.core.display.Javascript object>"
            ],
            "application/javascript": [
              "window[\"7a1922aa-cf37-11ec-a82b-0242ac1c0002\"] = google.colab.output.getActiveOutputArea();\n",
              "//# sourceURL=js_8d16136cbe"
            ]
          },
          "metadata": {}
        },
        {
          "output_type": "display_data",
          "data": {
            "text/plain": [
              "<IPython.core.display.Javascript object>"
            ],
            "application/javascript": [
              "window[\"7a1a338e-cf37-11ec-a82b-0242ac1c0002\"] = document.querySelector(\"#id4-0-0\");\n",
              "//# sourceURL=js_fc8410562c"
            ]
          },
          "metadata": {}
        },
        {
          "output_type": "display_data",
          "data": {
            "text/plain": [
              "<IPython.core.display.Javascript object>"
            ],
            "application/javascript": [
              "window[\"7a1a9c20-cf37-11ec-a82b-0242ac1c0002\"] = google.colab.output.setActiveOutputArea(window[\"7a1a338e-cf37-11ec-a82b-0242ac1c0002\"]);\n",
              "//# sourceURL=js_04288fa90f"
            ]
          },
          "metadata": {}
        },
        {
          "output_type": "display_data",
          "data": {
            "text/plain": [
              "<IPython.core.display.Javascript object>"
            ],
            "application/javascript": [
              "window[\"7a3794f6-cf37-11ec-a82b-0242ac1c0002\"] = google.colab.output.setActiveOutputArea(window[\"7a1922aa-cf37-11ec-a82b-0242ac1c0002\"]);\n",
              "//# sourceURL=js_54cad5d409"
            ]
          },
          "metadata": {}
        },
        {
          "output_type": "stream",
          "name": "stdout",
          "text": [
            "Timesteps are: 79\n",
            "State is: [[0.  0.  0.  0.  0.5]\n",
            " [0.  0.  0.  0.  0. ]\n",
            " [0.  0.  0.  0.  0. ]\n",
            " [0.  1.  0.  0.  0. ]\n",
            " [0.  0.  0.  0.  0. ]]\n",
            "Reward is: 0\n",
            "GridWorld Environment: None\n",
            "Reward 0\n",
            "Agent's action is  3\n"
          ]
        },
        {
          "output_type": "display_data",
          "data": {
            "text/plain": [
              "<Figure size 432x288 with 1 Axes>"
            ],
            "image/png": "[encoded data removed]"
          },
          "metadata": {
            "needs_background": "light"
          }
        },
        {
          "output_type": "display_data",
          "data": {
            "text/plain": [
              "<IPython.core.display.Javascript object>"
            ],
            "application/javascript": [
              "window[\"7ae7a936-cf37-11ec-a82b-0242ac1c0002\"] = google.colab.output.getActiveOutputArea();\n",
              "//# sourceURL=js_db5b068589"
            ]
          },
          "metadata": {}
        },
        {
          "output_type": "display_data",
          "data": {
            "text/plain": [
              "<IPython.core.display.Javascript object>"
            ],
            "application/javascript": [
              "window[\"7ae80d90-cf37-11ec-a82b-0242ac1c0002\"] = document.querySelector(\"#id4-0-0\");\n",
              "//# sourceURL=js_0a04286e96"
            ]
          },
          "metadata": {}
        },
        {
          "output_type": "display_data",
          "data": {
            "text/plain": [
              "<IPython.core.display.Javascript object>"
            ],
            "application/javascript": [
              "window[\"7ae885d6-cf37-11ec-a82b-0242ac1c0002\"] = google.colab.output.setActiveOutputArea(window[\"7ae80d90-cf37-11ec-a82b-0242ac1c0002\"]);\n",
              "//# sourceURL=js_f806072b0a"
            ]
          },
          "metadata": {}
        },
        {
          "output_type": "display_data",
          "data": {
            "text/plain": [
              "<IPython.core.display.Javascript object>"
            ],
            "application/javascript": [
              "window[\"7b04ada6-cf37-11ec-a82b-0242ac1c0002\"] = google.colab.output.setActiveOutputArea(window[\"7ae7a936-cf37-11ec-a82b-0242ac1c0002\"]);\n",
              "//# sourceURL=js_8c623c6fae"
            ]
          },
          "metadata": {}
        },
        {
          "output_type": "stream",
          "name": "stdout",
          "text": [
            "Timesteps are: 80\n",
            "State is: [[0.  0.  0.  0.  0.5]\n",
            " [0.  0.  0.  0.  0. ]\n",
            " [0.  0.  0.  0.  0. ]\n",
            " [0.  0.  1.  0.  0. ]\n",
            " [0.  0.  0.  0.  0. ]]\n",
            "Reward is: 0\n",
            "GridWorld Environment: None\n",
            "Reward 0\n",
            "Agent's action is  2\n"
          ]
        },
        {
          "output_type": "display_data",
          "data": {
            "text/plain": [
              "<Figure size 432x288 with 1 Axes>"
            ],
            "image/png": "[encoded data removed]"
          },
          "metadata": {
            "needs_background": "light"
          }
        },
        {
          "output_type": "display_data",
          "data": {
            "text/plain": [
              "<IPython.core.display.Javascript object>"
            ],
            "application/javascript": [
              "window[\"7bb42d94-cf37-11ec-a82b-0242ac1c0002\"] = google.colab.output.getActiveOutputArea();\n",
              "//# sourceURL=js_3ee8cf4e33"
            ]
          },
          "metadata": {}
        },
        {
          "output_type": "display_data",
          "data": {
            "text/plain": [
              "<IPython.core.display.Javascript object>"
            ],
            "application/javascript": [
              "window[\"7bb497fc-cf37-11ec-a82b-0242ac1c0002\"] = document.querySelector(\"#id4-0-0\");\n",
              "//# sourceURL=js_bc611e1677"
            ]
          },
          "metadata": {}
        },
        {
          "output_type": "display_data",
          "data": {
            "text/plain": [
              "<IPython.core.display.Javascript object>"
            ],
            "application/javascript": [
              "window[\"7bb4f3b4-cf37-11ec-a82b-0242ac1c0002\"] = google.colab.output.setActiveOutputArea(window[\"7bb497fc-cf37-11ec-a82b-0242ac1c0002\"]);\n",
              "//# sourceURL=js_740552ab48"
            ]
          },
          "metadata": {}
        },
        {
          "output_type": "display_data",
          "data": {
            "text/plain": [
              "<IPython.core.display.Javascript object>"
            ],
            "application/javascript": [
              "window[\"7bd7699e-cf37-11ec-a82b-0242ac1c0002\"] = google.colab.output.setActiveOutputArea(window[\"7bb42d94-cf37-11ec-a82b-0242ac1c0002\"]);\n",
              "//# sourceURL=js_aa0ae3f277"
            ]
          },
          "metadata": {}
        },
        {
          "output_type": "stream",
          "name": "stdout",
          "text": [
            "Timesteps are: 81\n",
            "State is: [[0.  0.  0.  0.  0.5]\n",
            " [0.  0.  0.  0.  0. ]\n",
            " [0.  0.  0.  0.  0. ]\n",
            " [0.  1.  0.  0.  0. ]\n",
            " [0.  0.  0.  0.  0. ]]\n",
            "Reward is: 0\n",
            "GridWorld Environment: None\n",
            "Reward 0\n",
            "Agent's action is  3\n"
          ]
        },
        {
          "output_type": "display_data",
          "data": {
            "text/plain": [
              "<Figure size 432x288 with 1 Axes>"
            ],
            "image/png": "[encoded data removed]"
          },
          "metadata": {
            "needs_background": "light"
          }
        },
        {
          "output_type": "display_data",
          "data": {
            "text/plain": [
              "<IPython.core.display.Javascript object>"
            ],
            "application/javascript": [
              "window[\"7c8622ea-cf37-11ec-a82b-0242ac1c0002\"] = google.colab.output.getActiveOutputArea();\n",
              "//# sourceURL=js_f062dd5c2e"
            ]
          },
          "metadata": {}
        },
        {
          "output_type": "display_data",
          "data": {
            "text/plain": [
              "<IPython.core.display.Javascript object>"
            ],
            "application/javascript": [
              "window[\"7c868f50-cf37-11ec-a82b-0242ac1c0002\"] = document.querySelector(\"#id4-0-0\");\n",
              "//# sourceURL=js_f832b9655b"
            ]
          },
          "metadata": {}
        },
        {
          "output_type": "display_data",
          "data": {
            "text/plain": [
              "<IPython.core.display.Javascript object>"
            ],
            "application/javascript": [
              "window[\"7c86e63a-cf37-11ec-a82b-0242ac1c0002\"] = google.colab.output.setActiveOutputArea(window[\"7c868f50-cf37-11ec-a82b-0242ac1c0002\"]);\n",
              "//# sourceURL=js_db70199ac5"
            ]
          },
          "metadata": {}
        },
        {
          "output_type": "display_data",
          "data": {
            "text/plain": [
              "<IPython.core.display.Javascript object>"
            ],
            "application/javascript": [
              "window[\"7ca328cc-cf37-11ec-a82b-0242ac1c0002\"] = google.colab.output.setActiveOutputArea(window[\"7c8622ea-cf37-11ec-a82b-0242ac1c0002\"]);\n",
              "//# sourceURL=js_0d33fcaf6a"
            ]
          },
          "metadata": {}
        },
        {
          "output_type": "stream",
          "name": "stdout",
          "text": [
            "Timesteps are: 82\n",
            "State is: [[0.  0.  0.  0.  0.5]\n",
            " [0.  0.  0.  0.  0. ]\n",
            " [0.  0.  0.  0.  0. ]\n",
            " [0.  0.  1.  0.  0. ]\n",
            " [0.  0.  0.  0.  0. ]]\n",
            "Reward is: 0\n",
            "GridWorld Environment: None\n",
            "Reward 0\n",
            "Agent's action is  2\n"
          ]
        },
        {
          "output_type": "display_data",
          "data": {
            "text/plain": [
              "<Figure size 432x288 with 1 Axes>"
            ],
            "image/png": "[encoded data removed]"
          },
          "metadata": {
            "needs_background": "light"
          }
        },
        {
          "output_type": "display_data",
          "data": {
            "text/plain": [
              "<IPython.core.display.Javascript object>"
            ],
            "application/javascript": [
              "window[\"7d524384-cf37-11ec-a82b-0242ac1c0002\"] = google.colab.output.getActiveOutputArea();\n",
              "//# sourceURL=js_861735b6fa"
            ]
          },
          "metadata": {}
        },
        {
          "output_type": "display_data",
          "data": {
            "text/plain": [
              "<IPython.core.display.Javascript object>"
            ],
            "application/javascript": [
              "window[\"7d52a23e-cf37-11ec-a82b-0242ac1c0002\"] = document.querySelector(\"#id4-0-0\");\n",
              "//# sourceURL=js_c458ac1b25"
            ]
          },
          "metadata": {}
        },
        {
          "output_type": "display_data",
          "data": {
            "text/plain": [
              "<IPython.core.display.Javascript object>"
            ],
            "application/javascript": [
              "window[\"7d52f658-cf37-11ec-a82b-0242ac1c0002\"] = google.colab.output.setActiveOutputArea(window[\"7d52a23e-cf37-11ec-a82b-0242ac1c0002\"]);\n",
              "//# sourceURL=js_18cf32dffc"
            ]
          },
          "metadata": {}
        },
        {
          "output_type": "display_data",
          "data": {
            "text/plain": [
              "<IPython.core.display.Javascript object>"
            ],
            "application/javascript": [
              "window[\"7d6e3102-cf37-11ec-a82b-0242ac1c0002\"] = google.colab.output.setActiveOutputArea(window[\"7d524384-cf37-11ec-a82b-0242ac1c0002\"]);\n",
              "//# sourceURL=js_f2e304994f"
            ]
          },
          "metadata": {}
        },
        {
          "output_type": "stream",
          "name": "stdout",
          "text": [
            "Timesteps are: 83\n",
            "State is: [[0.  0.  0.  0.  0.5]\n",
            " [0.  0.  0.  0.  0. ]\n",
            " [0.  0.  1.  0.  0. ]\n",
            " [0.  0.  0.  0.  0. ]\n",
            " [0.  0.  0.  0.  0. ]]\n",
            "Reward is: 0\n",
            "GridWorld Environment: None\n",
            "Reward 0\n",
            "Agent's action is  1\n"
          ]
        },
        {
          "output_type": "display_data",
          "data": {
            "text/plain": [
              "<Figure size 432x288 with 1 Axes>"
            ],
            "image/png": "[encoded data removed]"
          },
          "metadata": {
            "needs_background": "light"
          }
        },
        {
          "output_type": "display_data",
          "data": {
            "text/plain": [
              "<IPython.core.display.Javascript object>"
            ],
            "application/javascript": [
              "window[\"7e1fc534-cf37-11ec-a82b-0242ac1c0002\"] = google.colab.output.getActiveOutputArea();\n",
              "//# sourceURL=js_0b92c88c91"
            ]
          },
          "metadata": {}
        },
        {
          "output_type": "display_data",
          "data": {
            "text/plain": [
              "<IPython.core.display.Javascript object>"
            ],
            "application/javascript": [
              "window[\"7e203a32-cf37-11ec-a82b-0242ac1c0002\"] = document.querySelector(\"#id4-0-0\");\n",
              "//# sourceURL=js_bef35ac8f0"
            ]
          },
          "metadata": {}
        },
        {
          "output_type": "display_data",
          "data": {
            "text/plain": [
              "<IPython.core.display.Javascript object>"
            ],
            "application/javascript": [
              "window[\"7e209dd8-cf37-11ec-a82b-0242ac1c0002\"] = google.colab.output.setActiveOutputArea(window[\"7e203a32-cf37-11ec-a82b-0242ac1c0002\"]);\n",
              "//# sourceURL=js_301a1e6bcd"
            ]
          },
          "metadata": {}
        },
        {
          "output_type": "display_data",
          "data": {
            "text/plain": [
              "<IPython.core.display.Javascript object>"
            ],
            "application/javascript": [
              "window[\"7e3b5cae-cf37-11ec-a82b-0242ac1c0002\"] = google.colab.output.setActiveOutputArea(window[\"7e1fc534-cf37-11ec-a82b-0242ac1c0002\"]);\n",
              "//# sourceURL=js_5ecfe3c40c"
            ]
          },
          "metadata": {}
        },
        {
          "output_type": "stream",
          "name": "stdout",
          "text": [
            "Timesteps are: 84\n",
            "State is: [[0.  0.  0.  0.  0.5]\n",
            " [0.  0.  0.  0.  0. ]\n",
            " [0.  0.  0.  0.  0. ]\n",
            " [0.  0.  1.  0.  0. ]\n",
            " [0.  0.  0.  0.  0. ]]\n",
            "Reward is: 0\n",
            "GridWorld Environment: None\n",
            "Reward 0\n",
            "Agent's action is  0\n"
          ]
        },
        {
          "output_type": "display_data",
          "data": {
            "text/plain": [
              "<Figure size 432x288 with 1 Axes>"
            ],
            "image/png": "[encoded data removed]"
          },
          "metadata": {
            "needs_background": "light"
          }
        },
        {
          "output_type": "display_data",
          "data": {
            "text/plain": [
              "<IPython.core.display.Javascript object>"
            ],
            "application/javascript": [
              "window[\"7eebd5d4-cf37-11ec-a82b-0242ac1c0002\"] = google.colab.output.getActiveOutputArea();\n",
              "//# sourceURL=js_0713bc2768"
            ]
          },
          "metadata": {}
        },
        {
          "output_type": "display_data",
          "data": {
            "text/plain": [
              "<IPython.core.display.Javascript object>"
            ],
            "application/javascript": [
              "window[\"7eec2dae-cf37-11ec-a82b-0242ac1c0002\"] = document.querySelector(\"#id4-0-0\");\n",
              "//# sourceURL=js_409dbc413a"
            ]
          },
          "metadata": {}
        },
        {
          "output_type": "display_data",
          "data": {
            "text/plain": [
              "<IPython.core.display.Javascript object>"
            ],
            "application/javascript": [
              "window[\"7eec8786-cf37-11ec-a82b-0242ac1c0002\"] = google.colab.output.setActiveOutputArea(window[\"7eec2dae-cf37-11ec-a82b-0242ac1c0002\"]);\n",
              "//# sourceURL=js_e788a07466"
            ]
          },
          "metadata": {}
        },
        {
          "output_type": "display_data",
          "data": {
            "text/plain": [
              "<IPython.core.display.Javascript object>"
            ],
            "application/javascript": [
              "window[\"7f098ff2-cf37-11ec-a82b-0242ac1c0002\"] = google.colab.output.setActiveOutputArea(window[\"7eebd5d4-cf37-11ec-a82b-0242ac1c0002\"]);\n",
              "//# sourceURL=js_9639c931f9"
            ]
          },
          "metadata": {}
        },
        {
          "output_type": "stream",
          "name": "stdout",
          "text": [
            "Timesteps are: 85\n",
            "State is: [[0.  0.  0.  0.  0.5]\n",
            " [0.  0.  0.  0.  0. ]\n",
            " [0.  0.  0.  0.  0. ]\n",
            " [0.  1.  0.  0.  0. ]\n",
            " [0.  0.  0.  0.  0. ]]\n",
            "Reward is: 0\n",
            "GridWorld Environment: None\n",
            "Reward 0\n",
            "Agent's action is  3\n"
          ]
        },
        {
          "output_type": "display_data",
          "data": {
            "text/plain": [
              "<Figure size 432x288 with 1 Axes>"
            ],
            "image/png": "[encoded data removed]"
          },
          "metadata": {
            "needs_background": "light"
          }
        },
        {
          "output_type": "display_data",
          "data": {
            "text/plain": [
              "<IPython.core.display.Javascript object>"
            ],
            "application/javascript": [
              "window[\"7fb9987a-cf37-11ec-a82b-0242ac1c0002\"] = google.colab.output.getActiveOutputArea();\n",
              "//# sourceURL=js_e8b4446868"
            ]
          },
          "metadata": {}
        },
        {
          "output_type": "display_data",
          "data": {
            "text/plain": [
              "<IPython.core.display.Javascript object>"
            ],
            "application/javascript": [
              "window[\"7fba45e0-cf37-11ec-a82b-0242ac1c0002\"] = document.querySelector(\"#id4-0-0\");\n",
              "//# sourceURL=js_781fcf568d"
            ]
          },
          "metadata": {}
        },
        {
          "output_type": "display_data",
          "data": {
            "text/plain": [
              "<IPython.core.display.Javascript object>"
            ],
            "application/javascript": [
              "window[\"7fbabaf2-cf37-11ec-a82b-0242ac1c0002\"] = google.colab.output.setActiveOutputArea(window[\"7fba45e0-cf37-11ec-a82b-0242ac1c0002\"]);\n",
              "//# sourceURL=js_e3070b1f73"
            ]
          },
          "metadata": {}
        },
        {
          "output_type": "display_data",
          "data": {
            "text/plain": [
              "<IPython.core.display.Javascript object>"
            ],
            "application/javascript": [
              "window[\"7fd810fc-cf37-11ec-a82b-0242ac1c0002\"] = google.colab.output.setActiveOutputArea(window[\"7fb9987a-cf37-11ec-a82b-0242ac1c0002\"]);\n",
              "//# sourceURL=js_67589f5ddc"
            ]
          },
          "metadata": {}
        },
        {
          "output_type": "stream",
          "name": "stdout",
          "text": [
            "Timesteps are: 86\n",
            "State is: [[0.  0.  0.  0.  0.5]\n",
            " [0.  0.  0.  0.  0. ]\n",
            " [0.  0.  0.  0.  0. ]\n",
            " [0.  0.  1.  0.  0. ]\n",
            " [0.  0.  0.  0.  0. ]]\n",
            "Reward is: 0\n",
            "GridWorld Environment: None\n",
            "Reward 0\n",
            "Agent's action is  2\n"
          ]
        },
        {
          "output_type": "display_data",
          "data": {
            "text/plain": [
              "<Figure size 432x288 with 1 Axes>"
            ],
            "image/png": "[encoded data removed]"
          },
          "metadata": {
            "needs_background": "light"
          }
        },
        {
          "output_type": "display_data",
          "data": {
            "text/plain": [
              "<IPython.core.display.Javascript object>"
            ],
            "application/javascript": [
              "window[\"80932e14-cf37-11ec-a82b-0242ac1c0002\"] = google.colab.output.getActiveOutputArea();\n",
              "//# sourceURL=js_c3590005fe"
            ]
          },
          "metadata": {}
        },
        {
          "output_type": "display_data",
          "data": {
            "text/plain": [
              "<IPython.core.display.Javascript object>"
            ],
            "application/javascript": [
              "window[\"809381d4-cf37-11ec-a82b-0242ac1c0002\"] = document.querySelector(\"#id4-0-0\");\n",
              "//# sourceURL=js_f25b59e6f2"
            ]
          },
          "metadata": {}
        },
        {
          "output_type": "display_data",
          "data": {
            "text/plain": [
              "<IPython.core.display.Javascript object>"
            ],
            "application/javascript": [
              "window[\"8093d04e-cf37-11ec-a82b-0242ac1c0002\"] = google.colab.output.setActiveOutputArea(window[\"809381d4-cf37-11ec-a82b-0242ac1c0002\"]);\n",
              "//# sourceURL=js_b7b2dadb24"
            ]
          },
          "metadata": {}
        },
        {
          "output_type": "display_data",
          "data": {
            "text/plain": [
              "<IPython.core.display.Javascript object>"
            ],
            "application/javascript": [
              "window[\"80aef568-cf37-11ec-a82b-0242ac1c0002\"] = google.colab.output.setActiveOutputArea(window[\"80932e14-cf37-11ec-a82b-0242ac1c0002\"]);\n",
              "//# sourceURL=js_40e1637843"
            ]
          },
          "metadata": {}
        },
        {
          "output_type": "stream",
          "name": "stdout",
          "text": [
            "Timesteps are: 87\n",
            "State is: [[0.  0.  0.  0.  0.5]\n",
            " [0.  0.  0.  0.  0. ]\n",
            " [0.  0.  0.  0.  0. ]\n",
            " [0.  1.  0.  0.  0. ]\n",
            " [0.  0.  0.  0.  0. ]]\n",
            "Reward is: 0\n",
            "GridWorld Environment: None\n",
            "Reward 0\n",
            "Agent's action is  3\n"
          ]
        },
        {
          "output_type": "display_data",
          "data": {
            "text/plain": [
              "<Figure size 432x288 with 1 Axes>"
            ],
            "image/png": "[encoded data removed]"
          },
          "metadata": {
            "needs_background": "light"
          }
        },
        {
          "output_type": "display_data",
          "data": {
            "text/plain": [
              "<IPython.core.display.Javascript object>"
            ],
            "application/javascript": [
              "window[\"815e5d64-cf37-11ec-a82b-0242ac1c0002\"] = google.colab.output.getActiveOutputArea();\n",
              "//# sourceURL=js_9851711f14"
            ]
          },
          "metadata": {}
        },
        {
          "output_type": "display_data",
          "data": {
            "text/plain": [
              "<IPython.core.display.Javascript object>"
            ],
            "application/javascript": [
              "window[\"815f38ce-cf37-11ec-a82b-0242ac1c0002\"] = document.querySelector(\"#id4-0-0\");\n",
              "//# sourceURL=js_a3d4aa5f73"
            ]
          },
          "metadata": {}
        },
        {
          "output_type": "display_data",
          "data": {
            "text/plain": [
              "<IPython.core.display.Javascript object>"
            ],
            "application/javascript": [
              "window[\"815fd36a-cf37-11ec-a82b-0242ac1c0002\"] = google.colab.output.setActiveOutputArea(window[\"815f38ce-cf37-11ec-a82b-0242ac1c0002\"]);\n",
              "//# sourceURL=js_5372c36cce"
            ]
          },
          "metadata": {}
        },
        {
          "output_type": "display_data",
          "data": {
            "text/plain": [
              "<IPython.core.display.Javascript object>"
            ],
            "application/javascript": [
              "window[\"817eb302-cf37-11ec-a82b-0242ac1c0002\"] = google.colab.output.setActiveOutputArea(window[\"815e5d64-cf37-11ec-a82b-0242ac1c0002\"]);\n",
              "//# sourceURL=js_59b9d1c5bc"
            ]
          },
          "metadata": {}
        },
        {
          "output_type": "stream",
          "name": "stdout",
          "text": [
            "Timesteps are: 88\n",
            "State is: [[0.  0.  0.  0.  0.5]\n",
            " [0.  0.  0.  0.  0. ]\n",
            " [0.  0.  0.  0.  0. ]\n",
            " [0.  0.  1.  0.  0. ]\n",
            " [0.  0.  0.  0.  0. ]]\n",
            "Reward is: 0\n",
            "GridWorld Environment: None\n",
            "Reward 0\n",
            "Agent's action is  2\n"
          ]
        },
        {
          "output_type": "display_data",
          "data": {
            "text/plain": [
              "<Figure size 432x288 with 1 Axes>"
            ],
            "image/png": "[encoded data removed]"
          },
          "metadata": {
            "needs_background": "light"
          }
        },
        {
          "output_type": "display_data",
          "data": {
            "text/plain": [
              "<IPython.core.display.Javascript object>"
            ],
            "application/javascript": [
              "window[\"822ef96a-cf37-11ec-a82b-0242ac1c0002\"] = google.colab.output.getActiveOutputArea();\n",
              "//# sourceURL=js_cb6d061498"
            ]
          },
          "metadata": {}
        },
        {
          "output_type": "display_data",
          "data": {
            "text/plain": [
              "<IPython.core.display.Javascript object>"
            ],
            "application/javascript": [
              "window[\"822f5a90-cf37-11ec-a82b-0242ac1c0002\"] = document.querySelector(\"#id4-0-0\");\n",
              "//# sourceURL=js_d1d16b9757"
            ]
          },
          "metadata": {}
        },
        {
          "output_type": "display_data",
          "data": {
            "text/plain": [
              "<IPython.core.display.Javascript object>"
            ],
            "application/javascript": [
              "window[\"822fb666-cf37-11ec-a82b-0242ac1c0002\"] = google.colab.output.setActiveOutputArea(window[\"822f5a90-cf37-11ec-a82b-0242ac1c0002\"]);\n",
              "//# sourceURL=js_4ee2800c86"
            ]
          },
          "metadata": {}
        },
        {
          "output_type": "display_data",
          "data": {
            "text/plain": [
              "<IPython.core.display.Javascript object>"
            ],
            "application/javascript": [
              "window[\"824d0a36-cf37-11ec-a82b-0242ac1c0002\"] = google.colab.output.setActiveOutputArea(window[\"822ef96a-cf37-11ec-a82b-0242ac1c0002\"]);\n",
              "//# sourceURL=js_077087e85c"
            ]
          },
          "metadata": {}
        },
        {
          "output_type": "stream",
          "name": "stdout",
          "text": [
            "Timesteps are: 89\n",
            "State is: [[0.  0.  0.  0.  0.5]\n",
            " [0.  0.  0.  0.  0. ]\n",
            " [0.  0.  0.  0.  0. ]\n",
            " [0.  0.  0.  0.  0. ]\n",
            " [0.  0.  1.  0.  0. ]]\n",
            "Reward is: 0\n",
            "GridWorld Environment: None\n",
            "Reward 0\n",
            "Agent's action is  0\n"
          ]
        },
        {
          "output_type": "display_data",
          "data": {
            "text/plain": [
              "<Figure size 432x288 with 1 Axes>"
            ],
            "image/png": "[encoded data removed]"
          },
          "metadata": {
            "needs_background": "light"
          }
        },
        {
          "output_type": "display_data",
          "data": {
            "text/plain": [
              "<IPython.core.display.Javascript object>"
            ],
            "application/javascript": [
              "window[\"82fb447a-cf37-11ec-a82b-0242ac1c0002\"] = google.colab.output.getActiveOutputArea();\n",
              "//# sourceURL=js_6d2502cabd"
            ]
          },
          "metadata": {}
        },
        {
          "output_type": "display_data",
          "data": {
            "text/plain": [
              "<IPython.core.display.Javascript object>"
            ],
            "application/javascript": [
              "window[\"82fbac94-cf37-11ec-a82b-0242ac1c0002\"] = document.querySelector(\"#id4-0-0\");\n",
              "//# sourceURL=js_585b445d1f"
            ]
          },
          "metadata": {}
        },
        {
          "output_type": "display_data",
          "data": {
            "text/plain": [
              "<IPython.core.display.Javascript object>"
            ],
            "application/javascript": [
              "window[\"82fc0cd4-cf37-11ec-a82b-0242ac1c0002\"] = google.colab.output.setActiveOutputArea(window[\"82fbac94-cf37-11ec-a82b-0242ac1c0002\"]);\n",
              "//# sourceURL=js_c78c8762d2"
            ]
          },
          "metadata": {}
        },
        {
          "output_type": "display_data",
          "data": {
            "text/plain": [
              "<IPython.core.display.Javascript object>"
            ],
            "application/javascript": [
              "window[\"831725fa-cf37-11ec-a82b-0242ac1c0002\"] = google.colab.output.setActiveOutputArea(window[\"82fb447a-cf37-11ec-a82b-0242ac1c0002\"]);\n",
              "//# sourceURL=js_fe867a819a"
            ]
          },
          "metadata": {}
        },
        {
          "output_type": "stream",
          "name": "stdout",
          "text": [
            "negative rock -5\n",
            "Timesteps are: 90\n",
            "State is: [[0.  0.  0.  0.  0.5]\n",
            " [0.  0.  0.  0.  0. ]\n",
            " [0.  0.  0.  0.  0. ]\n",
            " [0.  0.  0.  0.  0. ]\n",
            " [0.  0.  0.  1.  0. ]]\n",
            "Reward is: -5\n",
            "GridWorld Environment: None\n",
            "Reward -5\n",
            "Agent's action is  2\n"
          ]
        },
        {
          "output_type": "display_data",
          "data": {
            "text/plain": [
              "<Figure size 432x288 with 1 Axes>"
            ],
            "image/png": "[encoded data removed]"
          },
          "metadata": {
            "needs_background": "light"
          }
        },
        {
          "output_type": "display_data",
          "data": {
            "text/plain": [
              "<IPython.core.display.Javascript object>"
            ],
            "application/javascript": [
              "window[\"83c9a766-cf37-11ec-a82b-0242ac1c0002\"] = google.colab.output.getActiveOutputArea();\n",
              "//# sourceURL=js_bfec672566"
            ]
          },
          "metadata": {}
        },
        {
          "output_type": "display_data",
          "data": {
            "text/plain": [
              "<IPython.core.display.Javascript object>"
            ],
            "application/javascript": [
              "window[\"83ca3730-cf37-11ec-a82b-0242ac1c0002\"] = document.querySelector(\"#id4-0-0\");\n",
              "//# sourceURL=js_74989ffc7b"
            ]
          },
          "metadata": {}
        },
        {
          "output_type": "display_data",
          "data": {
            "text/plain": [
              "<IPython.core.display.Javascript object>"
            ],
            "application/javascript": [
              "window[\"83caa562-cf37-11ec-a82b-0242ac1c0002\"] = google.colab.output.setActiveOutputArea(window[\"83ca3730-cf37-11ec-a82b-0242ac1c0002\"]);\n",
              "//# sourceURL=js_76e84978ed"
            ]
          },
          "metadata": {}
        },
        {
          "output_type": "display_data",
          "data": {
            "text/plain": [
              "<IPython.core.display.Javascript object>"
            ],
            "application/javascript": [
              "window[\"83ea0880-cf37-11ec-a82b-0242ac1c0002\"] = google.colab.output.setActiveOutputArea(window[\"83c9a766-cf37-11ec-a82b-0242ac1c0002\"]);\n",
              "//# sourceURL=js_f47144ef3d"
            ]
          },
          "metadata": {}
        },
        {
          "output_type": "stream",
          "name": "stdout",
          "text": [
            "Timesteps are: 91\n",
            "State is: [[0.  0.  0.  0.  0.5]\n",
            " [0.  0.  0.  0.  0. ]\n",
            " [0.  0.  0.  0.  0. ]\n",
            " [0.  0.  0.  0.  0. ]\n",
            " [0.  0.  0.  0.  1. ]]\n",
            "Reward is: 0\n",
            "GridWorld Environment: None\n",
            "Reward 0\n",
            "Agent's action is  2\n"
          ]
        },
        {
          "output_type": "display_data",
          "data": {
            "text/plain": [
              "<Figure size 432x288 with 1 Axes>"
            ],
            "image/png": "[encoded data removed]"
          },
          "metadata": {
            "needs_background": "light"
          }
        },
        {
          "output_type": "display_data",
          "data": {
            "text/plain": [
              "<IPython.core.display.Javascript object>"
            ],
            "application/javascript": [
              "window[\"849aece0-cf37-11ec-a82b-0242ac1c0002\"] = google.colab.output.getActiveOutputArea();\n",
              "//# sourceURL=js_93c611f01b"
            ]
          },
          "metadata": {}
        },
        {
          "output_type": "display_data",
          "data": {
            "text/plain": [
              "<IPython.core.display.Javascript object>"
            ],
            "application/javascript": [
              "window[\"849b4a0a-cf37-11ec-a82b-0242ac1c0002\"] = document.querySelector(\"#id4-0-0\");\n",
              "//# sourceURL=js_6278d20cc7"
            ]
          },
          "metadata": {}
        },
        {
          "output_type": "display_data",
          "data": {
            "text/plain": [
              "<IPython.core.display.Javascript object>"
            ],
            "application/javascript": [
              "window[\"849b9e92-cf37-11ec-a82b-0242ac1c0002\"] = google.colab.output.setActiveOutputArea(window[\"849b4a0a-cf37-11ec-a82b-0242ac1c0002\"]);\n",
              "//# sourceURL=js_0abb909bb3"
            ]
          },
          "metadata": {}
        },
        {
          "output_type": "display_data",
          "data": {
            "text/plain": [
              "<IPython.core.display.Javascript object>"
            ],
            "application/javascript": [
              "window[\"84bffc92-cf37-11ec-a82b-0242ac1c0002\"] = google.colab.output.setActiveOutputArea(window[\"849aece0-cf37-11ec-a82b-0242ac1c0002\"]);\n",
              "//# sourceURL=js_29fc504ee8"
            ]
          },
          "metadata": {}
        },
        {
          "output_type": "stream",
          "name": "stdout",
          "text": [
            "Timesteps are: 92\n",
            "State is: [[0.  0.  0.  0.  0.5]\n",
            " [0.  0.  0.  0.  0. ]\n",
            " [0.  0.  0.  0.  0. ]\n",
            " [0.  0.  0.  0.  0. ]\n",
            " [0.  0.  0.  0.  1. ]]\n",
            "Reward is: 0\n",
            "GridWorld Environment: None\n",
            "Reward 0\n",
            "Agent's action is  0\n"
          ]
        },
        {
          "output_type": "display_data",
          "data": {
            "text/plain": [
              "<Figure size 432x288 with 1 Axes>"
            ],
            "image/png": "[encoded data removed]"
          },
          "metadata": {
            "needs_background": "light"
          }
        },
        {
          "output_type": "display_data",
          "data": {
            "text/plain": [
              "<IPython.core.display.Javascript object>"
            ],
            "application/javascript": [
              "window[\"856ff7fa-cf37-11ec-a82b-0242ac1c0002\"] = google.colab.output.getActiveOutputArea();\n",
              "//# sourceURL=js_78643b048f"
            ]
          },
          "metadata": {}
        },
        {
          "output_type": "display_data",
          "data": {
            "text/plain": [
              "<IPython.core.display.Javascript object>"
            ],
            "application/javascript": [
              "window[\"85704b10-cf37-11ec-a82b-0242ac1c0002\"] = document.querySelector(\"#id4-0-0\");\n",
              "//# sourceURL=js_e9bafd46b7"
            ]
          },
          "metadata": {}
        },
        {
          "output_type": "display_data",
          "data": {
            "text/plain": [
              "<IPython.core.display.Javascript object>"
            ],
            "application/javascript": [
              "window[\"85710cee-cf37-11ec-a82b-0242ac1c0002\"] = google.colab.output.setActiveOutputArea(window[\"85704b10-cf37-11ec-a82b-0242ac1c0002\"]);\n",
              "//# sourceURL=js_b8dec0467a"
            ]
          },
          "metadata": {}
        },
        {
          "output_type": "display_data",
          "data": {
            "text/plain": [
              "<IPython.core.display.Javascript object>"
            ],
            "application/javascript": [
              "window[\"858e3b16-cf37-11ec-a82b-0242ac1c0002\"] = google.colab.output.setActiveOutputArea(window[\"856ff7fa-cf37-11ec-a82b-0242ac1c0002\"]);\n",
              "//# sourceURL=js_45dd975515"
            ]
          },
          "metadata": {}
        },
        {
          "output_type": "stream",
          "name": "stdout",
          "text": [
            "Timesteps are: 93\n",
            "State is: [[0.  0.  0.  0.  0.5]\n",
            " [0.  0.  0.  0.  0. ]\n",
            " [0.  0.  0.  0.  0. ]\n",
            " [0.  0.  0.  0.  0. ]\n",
            " [0.  0.  0.  0.  1. ]]\n",
            "Reward is: 0\n",
            "GridWorld Environment: None\n",
            "Reward 0\n",
            "Agent's action is  0\n"
          ]
        },
        {
          "output_type": "display_data",
          "data": {
            "text/plain": [
              "<Figure size 432x288 with 1 Axes>"
            ],
            "image/png": "[encoded data removed]"
          },
          "metadata": {
            "needs_background": "light"
          }
        },
        {
          "output_type": "display_data",
          "data": {
            "text/plain": [
              "<IPython.core.display.Javascript object>"
            ],
            "application/javascript": [
              "window[\"863f6b02-cf37-11ec-a82b-0242ac1c0002\"] = google.colab.output.getActiveOutputArea();\n",
              "//# sourceURL=js_e68e82cf36"
            ]
          },
          "metadata": {}
        },
        {
          "output_type": "display_data",
          "data": {
            "text/plain": [
              "<IPython.core.display.Javascript object>"
            ],
            "application/javascript": [
              "window[\"864009e0-cf37-11ec-a82b-0242ac1c0002\"] = document.querySelector(\"#id4-0-0\");\n",
              "//# sourceURL=js_fff242492b"
            ]
          },
          "metadata": {}
        },
        {
          "output_type": "display_data",
          "data": {
            "text/plain": [
              "<IPython.core.display.Javascript object>"
            ],
            "application/javascript": [
              "window[\"8640d17c-cf37-11ec-a82b-0242ac1c0002\"] = google.colab.output.setActiveOutputArea(window[\"864009e0-cf37-11ec-a82b-0242ac1c0002\"]);\n",
              "//# sourceURL=js_29990fd387"
            ]
          },
          "metadata": {}
        },
        {
          "output_type": "display_data",
          "data": {
            "text/plain": [
              "<IPython.core.display.Javascript object>"
            ],
            "application/javascript": [
              "window[\"865fd7c0-cf37-11ec-a82b-0242ac1c0002\"] = google.colab.output.setActiveOutputArea(window[\"863f6b02-cf37-11ec-a82b-0242ac1c0002\"]);\n",
              "//# sourceURL=js_9ceabe97ec"
            ]
          },
          "metadata": {}
        },
        {
          "output_type": "stream",
          "name": "stdout",
          "text": [
            "Timesteps are: 94\n",
            "State is: [[0.  0.  0.  0.  0.5]\n",
            " [0.  0.  0.  0.  0. ]\n",
            " [0.  0.  0.  0.  0. ]\n",
            " [0.  0.  0.  0.  0. ]\n",
            " [0.  0.  0.  0.  1. ]]\n",
            "Reward is: 0\n",
            "GridWorld Environment: None\n",
            "Reward 0\n",
            "Agent's action is  2\n"
          ]
        },
        {
          "output_type": "display_data",
          "data": {
            "text/plain": [
              "<Figure size 432x288 with 1 Axes>"
            ],
            "image/png": "[encoded data removed]"
          },
          "metadata": {
            "needs_background": "light"
          }
        },
        {
          "output_type": "display_data",
          "data": {
            "text/plain": [
              "<IPython.core.display.Javascript object>"
            ],
            "application/javascript": [
              "window[\"87113600-cf37-11ec-a82b-0242ac1c0002\"] = google.colab.output.getActiveOutputArea();\n",
              "//# sourceURL=js_e58d7ed79f"
            ]
          },
          "metadata": {}
        },
        {
          "output_type": "display_data",
          "data": {
            "text/plain": [
              "<IPython.core.display.Javascript object>"
            ],
            "application/javascript": [
              "window[\"8711903c-cf37-11ec-a82b-0242ac1c0002\"] = document.querySelector(\"#id4-0-0\");\n",
              "//# sourceURL=js_0096d0b610"
            ]
          },
          "metadata": {}
        },
        {
          "output_type": "display_data",
          "data": {
            "text/plain": [
              "<IPython.core.display.Javascript object>"
            ],
            "application/javascript": [
              "window[\"8711e9f6-cf37-11ec-a82b-0242ac1c0002\"] = google.colab.output.setActiveOutputArea(window[\"8711903c-cf37-11ec-a82b-0242ac1c0002\"]);\n",
              "//# sourceURL=js_61d6d17582"
            ]
          },
          "metadata": {}
        },
        {
          "output_type": "display_data",
          "data": {
            "text/plain": [
              "<IPython.core.display.Javascript object>"
            ],
            "application/javascript": [
              "window[\"872d5ff6-cf37-11ec-a82b-0242ac1c0002\"] = google.colab.output.setActiveOutputArea(window[\"87113600-cf37-11ec-a82b-0242ac1c0002\"]);\n",
              "//# sourceURL=js_8416f853ab"
            ]
          },
          "metadata": {}
        },
        {
          "output_type": "stream",
          "name": "stdout",
          "text": [
            "Timesteps are: 95\n",
            "State is: [[0.  0.  0.  0.  0.5]\n",
            " [0.  0.  0.  0.  0. ]\n",
            " [0.  0.  0.  0.  0. ]\n",
            " [0.  0.  0.  0.  0. ]\n",
            " [0.  0.  0.  0.  1. ]]\n",
            "Reward is: 0\n",
            "GridWorld Environment: None\n",
            "Reward 0\n",
            "Agent's action is  2\n"
          ]
        },
        {
          "output_type": "display_data",
          "data": {
            "text/plain": [
              "<Figure size 432x288 with 1 Axes>"
            ],
            "image/png": "[encoded data removed]"
          },
          "metadata": {
            "needs_background": "light"
          }
        },
        {
          "output_type": "display_data",
          "data": {
            "text/plain": [
              "<IPython.core.display.Javascript object>"
            ],
            "application/javascript": [
              "window[\"87dd0ce4-cf37-11ec-a82b-0242ac1c0002\"] = google.colab.output.getActiveOutputArea();\n",
              "//# sourceURL=js_7e327613f4"
            ]
          },
          "metadata": {}
        },
        {
          "output_type": "display_data",
          "data": {
            "text/plain": [
              "<IPython.core.display.Javascript object>"
            ],
            "application/javascript": [
              "window[\"87dd7878-cf37-11ec-a82b-0242ac1c0002\"] = document.querySelector(\"#id4-0-0\");\n",
              "//# sourceURL=js_b5b1445335"
            ]
          },
          "metadata": {}
        },
        {
          "output_type": "display_data",
          "data": {
            "text/plain": [
              "<IPython.core.display.Javascript object>"
            ],
            "application/javascript": [
              "window[\"87ddd64c-cf37-11ec-a82b-0242ac1c0002\"] = google.colab.output.setActiveOutputArea(window[\"87dd7878-cf37-11ec-a82b-0242ac1c0002\"]);\n",
              "//# sourceURL=js_938be8435a"
            ]
          },
          "metadata": {}
        },
        {
          "output_type": "display_data",
          "data": {
            "text/plain": [
              "<IPython.core.display.Javascript object>"
            ],
            "application/javascript": [
              "window[\"87fa66cc-cf37-11ec-a82b-0242ac1c0002\"] = google.colab.output.setActiveOutputArea(window[\"87dd0ce4-cf37-11ec-a82b-0242ac1c0002\"]);\n",
              "//# sourceURL=js_f8b5b32c30"
            ]
          },
          "metadata": {}
        },
        {
          "output_type": "stream",
          "name": "stdout",
          "text": [
            "negative rock -6\n",
            "Timesteps are: 96\n",
            "State is: [[0.  0.  0.  0.  0.5]\n",
            " [0.  0.  0.  0.  0. ]\n",
            " [0.  0.  0.  0.  0. ]\n",
            " [0.  0.  0.  0.  1. ]\n",
            " [0.  0.  0.  0.  0. ]]\n",
            "Reward is: -6\n",
            "GridWorld Environment: None\n",
            "Reward -6\n",
            "Agent's action is  1\n"
          ]
        },
        {
          "output_type": "display_data",
          "data": {
            "text/plain": [
              "<Figure size 432x288 with 1 Axes>"
            ],
            "image/png": "[encoded data removed]"
          },
          "metadata": {
            "needs_background": "light"
          }
        },
        {
          "output_type": "display_data",
          "data": {
            "text/plain": [
              "<IPython.core.display.Javascript object>"
            ],
            "application/javascript": [
              "window[\"88aa5424-cf37-11ec-a82b-0242ac1c0002\"] = google.colab.output.getActiveOutputArea();\n",
              "//# sourceURL=js_17b78a5bb8"
            ]
          },
          "metadata": {}
        },
        {
          "output_type": "display_data",
          "data": {
            "text/plain": [
              "<IPython.core.display.Javascript object>"
            ],
            "application/javascript": [
              "window[\"88aab8e2-cf37-11ec-a82b-0242ac1c0002\"] = document.querySelector(\"#id4-0-0\");\n",
              "//# sourceURL=js_958e35ff27"
            ]
          },
          "metadata": {}
        },
        {
          "output_type": "display_data",
          "data": {
            "text/plain": [
              "<IPython.core.display.Javascript object>"
            ],
            "application/javascript": [
              "window[\"88ab16a2-cf37-11ec-a82b-0242ac1c0002\"] = google.colab.output.setActiveOutputArea(window[\"88aab8e2-cf37-11ec-a82b-0242ac1c0002\"]);\n",
              "//# sourceURL=js_74807c9e5b"
            ]
          },
          "metadata": {}
        },
        {
          "output_type": "display_data",
          "data": {
            "text/plain": [
              "<IPython.core.display.Javascript object>"
            ],
            "application/javascript": [
              "window[\"88c9b4b8-cf37-11ec-a82b-0242ac1c0002\"] = google.colab.output.setActiveOutputArea(window[\"88aa5424-cf37-11ec-a82b-0242ac1c0002\"]);\n",
              "//# sourceURL=js_64a0ba63db"
            ]
          },
          "metadata": {}
        },
        {
          "output_type": "stream",
          "name": "stdout",
          "text": [
            "Timesteps are: 97\n",
            "State is: [[0.  0.  0.  0.  0.5]\n",
            " [0.  0.  0.  0.  0. ]\n",
            " [0.  0.  0.  0.  0. ]\n",
            " [0.  0.  0.  1.  0. ]\n",
            " [0.  0.  0.  0.  0. ]]\n",
            "Reward is: 0\n",
            "GridWorld Environment: None\n",
            "Reward 0\n",
            "Agent's action is  3\n"
          ]
        },
        {
          "output_type": "display_data",
          "data": {
            "text/plain": [
              "<Figure size 432x288 with 1 Axes>"
            ],
            "image/png": "[encoded data removed]"
          },
          "metadata": {
            "needs_background": "light"
          }
        },
        {
          "output_type": "display_data",
          "data": {
            "text/plain": [
              "<IPython.core.display.Javascript object>"
            ],
            "application/javascript": [
              "window[\"8982036a-cf37-11ec-a82b-0242ac1c0002\"] = google.colab.output.getActiveOutputArea();\n",
              "//# sourceURL=js_46a698b8eb"
            ]
          },
          "metadata": {}
        },
        {
          "output_type": "display_data",
          "data": {
            "text/plain": [
              "<IPython.core.display.Javascript object>"
            ],
            "application/javascript": [
              "window[\"898265e4-cf37-11ec-a82b-0242ac1c0002\"] = document.querySelector(\"#id4-0-0\");\n",
              "//# sourceURL=js_5517066d11"
            ]
          },
          "metadata": {}
        },
        {
          "output_type": "display_data",
          "data": {
            "text/plain": [
              "<IPython.core.display.Javascript object>"
            ],
            "application/javascript": [
              "window[\"8982c02a-cf37-11ec-a82b-0242ac1c0002\"] = google.colab.output.setActiveOutputArea(window[\"898265e4-cf37-11ec-a82b-0242ac1c0002\"]);\n",
              "//# sourceURL=js_dc23d4b79a"
            ]
          },
          "metadata": {}
        },
        {
          "output_type": "display_data",
          "data": {
            "text/plain": [
              "<IPython.core.display.Javascript object>"
            ],
            "application/javascript": [
              "window[\"899e056a-cf37-11ec-a82b-0242ac1c0002\"] = google.colab.output.setActiveOutputArea(window[\"8982036a-cf37-11ec-a82b-0242ac1c0002\"]);\n",
              "//# sourceURL=js_185cf9b4e0"
            ]
          },
          "metadata": {}
        },
        {
          "output_type": "stream",
          "name": "stdout",
          "text": [
            "Timesteps are: 98\n",
            "State is: [[0.  0.  0.  0.  0.5]\n",
            " [0.  0.  0.  0.  0. ]\n",
            " [0.  0.  0.  1.  0. ]\n",
            " [0.  0.  0.  0.  0. ]\n",
            " [0.  0.  0.  0.  0. ]]\n",
            "Reward is: 0\n",
            "GridWorld Environment: None\n",
            "Reward 0\n",
            "Agent's action is  1\n"
          ]
        },
        {
          "output_type": "display_data",
          "data": {
            "text/plain": [
              "<Figure size 432x288 with 1 Axes>"
            ],
            "image/png": "[encoded data removed]"
          },
          "metadata": {
            "needs_background": "light"
          }
        },
        {
          "output_type": "display_data",
          "data": {
            "text/plain": [
              "<IPython.core.display.Javascript object>"
            ],
            "application/javascript": [
              "window[\"8a4dc784-cf37-11ec-a82b-0242ac1c0002\"] = google.colab.output.getActiveOutputArea();\n",
              "//# sourceURL=js_05cd9d4350"
            ]
          },
          "metadata": {}
        },
        {
          "output_type": "display_data",
          "data": {
            "text/plain": [
              "<IPython.core.display.Javascript object>"
            ],
            "application/javascript": [
              "window[\"8a4e26de-cf37-11ec-a82b-0242ac1c0002\"] = document.querySelector(\"#id4-0-0\");\n",
              "//# sourceURL=js_07e6cb4996"
            ]
          },
          "metadata": {}
        },
        {
          "output_type": "display_data",
          "data": {
            "text/plain": [
              "<IPython.core.display.Javascript object>"
            ],
            "application/javascript": [
              "window[\"8a4e82c8-cf37-11ec-a82b-0242ac1c0002\"] = google.colab.output.setActiveOutputArea(window[\"8a4e26de-cf37-11ec-a82b-0242ac1c0002\"]);\n",
              "//# sourceURL=js_bbe26a79a8"
            ]
          },
          "metadata": {}
        },
        {
          "output_type": "display_data",
          "data": {
            "text/plain": [
              "<IPython.core.display.Javascript object>"
            ],
            "application/javascript": [
              "window[\"8a69c736-cf37-11ec-a82b-0242ac1c0002\"] = google.colab.output.setActiveOutputArea(window[\"8a4dc784-cf37-11ec-a82b-0242ac1c0002\"]);\n",
              "//# sourceURL=js_bcd4950621"
            ]
          },
          "metadata": {}
        },
        {
          "output_type": "stream",
          "name": "stdout",
          "text": [
            "Timesteps are: 99\n",
            "State is: [[0.  0.  0.  0.  0.5]\n",
            " [0.  0.  0.  1.  0. ]\n",
            " [0.  0.  0.  0.  0. ]\n",
            " [0.  0.  0.  0.  0. ]\n",
            " [0.  0.  0.  0.  0. ]]\n",
            "Reward is: 0\n",
            "GridWorld Environment: None\n",
            "Reward 0\n",
            "Agent's action is  1\n"
          ]
        },
        {
          "output_type": "display_data",
          "data": {
            "text/plain": [
              "<Figure size 432x288 with 1 Axes>"
            ],
            "image/png": "[encoded data removed]"
          },
          "metadata": {
            "needs_background": "light"
          }
        },
        {
          "output_type": "display_data",
          "data": {
            "text/plain": [
              "<IPython.core.display.Javascript object>"
            ],
            "application/javascript": [
              "window[\"8b18bb24-cf37-11ec-a82b-0242ac1c0002\"] = google.colab.output.getActiveOutputArea();\n",
              "//# sourceURL=js_0e2afeb8ad"
            ]
          },
          "metadata": {}
        },
        {
          "output_type": "display_data",
          "data": {
            "text/plain": [
              "<IPython.core.display.Javascript object>"
            ],
            "application/javascript": [
              "window[\"8b191920-cf37-11ec-a82b-0242ac1c0002\"] = document.querySelector(\"#id4-0-0\");\n",
              "//# sourceURL=js_4d7069f4d7"
            ]
          },
          "metadata": {}
        },
        {
          "output_type": "display_data",
          "data": {
            "text/plain": [
              "<IPython.core.display.Javascript object>"
            ],
            "application/javascript": [
              "window[\"8b19742e-cf37-11ec-a82b-0242ac1c0002\"] = google.colab.output.setActiveOutputArea(window[\"8b191920-cf37-11ec-a82b-0242ac1c0002\"]);\n",
              "//# sourceURL=js_702b903880"
            ]
          },
          "metadata": {}
        },
        {
          "output_type": "display_data",
          "data": {
            "text/plain": [
              "<IPython.core.display.Javascript object>"
            ],
            "application/javascript": [
              "window[\"8b37a00c-cf37-11ec-a82b-0242ac1c0002\"] = google.colab.output.setActiveOutputArea(window[\"8b18bb24-cf37-11ec-a82b-0242ac1c0002\"]);\n",
              "//# sourceURL=js_be552e6517"
            ]
          },
          "metadata": {}
        },
        {
          "output_type": "stream",
          "name": "stdout",
          "text": [
            "Timesteps are: 100\n",
            "State is: [[0.  0.  0.  0.  0.5]\n",
            " [0.  0.  1.  0.  0. ]\n",
            " [0.  0.  0.  0.  0. ]\n",
            " [0.  0.  0.  0.  0. ]\n",
            " [0.  0.  0.  0.  0. ]]\n",
            "Reward is: 0\n",
            "GridWorld Environment: None\n",
            "Reward 0\n",
            "Agent's action is  3\n"
          ]
        },
        {
          "output_type": "display_data",
          "data": {
            "text/plain": [
              "<Figure size 432x288 with 1 Axes>"
            ],
            "image/png": "[encoded data removed]"
          },
          "metadata": {
            "needs_background": "light"
          }
        },
        {
          "output_type": "display_data",
          "data": {
            "text/plain": [
              "<IPython.core.display.Javascript object>"
            ],
            "application/javascript": [
              "window[\"8be8064a-cf37-11ec-a82b-0242ac1c0002\"] = google.colab.output.getActiveOutputArea();\n",
              "//# sourceURL=js_d7b8482a88"
            ]
          },
          "metadata": {}
        },
        {
          "output_type": "display_data",
          "data": {
            "text/plain": [
              "<IPython.core.display.Javascript object>"
            ],
            "application/javascript": [
              "window[\"8be86c16-cf37-11ec-a82b-0242ac1c0002\"] = document.querySelector(\"#id4-0-0\");\n",
              "//# sourceURL=js_88b1780c39"
            ]
          },
          "metadata": {}
        },
        {
          "output_type": "display_data",
          "data": {
            "text/plain": [
              "<IPython.core.display.Javascript object>"
            ],
            "application/javascript": [
              "window[\"8be8c49a-cf37-11ec-a82b-0242ac1c0002\"] = google.colab.output.setActiveOutputArea(window[\"8be86c16-cf37-11ec-a82b-0242ac1c0002\"]);\n",
              "//# sourceURL=js_70f0e5ed26"
            ]
          },
          "metadata": {}
        },
        {
          "output_type": "display_data",
          "data": {
            "text/plain": [
              "<IPython.core.display.Javascript object>"
            ],
            "application/javascript": [
              "window[\"8c06c7a6-cf37-11ec-a82b-0242ac1c0002\"] = google.colab.output.setActiveOutputArea(window[\"8be8064a-cf37-11ec-a82b-0242ac1c0002\"]);\n",
              "//# sourceURL=js_884d1212a8"
            ]
          },
          "metadata": {}
        },
        {
          "output_type": "stream",
          "name": "stdout",
          "text": [
            "Timesteps are: 101\n",
            "State is: [[0.  0.  0.  0.  0.5]\n",
            " [0.  1.  0.  0.  0. ]\n",
            " [0.  0.  0.  0.  0. ]\n",
            " [0.  0.  0.  0.  0. ]\n",
            " [0.  0.  0.  0.  0. ]]\n",
            "Reward is: 0\n",
            "GridWorld Environment: None\n",
            "Reward 0\n",
            "Agent's action is  3\n"
          ]
        },
        {
          "output_type": "display_data",
          "data": {
            "text/plain": [
              "<Figure size 432x288 with 1 Axes>"
            ],
            "image/png": "[encoded data removed]"
          },
          "metadata": {
            "needs_background": "light"
          }
        },
        {
          "output_type": "display_data",
          "data": {
            "text/plain": [
              "<IPython.core.display.Javascript object>"
            ],
            "application/javascript": [
              "window[\"8cb618c8-cf37-11ec-a82b-0242ac1c0002\"] = google.colab.output.getActiveOutputArea();\n",
              "//# sourceURL=js_705ac69cbb"
            ]
          },
          "metadata": {}
        },
        {
          "output_type": "display_data",
          "data": {
            "text/plain": [
              "<IPython.core.display.Javascript object>"
            ],
            "application/javascript": [
              "window[\"8cb68286-cf37-11ec-a82b-0242ac1c0002\"] = document.querySelector(\"#id4-0-0\");\n",
              "//# sourceURL=js_0e6651f32d"
            ]
          },
          "metadata": {}
        },
        {
          "output_type": "display_data",
          "data": {
            "text/plain": [
              "<IPython.core.display.Javascript object>"
            ],
            "application/javascript": [
              "window[\"8cb6e9f6-cf37-11ec-a82b-0242ac1c0002\"] = google.colab.output.setActiveOutputArea(window[\"8cb68286-cf37-11ec-a82b-0242ac1c0002\"]);\n",
              "//# sourceURL=js_e288df7e39"
            ]
          },
          "metadata": {}
        },
        {
          "output_type": "display_data",
          "data": {
            "text/plain": [
              "<IPython.core.display.Javascript object>"
            ],
            "application/javascript": [
              "window[\"8cd411a2-cf37-11ec-a82b-0242ac1c0002\"] = google.colab.output.setActiveOutputArea(window[\"8cb618c8-cf37-11ec-a82b-0242ac1c0002\"]);\n",
              "//# sourceURL=js_ac490f6428"
            ]
          },
          "metadata": {}
        },
        {
          "output_type": "stream",
          "name": "stdout",
          "text": [
            "Timesteps are: 102\n",
            "State is: [[0.  0.  0.  0.  0.5]\n",
            " [0.  0.  1.  0.  0. ]\n",
            " [0.  0.  0.  0.  0. ]\n",
            " [0.  0.  0.  0.  0. ]\n",
            " [0.  0.  0.  0.  0. ]]\n",
            "Reward is: 0\n",
            "GridWorld Environment: None\n",
            "Reward 0\n",
            "Agent's action is  2\n"
          ]
        },
        {
          "output_type": "display_data",
          "data": {
            "text/plain": [
              "<Figure size 432x288 with 1 Axes>"
            ],
            "image/png": "[encoded data removed]"
          },
          "metadata": {
            "needs_background": "light"
          }
        },
        {
          "output_type": "display_data",
          "data": {
            "text/plain": [
              "<IPython.core.display.Javascript object>"
            ],
            "application/javascript": [
              "window[\"8d85389c-cf37-11ec-a82b-0242ac1c0002\"] = google.colab.output.getActiveOutputArea();\n",
              "//# sourceURL=js_38b5443b90"
            ]
          },
          "metadata": {}
        },
        {
          "output_type": "display_data",
          "data": {
            "text/plain": [
              "<IPython.core.display.Javascript object>"
            ],
            "application/javascript": [
              "window[\"8d85f0ca-cf37-11ec-a82b-0242ac1c0002\"] = document.querySelector(\"#id4-0-0\");\n",
              "//# sourceURL=js_789460249d"
            ]
          },
          "metadata": {}
        },
        {
          "output_type": "display_data",
          "data": {
            "text/plain": [
              "<IPython.core.display.Javascript object>"
            ],
            "application/javascript": [
              "window[\"8d8678c4-cf37-11ec-a82b-0242ac1c0002\"] = google.colab.output.setActiveOutputArea(window[\"8d85f0ca-cf37-11ec-a82b-0242ac1c0002\"]);\n",
              "//# sourceURL=js_9d2b6a70c8"
            ]
          },
          "metadata": {}
        },
        {
          "output_type": "display_data",
          "data": {
            "text/plain": [
              "<IPython.core.display.Javascript object>"
            ],
            "application/javascript": [
              "window[\"8daeb4ba-cf37-11ec-a82b-0242ac1c0002\"] = google.colab.output.setActiveOutputArea(window[\"8d85389c-cf37-11ec-a82b-0242ac1c0002\"]);\n",
              "//# sourceURL=js_49051477f8"
            ]
          },
          "metadata": {}
        },
        {
          "output_type": "stream",
          "name": "stdout",
          "text": [
            "Timesteps are: 103\n",
            "State is: [[0.  0.  1.  0.  0.5]\n",
            " [0.  0.  0.  0.  0. ]\n",
            " [0.  0.  0.  0.  0. ]\n",
            " [0.  0.  0.  0.  0. ]\n",
            " [0.  0.  0.  0.  0. ]]\n",
            "Reward is: 0\n",
            "GridWorld Environment: None\n",
            "Reward 0\n",
            "Agent's action is  1\n"
          ]
        },
        {
          "output_type": "display_data",
          "data": {
            "text/plain": [
              "<Figure size 432x288 with 1 Axes>"
            ],
            "image/png": "[encoded data removed]"
          },
          "metadata": {
            "needs_background": "light"
          }
        },
        {
          "output_type": "display_data",
          "data": {
            "text/plain": [
              "<IPython.core.display.Javascript object>"
            ],
            "application/javascript": [
              "window[\"8e6258d0-cf37-11ec-a82b-0242ac1c0002\"] = google.colab.output.getActiveOutputArea();\n",
              "//# sourceURL=js_8f5e9da3b7"
            ]
          },
          "metadata": {}
        },
        {
          "output_type": "display_data",
          "data": {
            "text/plain": [
              "<IPython.core.display.Javascript object>"
            ],
            "application/javascript": [
              "window[\"8e62dfe4-cf37-11ec-a82b-0242ac1c0002\"] = document.querySelector(\"#id4-0-0\");\n",
              "//# sourceURL=js_96054b822b"
            ]
          },
          "metadata": {}
        },
        {
          "output_type": "display_data",
          "data": {
            "text/plain": [
              "<IPython.core.display.Javascript object>"
            ],
            "application/javascript": [
              "window[\"8e6330fc-cf37-11ec-a82b-0242ac1c0002\"] = google.colab.output.setActiveOutputArea(window[\"8e62dfe4-cf37-11ec-a82b-0242ac1c0002\"]);\n",
              "//# sourceURL=js_f3b8030564"
            ]
          },
          "metadata": {}
        },
        {
          "output_type": "display_data",
          "data": {
            "text/plain": [
              "<IPython.core.display.Javascript object>"
            ],
            "application/javascript": [
              "window[\"8e80a0ec-cf37-11ec-a82b-0242ac1c0002\"] = google.colab.output.setActiveOutputArea(window[\"8e6258d0-cf37-11ec-a82b-0242ac1c0002\"]);\n",
              "//# sourceURL=js_f9ba98aa1d"
            ]
          },
          "metadata": {}
        },
        {
          "output_type": "stream",
          "name": "stdout",
          "text": [
            "Timesteps are: 104\n",
            "State is: [[0.  0.  0.  0.  0.5]\n",
            " [0.  0.  1.  0.  0. ]\n",
            " [0.  0.  0.  0.  0. ]\n",
            " [0.  0.  0.  0.  0. ]\n",
            " [0.  0.  0.  0.  0. ]]\n",
            "Reward is: 0\n",
            "GridWorld Environment: None\n",
            "Reward 0\n",
            "Agent's action is  0\n"
          ]
        },
        {
          "output_type": "display_data",
          "data": {
            "text/plain": [
              "<Figure size 432x288 with 1 Axes>"
            ],
            "image/png": "[encoded data removed]"
          },
          "metadata": {
            "needs_background": "light"
          }
        },
        {
          "output_type": "display_data",
          "data": {
            "text/plain": [
              "<IPython.core.display.Javascript object>"
            ],
            "application/javascript": [
              "window[\"8f31548c-cf37-11ec-a82b-0242ac1c0002\"] = google.colab.output.getActiveOutputArea();\n",
              "//# sourceURL=js_c1cbf124f5"
            ]
          },
          "metadata": {}
        },
        {
          "output_type": "display_data",
          "data": {
            "text/plain": [
              "<IPython.core.display.Javascript object>"
            ],
            "application/javascript": [
              "window[\"8f328866-cf37-11ec-a82b-0242ac1c0002\"] = document.querySelector(\"#id4-0-0\");\n",
              "//# sourceURL=js_be6a7621bb"
            ]
          },
          "metadata": {}
        },
        {
          "output_type": "display_data",
          "data": {
            "text/plain": [
              "<IPython.core.display.Javascript object>"
            ],
            "application/javascript": [
              "window[\"8f3350ca-cf37-11ec-a82b-0242ac1c0002\"] = google.colab.output.setActiveOutputArea(window[\"8f328866-cf37-11ec-a82b-0242ac1c0002\"]);\n",
              "//# sourceURL=js_6f95b899a4"
            ]
          },
          "metadata": {}
        },
        {
          "output_type": "display_data",
          "data": {
            "text/plain": [
              "<IPython.core.display.Javascript object>"
            ],
            "application/javascript": [
              "window[\"8f503b90-cf37-11ec-a82b-0242ac1c0002\"] = google.colab.output.setActiveOutputArea(window[\"8f31548c-cf37-11ec-a82b-0242ac1c0002\"]);\n",
              "//# sourceURL=js_ed675c50d9"
            ]
          },
          "metadata": {}
        },
        {
          "output_type": "stream",
          "name": "stdout",
          "text": [
            "Timesteps are: 105\n",
            "State is: [[0.  0.  0.  0.  0.5]\n",
            " [0.  1.  0.  0.  0. ]\n",
            " [0.  0.  0.  0.  0. ]\n",
            " [0.  0.  0.  0.  0. ]\n",
            " [0.  0.  0.  0.  0. ]]\n",
            "Reward is: 0\n",
            "GridWorld Environment: None\n",
            "Reward 0\n",
            "Agent's action is  3\n"
          ]
        },
        {
          "output_type": "display_data",
          "data": {
            "text/plain": [
              "<Figure size 432x288 with 1 Axes>"
            ],
            "image/png": "[encoded data removed]"
          },
          "metadata": {
            "needs_background": "light"
          }
        },
        {
          "output_type": "display_data",
          "data": {
            "text/plain": [
              "<IPython.core.display.Javascript object>"
            ],
            "application/javascript": [
              "window[\"900427ae-cf37-11ec-a82b-0242ac1c0002\"] = google.colab.output.getActiveOutputArea();\n",
              "//# sourceURL=js_fb652c5d4d"
            ]
          },
          "metadata": {}
        },
        {
          "output_type": "display_data",
          "data": {
            "text/plain": [
              "<IPython.core.display.Javascript object>"
            ],
            "application/javascript": [
              "window[\"90049d88-cf37-11ec-a82b-0242ac1c0002\"] = document.querySelector(\"#id4-0-0\");\n",
              "//# sourceURL=js_b3b2932988"
            ]
          },
          "metadata": {}
        },
        {
          "output_type": "display_data",
          "data": {
            "text/plain": [
              "<IPython.core.display.Javascript object>"
            ],
            "application/javascript": [
              "window[\"90051830-cf37-11ec-a82b-0242ac1c0002\"] = google.colab.output.setActiveOutputArea(window[\"90049d88-cf37-11ec-a82b-0242ac1c0002\"]);\n",
              "//# sourceURL=js_27b74ed701"
            ]
          },
          "metadata": {}
        },
        {
          "output_type": "display_data",
          "data": {
            "text/plain": [
              "<IPython.core.display.Javascript object>"
            ],
            "application/javascript": [
              "window[\"9025aeec-cf37-11ec-a82b-0242ac1c0002\"] = google.colab.output.setActiveOutputArea(window[\"900427ae-cf37-11ec-a82b-0242ac1c0002\"]);\n",
              "//# sourceURL=js_2185c02d67"
            ]
          },
          "metadata": {}
        },
        {
          "output_type": "stream",
          "name": "stdout",
          "text": [
            "Timesteps are: 106\n",
            "State is: [[0.  0.  0.  0.  0.5]\n",
            " [0.  0.  1.  0.  0. ]\n",
            " [0.  0.  0.  0.  0. ]\n",
            " [0.  0.  0.  0.  0. ]\n",
            " [0.  0.  0.  0.  0. ]]\n",
            "Reward is: 0\n",
            "GridWorld Environment: None\n",
            "Reward 0\n",
            "Agent's action is  2\n"
          ]
        },
        {
          "output_type": "display_data",
          "data": {
            "text/plain": [
              "<Figure size 432x288 with 1 Axes>"
            ],
            "image/png": "[encoded data removed]"
          },
          "metadata": {
            "needs_background": "light"
          }
        },
        {
          "output_type": "display_data",
          "data": {
            "text/plain": [
              "<IPython.core.display.Javascript object>"
            ],
            "application/javascript": [
              "window[\"90d791ca-cf37-11ec-a82b-0242ac1c0002\"] = google.colab.output.getActiveOutputArea();\n",
              "//# sourceURL=js_8385371936"
            ]
          },
          "metadata": {}
        },
        {
          "output_type": "display_data",
          "data": {
            "text/plain": [
              "<IPython.core.display.Javascript object>"
            ],
            "application/javascript": [
              "window[\"90d80b78-cf37-11ec-a82b-0242ac1c0002\"] = document.querySelector(\"#id4-0-0\");\n",
              "//# sourceURL=js_ec407215ca"
            ]
          },
          "metadata": {}
        },
        {
          "output_type": "display_data",
          "data": {
            "text/plain": [
              "<IPython.core.display.Javascript object>"
            ],
            "application/javascript": [
              "window[\"90d89868-cf37-11ec-a82b-0242ac1c0002\"] = google.colab.output.setActiveOutputArea(window[\"90d80b78-cf37-11ec-a82b-0242ac1c0002\"]);\n",
              "//# sourceURL=js_afd2e31f4f"
            ]
          },
          "metadata": {}
        },
        {
          "output_type": "display_data",
          "data": {
            "text/plain": [
              "<IPython.core.display.Javascript object>"
            ],
            "application/javascript": [
              "window[\"90f7c030-cf37-11ec-a82b-0242ac1c0002\"] = google.colab.output.setActiveOutputArea(window[\"90d791ca-cf37-11ec-a82b-0242ac1c0002\"]);\n",
              "//# sourceURL=js_ce27a0f612"
            ]
          },
          "metadata": {}
        },
        {
          "output_type": "stream",
          "name": "stdout",
          "text": [
            "Timesteps are: 107\n",
            "State is: [[0.  0.  0.  0.  0.5]\n",
            " [0.  0.  0.  1.  0. ]\n",
            " [0.  0.  0.  0.  0. ]\n",
            " [0.  0.  0.  0.  0. ]\n",
            " [0.  0.  0.  0.  0. ]]\n",
            "Reward is: 0\n",
            "GridWorld Environment: None\n",
            "Reward 0\n",
            "Agent's action is  2\n"
          ]
        },
        {
          "output_type": "display_data",
          "data": {
            "text/plain": [
              "<Figure size 432x288 with 1 Axes>"
            ],
            "image/png": "[encoded data removed]"
          },
          "metadata": {
            "needs_background": "light"
          }
        },
        {
          "output_type": "display_data",
          "data": {
            "text/plain": [
              "<IPython.core.display.Javascript object>"
            ],
            "application/javascript": [
              "window[\"91ab67c0-cf37-11ec-a82b-0242ac1c0002\"] = google.colab.output.getActiveOutputArea();\n",
              "//# sourceURL=js_22e7369b3f"
            ]
          },
          "metadata": {}
        },
        {
          "output_type": "display_data",
          "data": {
            "text/plain": [
              "<IPython.core.display.Javascript object>"
            ],
            "application/javascript": [
              "window[\"91abe5b0-cf37-11ec-a82b-0242ac1c0002\"] = document.querySelector(\"#id4-0-0\");\n",
              "//# sourceURL=js_8eb88bc5f4"
            ]
          },
          "metadata": {}
        },
        {
          "output_type": "display_data",
          "data": {
            "text/plain": [
              "<IPython.core.display.Javascript object>"
            ],
            "application/javascript": [
              "window[\"91ac955a-cf37-11ec-a82b-0242ac1c0002\"] = google.colab.output.setActiveOutputArea(window[\"91abe5b0-cf37-11ec-a82b-0242ac1c0002\"]);\n",
              "//# sourceURL=js_eb2a57f449"
            ]
          },
          "metadata": {}
        },
        {
          "output_type": "display_data",
          "data": {
            "text/plain": [
              "<IPython.core.display.Javascript object>"
            ],
            "application/javascript": [
              "window[\"91ca5072-cf37-11ec-a82b-0242ac1c0002\"] = google.colab.output.setActiveOutputArea(window[\"91ab67c0-cf37-11ec-a82b-0242ac1c0002\"]);\n",
              "//# sourceURL=js_2fa070d3bd"
            ]
          },
          "metadata": {}
        },
        {
          "output_type": "stream",
          "name": "stdout",
          "text": [
            "Timesteps are: 108\n",
            "State is: [[0.  0.  0.  0.  0.5]\n",
            " [0.  0.  0.  0.  1. ]\n",
            " [0.  0.  0.  0.  0. ]\n",
            " [0.  0.  0.  0.  0. ]\n",
            " [0.  0.  0.  0.  0. ]]\n",
            "Reward is: 0\n",
            "GridWorld Environment: None\n",
            "Reward 0\n",
            "Agent's action is  2\n"
          ]
        },
        {
          "output_type": "display_data",
          "data": {
            "text/plain": [
              "<Figure size 432x288 with 1 Axes>"
            ],
            "image/png": "[encoded data removed]"
          },
          "metadata": {
            "needs_background": "light"
          }
        },
        {
          "output_type": "display_data",
          "data": {
            "text/plain": [
              "<IPython.core.display.Javascript object>"
            ],
            "application/javascript": [
              "window[\"928456de-cf37-11ec-a82b-0242ac1c0002\"] = google.colab.output.getActiveOutputArea();\n",
              "//# sourceURL=js_c1e1cad6df"
            ]
          },
          "metadata": {}
        },
        {
          "output_type": "display_data",
          "data": {
            "text/plain": [
              "<IPython.core.display.Javascript object>"
            ],
            "application/javascript": [
              "window[\"9284b476-cf37-11ec-a82b-0242ac1c0002\"] = document.querySelector(\"#id4-0-0\");\n",
              "//# sourceURL=js_83caf9c859"
            ]
          },
          "metadata": {}
        },
        {
          "output_type": "display_data",
          "data": {
            "text/plain": [
              "<IPython.core.display.Javascript object>"
            ],
            "application/javascript": [
              "window[\"928513d0-cf37-11ec-a82b-0242ac1c0002\"] = google.colab.output.setActiveOutputArea(window[\"9284b476-cf37-11ec-a82b-0242ac1c0002\"]);\n",
              "//# sourceURL=js_c8997cca84"
            ]
          },
          "metadata": {}
        },
        {
          "output_type": "display_data",
          "data": {
            "text/plain": [
              "<IPython.core.display.Javascript object>"
            ],
            "application/javascript": [
              "window[\"92a1818c-cf37-11ec-a82b-0242ac1c0002\"] = google.colab.output.setActiveOutputArea(window[\"928456de-cf37-11ec-a82b-0242ac1c0002\"]);\n",
              "//# sourceURL=js_152c021729"
            ]
          },
          "metadata": {}
        },
        {
          "output_type": "stream",
          "name": "stdout",
          "text": [
            "Timesteps are: 109\n",
            "State is: [[0.  0.  0.  0.  0.5]\n",
            " [0.  0.  0.  0.  0. ]\n",
            " [0.  0.  0.  0.  0. ]\n",
            " [0.  0.  0.  0.  0. ]\n",
            " [0.  0.  0.  0.  0. ]]\n",
            "Reward is: 1\n",
            "GridWorld Environment: None\n",
            "Time step is 109\n",
            "Reward 1\n",
            "Agent's action is  1\n"
          ]
        },
        {
          "output_type": "display_data",
          "data": {
            "text/plain": [
              "<Figure size 432x288 with 1 Axes>"
            ],
            "image/png": "[encoded data removed]"
          },
          "metadata": {
            "needs_background": "light"
          }
        },
        {
          "output_type": "display_data",
          "data": {
            "text/plain": [
              "<IPython.core.display.Javascript object>"
            ],
            "application/javascript": [
              "window[\"9351d9b0-cf37-11ec-a82b-0242ac1c0002\"] = google.colab.output.getActiveOutputArea();\n",
              "//# sourceURL=js_55994a6d79"
            ]
          },
          "metadata": {}
        },
        {
          "output_type": "display_data",
          "data": {
            "text/plain": [
              "<IPython.core.display.Javascript object>"
            ],
            "application/javascript": [
              "window[\"93525f3e-cf37-11ec-a82b-0242ac1c0002\"] = document.querySelector(\"#id4-0-0\");\n",
              "//# sourceURL=js_10fe873380"
            ]
          },
          "metadata": {}
        },
        {
          "output_type": "display_data",
          "data": {
            "text/plain": [
              "<IPython.core.display.Javascript object>"
            ],
            "application/javascript": [
              "window[\"9352c460-cf37-11ec-a82b-0242ac1c0002\"] = google.colab.output.setActiveOutputArea(window[\"93525f3e-cf37-11ec-a82b-0242ac1c0002\"]);\n",
              "//# sourceURL=js_955c66b6b4"
            ]
          },
          "metadata": {}
        },
        {
          "output_type": "display_data",
          "data": {
            "text/plain": [
              "<Figure size 432x288 with 1 Axes>"
            ],
            "image/png": "[encoded data removed]"
          },
          "metadata": {
            "needs_background": "light"
          }
        },
        {
          "output_type": "display_data",
          "data": {
            "text/plain": [
              "<IPython.core.display.Javascript object>"
            ],
            "application/javascript": [
              "window[\"9371f466-cf37-11ec-a82b-0242ac1c0002\"] = google.colab.output.setActiveOutputArea(window[\"9351d9b0-cf37-11ec-a82b-0242ac1c0002\"]);\n",
              "//# sourceURL=js_e198ff0692"
            ]
          },
          "metadata": {}
        }
      ]
    }
  ]
}